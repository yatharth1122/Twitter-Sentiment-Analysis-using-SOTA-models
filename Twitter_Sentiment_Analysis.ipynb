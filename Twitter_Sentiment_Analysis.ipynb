{
 "cells": [
  {
   "cell_type": "code",
   "execution_count": 1,
   "id": "oZE4kG5VcoCq",
   "metadata": {
    "colab": {
     "base_uri": "https://localhost:8080/"
    },
    "id": "oZE4kG5VcoCq",
    "outputId": "37762298-5a77-4424-ac3b-cbc9d7734ba1"
   },
   "outputs": [
    {
     "name": "stdout",
     "output_type": "stream",
     "text": [
      "Collecting transformers\n",
      "  Downloading transformers-4.9.2-py3-none-any.whl (2.6 MB)\n",
      "\u001b[?25l\r",
      "\u001b[K     |▏                               | 10 kB 20.5 MB/s eta 0:00:01\r",
      "\u001b[K     |▎                               | 20 kB 27.3 MB/s eta 0:00:01\r",
      "\u001b[K     |▍                               | 30 kB 26.4 MB/s eta 0:00:01\r",
      "\u001b[K     |▌                               | 40 kB 19.9 MB/s eta 0:00:01\r",
      "\u001b[K     |▋                               | 51 kB 15.0 MB/s eta 0:00:01\r",
      "\u001b[K     |▊                               | 61 kB 12.6 MB/s eta 0:00:01\r",
      "\u001b[K     |▉                               | 71 kB 12.7 MB/s eta 0:00:01\r",
      "\u001b[K     |█                               | 81 kB 14.0 MB/s eta 0:00:01\r",
      "\u001b[K     |█▏                              | 92 kB 14.4 MB/s eta 0:00:01\r",
      "\u001b[K     |█▎                              | 102 kB 10.9 MB/s eta 0:00:01\r",
      "\u001b[K     |█▍                              | 112 kB 10.9 MB/s eta 0:00:01\r",
      "\u001b[K     |█▌                              | 122 kB 10.9 MB/s eta 0:00:01\r",
      "\u001b[K     |█▋                              | 133 kB 10.9 MB/s eta 0:00:01\r",
      "\u001b[K     |█▊                              | 143 kB 10.9 MB/s eta 0:00:01\r",
      "\u001b[K     |██                              | 153 kB 10.9 MB/s eta 0:00:01\r",
      "\u001b[K     |██                              | 163 kB 10.9 MB/s eta 0:00:01\r",
      "\u001b[K     |██▏                             | 174 kB 10.9 MB/s eta 0:00:01\r",
      "\u001b[K     |██▎                             | 184 kB 10.9 MB/s eta 0:00:01\r",
      "\u001b[K     |██▍                             | 194 kB 10.9 MB/s eta 0:00:01\r",
      "\u001b[K     |██▌                             | 204 kB 10.9 MB/s eta 0:00:01\r",
      "\u001b[K     |██▋                             | 215 kB 10.9 MB/s eta 0:00:01\r",
      "\u001b[K     |██▉                             | 225 kB 10.9 MB/s eta 0:00:01\r",
      "\u001b[K     |███                             | 235 kB 10.9 MB/s eta 0:00:01\r",
      "\u001b[K     |███                             | 245 kB 10.9 MB/s eta 0:00:01\r",
      "\u001b[K     |███▏                            | 256 kB 10.9 MB/s eta 0:00:01\r",
      "\u001b[K     |███▎                            | 266 kB 10.9 MB/s eta 0:00:01\r",
      "\u001b[K     |███▍                            | 276 kB 10.9 MB/s eta 0:00:01\r",
      "\u001b[K     |███▌                            | 286 kB 10.9 MB/s eta 0:00:01\r",
      "\u001b[K     |███▊                            | 296 kB 10.9 MB/s eta 0:00:01\r",
      "\u001b[K     |███▉                            | 307 kB 10.9 MB/s eta 0:00:01\r",
      "\u001b[K     |████                            | 317 kB 10.9 MB/s eta 0:00:01\r",
      "\u001b[K     |████                            | 327 kB 10.9 MB/s eta 0:00:01\r",
      "\u001b[K     |████▏                           | 337 kB 10.9 MB/s eta 0:00:01\r",
      "\u001b[K     |████▎                           | 348 kB 10.9 MB/s eta 0:00:01\r",
      "\u001b[K     |████▍                           | 358 kB 10.9 MB/s eta 0:00:01\r",
      "\u001b[K     |████▌                           | 368 kB 10.9 MB/s eta 0:00:01\r",
      "\u001b[K     |████▊                           | 378 kB 10.9 MB/s eta 0:00:01\r",
      "\u001b[K     |████▉                           | 389 kB 10.9 MB/s eta 0:00:01\r",
      "\u001b[K     |█████                           | 399 kB 10.9 MB/s eta 0:00:01\r",
      "\u001b[K     |█████                           | 409 kB 10.9 MB/s eta 0:00:01\r",
      "\u001b[K     |█████▏                          | 419 kB 10.9 MB/s eta 0:00:01\r",
      "\u001b[K     |█████▎                          | 430 kB 10.9 MB/s eta 0:00:01\r",
      "\u001b[K     |█████▍                          | 440 kB 10.9 MB/s eta 0:00:01\r",
      "\u001b[K     |█████▋                          | 450 kB 10.9 MB/s eta 0:00:01\r",
      "\u001b[K     |█████▊                          | 460 kB 10.9 MB/s eta 0:00:01\r",
      "\u001b[K     |█████▉                          | 471 kB 10.9 MB/s eta 0:00:01\r",
      "\u001b[K     |██████                          | 481 kB 10.9 MB/s eta 0:00:01\r",
      "\u001b[K     |██████                          | 491 kB 10.9 MB/s eta 0:00:01\r",
      "\u001b[K     |██████▏                         | 501 kB 10.9 MB/s eta 0:00:01\r",
      "\u001b[K     |██████▎                         | 512 kB 10.9 MB/s eta 0:00:01\r",
      "\u001b[K     |██████▌                         | 522 kB 10.9 MB/s eta 0:00:01\r",
      "\u001b[K     |██████▋                         | 532 kB 10.9 MB/s eta 0:00:01\r",
      "\u001b[K     |██████▊                         | 542 kB 10.9 MB/s eta 0:00:01\r",
      "\u001b[K     |██████▉                         | 552 kB 10.9 MB/s eta 0:00:01\r",
      "\u001b[K     |███████                         | 563 kB 10.9 MB/s eta 0:00:01\r",
      "\u001b[K     |███████                         | 573 kB 10.9 MB/s eta 0:00:01\r",
      "\u001b[K     |███████▏                        | 583 kB 10.9 MB/s eta 0:00:01\r",
      "\u001b[K     |███████▍                        | 593 kB 10.9 MB/s eta 0:00:01\r",
      "\u001b[K     |███████▌                        | 604 kB 10.9 MB/s eta 0:00:01\r",
      "\u001b[K     |███████▋                        | 614 kB 10.9 MB/s eta 0:00:01\r",
      "\u001b[K     |███████▊                        | 624 kB 10.9 MB/s eta 0:00:01\r",
      "\u001b[K     |███████▉                        | 634 kB 10.9 MB/s eta 0:00:01\r",
      "\u001b[K     |████████                        | 645 kB 10.9 MB/s eta 0:00:01\r",
      "\u001b[K     |████████                        | 655 kB 10.9 MB/s eta 0:00:01\r",
      "\u001b[K     |████████▏                       | 665 kB 10.9 MB/s eta 0:00:01\r",
      "\u001b[K     |████████▍                       | 675 kB 10.9 MB/s eta 0:00:01\r",
      "\u001b[K     |████████▌                       | 686 kB 10.9 MB/s eta 0:00:01\r",
      "\u001b[K     |████████▋                       | 696 kB 10.9 MB/s eta 0:00:01\r",
      "\u001b[K     |████████▊                       | 706 kB 10.9 MB/s eta 0:00:01\r",
      "\u001b[K     |████████▉                       | 716 kB 10.9 MB/s eta 0:00:01\r",
      "\u001b[K     |█████████                       | 727 kB 10.9 MB/s eta 0:00:01\r",
      "\u001b[K     |█████████                       | 737 kB 10.9 MB/s eta 0:00:01\r",
      "\u001b[K     |█████████▎                      | 747 kB 10.9 MB/s eta 0:00:01\r",
      "\u001b[K     |█████████▍                      | 757 kB 10.9 MB/s eta 0:00:01\r",
      "\u001b[K     |█████████▌                      | 768 kB 10.9 MB/s eta 0:00:01\r",
      "\u001b[K     |█████████▋                      | 778 kB 10.9 MB/s eta 0:00:01\r",
      "\u001b[K     |█████████▊                      | 788 kB 10.9 MB/s eta 0:00:01\r",
      "\u001b[K     |█████████▉                      | 798 kB 10.9 MB/s eta 0:00:01\r",
      "\u001b[K     |██████████                      | 808 kB 10.9 MB/s eta 0:00:01\r",
      "\u001b[K     |██████████▏                     | 819 kB 10.9 MB/s eta 0:00:01\r",
      "\u001b[K     |██████████▎                     | 829 kB 10.9 MB/s eta 0:00:01\r",
      "\u001b[K     |██████████▍                     | 839 kB 10.9 MB/s eta 0:00:01\r",
      "\u001b[K     |██████████▌                     | 849 kB 10.9 MB/s eta 0:00:01\r",
      "\u001b[K     |██████████▋                     | 860 kB 10.9 MB/s eta 0:00:01\r",
      "\u001b[K     |██████████▊                     | 870 kB 10.9 MB/s eta 0:00:01\r",
      "\u001b[K     |██████████▉                     | 880 kB 10.9 MB/s eta 0:00:01\r",
      "\u001b[K     |███████████                     | 890 kB 10.9 MB/s eta 0:00:01\r",
      "\u001b[K     |███████████▏                    | 901 kB 10.9 MB/s eta 0:00:01\r",
      "\u001b[K     |███████████▎                    | 911 kB 10.9 MB/s eta 0:00:01\r",
      "\u001b[K     |███████████▍                    | 921 kB 10.9 MB/s eta 0:00:01\r",
      "\u001b[K     |███████████▌                    | 931 kB 10.9 MB/s eta 0:00:01\r",
      "\u001b[K     |███████████▋                    | 942 kB 10.9 MB/s eta 0:00:01\r",
      "\u001b[K     |███████████▊                    | 952 kB 10.9 MB/s eta 0:00:01\r",
      "\u001b[K     |███████████▉                    | 962 kB 10.9 MB/s eta 0:00:01\r",
      "\u001b[K     |████████████                    | 972 kB 10.9 MB/s eta 0:00:01\r",
      "\u001b[K     |████████████▏                   | 983 kB 10.9 MB/s eta 0:00:01\r",
      "\u001b[K     |████████████▎                   | 993 kB 10.9 MB/s eta 0:00:01\r",
      "\u001b[K     |████████████▍                   | 1.0 MB 10.9 MB/s eta 0:00:01\r",
      "\u001b[K     |████████████▌                   | 1.0 MB 10.9 MB/s eta 0:00:01\r",
      "\u001b[K     |████████████▋                   | 1.0 MB 10.9 MB/s eta 0:00:01\r",
      "\u001b[K     |████████████▊                   | 1.0 MB 10.9 MB/s eta 0:00:01\r",
      "\u001b[K     |█████████████                   | 1.0 MB 10.9 MB/s eta 0:00:01\r",
      "\u001b[K     |█████████████                   | 1.1 MB 10.9 MB/s eta 0:00:01\r",
      "\u001b[K     |█████████████▏                  | 1.1 MB 10.9 MB/s eta 0:00:01\r",
      "\u001b[K     |█████████████▎                  | 1.1 MB 10.9 MB/s eta 0:00:01\r",
      "\u001b[K     |█████████████▍                  | 1.1 MB 10.9 MB/s eta 0:00:01\r",
      "\u001b[K     |█████████████▌                  | 1.1 MB 10.9 MB/s eta 0:00:01\r",
      "\u001b[K     |█████████████▋                  | 1.1 MB 10.9 MB/s eta 0:00:01\r",
      "\u001b[K     |█████████████▉                  | 1.1 MB 10.9 MB/s eta 0:00:01\r",
      "\u001b[K     |██████████████                  | 1.1 MB 10.9 MB/s eta 0:00:01\r",
      "\u001b[K     |██████████████                  | 1.1 MB 10.9 MB/s eta 0:00:01\r",
      "\u001b[K     |██████████████▏                 | 1.1 MB 10.9 MB/s eta 0:00:01\r",
      "\u001b[K     |██████████████▎                 | 1.2 MB 10.9 MB/s eta 0:00:01\r",
      "\u001b[K     |██████████████▍                 | 1.2 MB 10.9 MB/s eta 0:00:01\r",
      "\u001b[K     |██████████████▌                 | 1.2 MB 10.9 MB/s eta 0:00:01\r",
      "\u001b[K     |██████████████▊                 | 1.2 MB 10.9 MB/s eta 0:00:01\r",
      "\u001b[K     |██████████████▉                 | 1.2 MB 10.9 MB/s eta 0:00:01\r",
      "\u001b[K     |███████████████                 | 1.2 MB 10.9 MB/s eta 0:00:01\r",
      "\u001b[K     |███████████████                 | 1.2 MB 10.9 MB/s eta 0:00:01\r",
      "\u001b[K     |███████████████▏                | 1.2 MB 10.9 MB/s eta 0:00:01\r",
      "\u001b[K     |███████████████▎                | 1.2 MB 10.9 MB/s eta 0:00:01\r",
      "\u001b[K     |███████████████▍                | 1.2 MB 10.9 MB/s eta 0:00:01\r",
      "\u001b[K     |███████████████▌                | 1.3 MB 10.9 MB/s eta 0:00:01\r",
      "\u001b[K     |███████████████▊                | 1.3 MB 10.9 MB/s eta 0:00:01\r",
      "\u001b[K     |███████████████▉                | 1.3 MB 10.9 MB/s eta 0:00:01\r",
      "\u001b[K     |████████████████                | 1.3 MB 10.9 MB/s eta 0:00:01\r",
      "\u001b[K     |████████████████                | 1.3 MB 10.9 MB/s eta 0:00:01\r",
      "\u001b[K     |████████████████▏               | 1.3 MB 10.9 MB/s eta 0:00:01\r",
      "\u001b[K     |████████████████▎               | 1.3 MB 10.9 MB/s eta 0:00:01\r",
      "\u001b[K     |████████████████▍               | 1.3 MB 10.9 MB/s eta 0:00:01\r",
      "\u001b[K     |████████████████▋               | 1.3 MB 10.9 MB/s eta 0:00:01\r",
      "\u001b[K     |████████████████▊               | 1.4 MB 10.9 MB/s eta 0:00:01\r",
      "\u001b[K     |████████████████▉               | 1.4 MB 10.9 MB/s eta 0:00:01\r",
      "\u001b[K     |█████████████████               | 1.4 MB 10.9 MB/s eta 0:00:01\r",
      "\u001b[K     |█████████████████               | 1.4 MB 10.9 MB/s eta 0:00:01\r",
      "\u001b[K     |█████████████████▏              | 1.4 MB 10.9 MB/s eta 0:00:01\r",
      "\u001b[K     |█████████████████▎              | 1.4 MB 10.9 MB/s eta 0:00:01\r",
      "\u001b[K     |█████████████████▌              | 1.4 MB 10.9 MB/s eta 0:00:01\r",
      "\u001b[K     |█████████████████▋              | 1.4 MB 10.9 MB/s eta 0:00:01\r",
      "\u001b[K     |█████████████████▊              | 1.4 MB 10.9 MB/s eta 0:00:01\r",
      "\u001b[K     |█████████████████▉              | 1.4 MB 10.9 MB/s eta 0:00:01\r",
      "\u001b[K     |██████████████████              | 1.5 MB 10.9 MB/s eta 0:00:01\r",
      "\u001b[K     |██████████████████              | 1.5 MB 10.9 MB/s eta 0:00:01\r",
      "\u001b[K     |██████████████████▏             | 1.5 MB 10.9 MB/s eta 0:00:01\r",
      "\u001b[K     |██████████████████▍             | 1.5 MB 10.9 MB/s eta 0:00:01\r",
      "\u001b[K     |██████████████████▌             | 1.5 MB 10.9 MB/s eta 0:00:01\r",
      "\u001b[K     |██████████████████▋             | 1.5 MB 10.9 MB/s eta 0:00:01\r",
      "\u001b[K     |██████████████████▊             | 1.5 MB 10.9 MB/s eta 0:00:01\r",
      "\u001b[K     |██████████████████▉             | 1.5 MB 10.9 MB/s eta 0:00:01\r",
      "\u001b[K     |███████████████████             | 1.5 MB 10.9 MB/s eta 0:00:01\r",
      "\u001b[K     |███████████████████             | 1.5 MB 10.9 MB/s eta 0:00:01\r",
      "\u001b[K     |███████████████████▏            | 1.6 MB 10.9 MB/s eta 0:00:01\r",
      "\u001b[K     |███████████████████▍            | 1.6 MB 10.9 MB/s eta 0:00:01\r",
      "\u001b[K     |███████████████████▌            | 1.6 MB 10.9 MB/s eta 0:00:01\r",
      "\u001b[K     |███████████████████▋            | 1.6 MB 10.9 MB/s eta 0:00:01\r",
      "\u001b[K     |███████████████████▊            | 1.6 MB 10.9 MB/s eta 0:00:01\r",
      "\u001b[K     |███████████████████▉            | 1.6 MB 10.9 MB/s eta 0:00:01\r",
      "\u001b[K     |████████████████████            | 1.6 MB 10.9 MB/s eta 0:00:01\r",
      "\u001b[K     |████████████████████            | 1.6 MB 10.9 MB/s eta 0:00:01\r",
      "\u001b[K     |████████████████████▎           | 1.6 MB 10.9 MB/s eta 0:00:01\r",
      "\u001b[K     |████████████████████▍           | 1.6 MB 10.9 MB/s eta 0:00:01\r",
      "\u001b[K     |████████████████████▌           | 1.7 MB 10.9 MB/s eta 0:00:01\r",
      "\u001b[K     |████████████████████▋           | 1.7 MB 10.9 MB/s eta 0:00:01\r",
      "\u001b[K     |████████████████████▊           | 1.7 MB 10.9 MB/s eta 0:00:01\r",
      "\u001b[K     |████████████████████▉           | 1.7 MB 10.9 MB/s eta 0:00:01\r",
      "\u001b[K     |█████████████████████           | 1.7 MB 10.9 MB/s eta 0:00:01\r",
      "\u001b[K     |█████████████████████▏          | 1.7 MB 10.9 MB/s eta 0:00:01\r",
      "\u001b[K     |█████████████████████▎          | 1.7 MB 10.9 MB/s eta 0:00:01\r",
      "\u001b[K     |█████████████████████▍          | 1.7 MB 10.9 MB/s eta 0:00:01\r",
      "\u001b[K     |█████████████████████▌          | 1.7 MB 10.9 MB/s eta 0:00:01\r",
      "\u001b[K     |█████████████████████▋          | 1.8 MB 10.9 MB/s eta 0:00:01\r",
      "\u001b[K     |█████████████████████▊          | 1.8 MB 10.9 MB/s eta 0:00:01\r",
      "\u001b[K     |█████████████████████▉          | 1.8 MB 10.9 MB/s eta 0:00:01\r",
      "\u001b[K     |██████████████████████          | 1.8 MB 10.9 MB/s eta 0:00:01\r",
      "\u001b[K     |██████████████████████▏         | 1.8 MB 10.9 MB/s eta 0:00:01\r",
      "\u001b[K     |██████████████████████▎         | 1.8 MB 10.9 MB/s eta 0:00:01\r",
      "\u001b[K     |██████████████████████▍         | 1.8 MB 10.9 MB/s eta 0:00:01\r",
      "\u001b[K     |██████████████████████▌         | 1.8 MB 10.9 MB/s eta 0:00:01\r",
      "\u001b[K     |██████████████████████▋         | 1.8 MB 10.9 MB/s eta 0:00:01\r",
      "\u001b[K     |██████████████████████▊         | 1.8 MB 10.9 MB/s eta 0:00:01\r",
      "\u001b[K     |██████████████████████▉         | 1.9 MB 10.9 MB/s eta 0:00:01\r",
      "\u001b[K     |███████████████████████         | 1.9 MB 10.9 MB/s eta 0:00:01\r",
      "\u001b[K     |███████████████████████▏        | 1.9 MB 10.9 MB/s eta 0:00:01\r",
      "\u001b[K     |███████████████████████▎        | 1.9 MB 10.9 MB/s eta 0:00:01\r",
      "\u001b[K     |███████████████████████▍        | 1.9 MB 10.9 MB/s eta 0:00:01\r",
      "\u001b[K     |███████████████████████▌        | 1.9 MB 10.9 MB/s eta 0:00:01\r",
      "\u001b[K     |███████████████████████▋        | 1.9 MB 10.9 MB/s eta 0:00:01\r",
      "\u001b[K     |███████████████████████▊        | 1.9 MB 10.9 MB/s eta 0:00:01\r",
      "\u001b[K     |████████████████████████        | 1.9 MB 10.9 MB/s eta 0:00:01\r",
      "\u001b[K     |████████████████████████        | 1.9 MB 10.9 MB/s eta 0:00:01\r",
      "\u001b[K     |████████████████████████▏       | 2.0 MB 10.9 MB/s eta 0:00:01\r",
      "\u001b[K     |████████████████████████▎       | 2.0 MB 10.9 MB/s eta 0:00:01\r",
      "\u001b[K     |████████████████████████▍       | 2.0 MB 10.9 MB/s eta 0:00:01\r",
      "\u001b[K     |████████████████████████▌       | 2.0 MB 10.9 MB/s eta 0:00:01\r",
      "\u001b[K     |████████████████████████▋       | 2.0 MB 10.9 MB/s eta 0:00:01\r",
      "\u001b[K     |████████████████████████▉       | 2.0 MB 10.9 MB/s eta 0:00:01\r",
      "\u001b[K     |█████████████████████████       | 2.0 MB 10.9 MB/s eta 0:00:01\r",
      "\u001b[K     |█████████████████████████       | 2.0 MB 10.9 MB/s eta 0:00:01\r",
      "\u001b[K     |█████████████████████████▏      | 2.0 MB 10.9 MB/s eta 0:00:01\r",
      "\u001b[K     |█████████████████████████▎      | 2.0 MB 10.9 MB/s eta 0:00:01\r",
      "\u001b[K     |█████████████████████████▍      | 2.1 MB 10.9 MB/s eta 0:00:01\r",
      "\u001b[K     |█████████████████████████▌      | 2.1 MB 10.9 MB/s eta 0:00:01\r",
      "\u001b[K     |█████████████████████████▊      | 2.1 MB 10.9 MB/s eta 0:00:01\r",
      "\u001b[K     |█████████████████████████▉      | 2.1 MB 10.9 MB/s eta 0:00:01\r",
      "\u001b[K     |██████████████████████████      | 2.1 MB 10.9 MB/s eta 0:00:01\r",
      "\u001b[K     |██████████████████████████      | 2.1 MB 10.9 MB/s eta 0:00:01\r",
      "\u001b[K     |██████████████████████████▏     | 2.1 MB 10.9 MB/s eta 0:00:01\r",
      "\u001b[K     |██████████████████████████▎     | 2.1 MB 10.9 MB/s eta 0:00:01\r",
      "\u001b[K     |██████████████████████████▍     | 2.1 MB 10.9 MB/s eta 0:00:01\r",
      "\u001b[K     |██████████████████████████▌     | 2.2 MB 10.9 MB/s eta 0:00:01\r",
      "\u001b[K     |██████████████████████████▊     | 2.2 MB 10.9 MB/s eta 0:00:01\r",
      "\u001b[K     |██████████████████████████▉     | 2.2 MB 10.9 MB/s eta 0:00:01\r",
      "\u001b[K     |███████████████████████████     | 2.2 MB 10.9 MB/s eta 0:00:01\r",
      "\u001b[K     |███████████████████████████     | 2.2 MB 10.9 MB/s eta 0:00:01\r",
      "\u001b[K     |███████████████████████████▏    | 2.2 MB 10.9 MB/s eta 0:00:01\r",
      "\u001b[K     |███████████████████████████▎    | 2.2 MB 10.9 MB/s eta 0:00:01\r",
      "\u001b[K     |███████████████████████████▍    | 2.2 MB 10.9 MB/s eta 0:00:01\r",
      "\u001b[K     |███████████████████████████▋    | 2.2 MB 10.9 MB/s eta 0:00:01\r",
      "\u001b[K     |███████████████████████████▊    | 2.2 MB 10.9 MB/s eta 0:00:01\r",
      "\u001b[K     |███████████████████████████▉    | 2.3 MB 10.9 MB/s eta 0:00:01\r",
      "\u001b[K     |████████████████████████████    | 2.3 MB 10.9 MB/s eta 0:00:01\r",
      "\u001b[K     |████████████████████████████    | 2.3 MB 10.9 MB/s eta 0:00:01\r",
      "\u001b[K     |████████████████████████████▏   | 2.3 MB 10.9 MB/s eta 0:00:01\r",
      "\u001b[K     |████████████████████████████▎   | 2.3 MB 10.9 MB/s eta 0:00:01\r",
      "\u001b[K     |████████████████████████████▌   | 2.3 MB 10.9 MB/s eta 0:00:01\r",
      "\u001b[K     |████████████████████████████▋   | 2.3 MB 10.9 MB/s eta 0:00:01\r",
      "\u001b[K     |████████████████████████████▊   | 2.3 MB 10.9 MB/s eta 0:00:01\r",
      "\u001b[K     |████████████████████████████▉   | 2.3 MB 10.9 MB/s eta 0:00:01\r",
      "\u001b[K     |█████████████████████████████   | 2.3 MB 10.9 MB/s eta 0:00:01\r",
      "\u001b[K     |█████████████████████████████   | 2.4 MB 10.9 MB/s eta 0:00:01\r",
      "\u001b[K     |█████████████████████████████▏  | 2.4 MB 10.9 MB/s eta 0:00:01\r",
      "\u001b[K     |█████████████████████████████▍  | 2.4 MB 10.9 MB/s eta 0:00:01\r",
      "\u001b[K     |█████████████████████████████▌  | 2.4 MB 10.9 MB/s eta 0:00:01\r",
      "\u001b[K     |█████████████████████████████▋  | 2.4 MB 10.9 MB/s eta 0:00:01\r",
      "\u001b[K     |█████████████████████████████▊  | 2.4 MB 10.9 MB/s eta 0:00:01\r",
      "\u001b[K     |█████████████████████████████▉  | 2.4 MB 10.9 MB/s eta 0:00:01\r",
      "\u001b[K     |██████████████████████████████  | 2.4 MB 10.9 MB/s eta 0:00:01\r",
      "\u001b[K     |██████████████████████████████  | 2.4 MB 10.9 MB/s eta 0:00:01\r",
      "\u001b[K     |██████████████████████████████▏ | 2.4 MB 10.9 MB/s eta 0:00:01\r",
      "\u001b[K     |██████████████████████████████▍ | 2.5 MB 10.9 MB/s eta 0:00:01\r",
      "\u001b[K     |██████████████████████████████▌ | 2.5 MB 10.9 MB/s eta 0:00:01\r",
      "\u001b[K     |██████████████████████████████▋ | 2.5 MB 10.9 MB/s eta 0:00:01\r",
      "\u001b[K     |██████████████████████████████▊ | 2.5 MB 10.9 MB/s eta 0:00:01\r",
      "\u001b[K     |██████████████████████████████▉ | 2.5 MB 10.9 MB/s eta 0:00:01\r",
      "\u001b[K     |███████████████████████████████ | 2.5 MB 10.9 MB/s eta 0:00:01\r",
      "\u001b[K     |███████████████████████████████ | 2.5 MB 10.9 MB/s eta 0:00:01\r",
      "\u001b[K     |███████████████████████████████▎| 2.5 MB 10.9 MB/s eta 0:00:01\r",
      "\u001b[K     |███████████████████████████████▍| 2.5 MB 10.9 MB/s eta 0:00:01\r",
      "\u001b[K     |███████████████████████████████▌| 2.5 MB 10.9 MB/s eta 0:00:01\r",
      "\u001b[K     |███████████████████████████████▋| 2.6 MB 10.9 MB/s eta 0:00:01\r",
      "\u001b[K     |███████████████████████████████▊| 2.6 MB 10.9 MB/s eta 0:00:01\r",
      "\u001b[K     |███████████████████████████████▉| 2.6 MB 10.9 MB/s eta 0:00:01\r",
      "\u001b[K     |████████████████████████████████| 2.6 MB 10.9 MB/s eta 0:00:01\r",
      "\u001b[K     |████████████████████████████████| 2.6 MB 10.9 MB/s \n",
      "\u001b[?25hRequirement already satisfied: tqdm>=4.27 in /usr/local/lib/python3.7/dist-packages (from transformers) (4.62.0)\n",
      "Collecting tokenizers<0.11,>=0.10.1\n",
      "  Downloading tokenizers-0.10.3-cp37-cp37m-manylinux_2_5_x86_64.manylinux1_x86_64.manylinux_2_12_x86_64.manylinux2010_x86_64.whl (3.3 MB)\n",
      "\u001b[K     |████████████████████████████████| 3.3 MB 50.1 MB/s \n",
      "\u001b[?25hRequirement already satisfied: importlib-metadata in /usr/local/lib/python3.7/dist-packages (from transformers) (4.6.4)\n",
      "Requirement already satisfied: regex!=2019.12.17 in /usr/local/lib/python3.7/dist-packages (from transformers) (2019.12.20)\n",
      "Requirement already satisfied: filelock in /usr/local/lib/python3.7/dist-packages (from transformers) (3.0.12)\n",
      "Collecting sacremoses\n",
      "  Downloading sacremoses-0.0.45-py3-none-any.whl (895 kB)\n",
      "\u001b[K     |████████████████████████████████| 895 kB 48.0 MB/s \n",
      "\u001b[?25hCollecting huggingface-hub==0.0.12\n",
      "  Downloading huggingface_hub-0.0.12-py3-none-any.whl (37 kB)\n",
      "Collecting pyyaml>=5.1\n",
      "  Downloading PyYAML-5.4.1-cp37-cp37m-manylinux1_x86_64.whl (636 kB)\n",
      "\u001b[K     |████████████████████████████████| 636 kB 53.2 MB/s \n",
      "\u001b[?25hRequirement already satisfied: requests in /usr/local/lib/python3.7/dist-packages (from transformers) (2.23.0)\n",
      "Requirement already satisfied: numpy>=1.17 in /usr/local/lib/python3.7/dist-packages (from transformers) (1.19.5)\n",
      "Requirement already satisfied: packaging in /usr/local/lib/python3.7/dist-packages (from transformers) (21.0)\n",
      "Requirement already satisfied: typing-extensions in /usr/local/lib/python3.7/dist-packages (from huggingface-hub==0.0.12->transformers) (3.7.4.3)\n",
      "Requirement already satisfied: pyparsing>=2.0.2 in /usr/local/lib/python3.7/dist-packages (from packaging->transformers) (2.4.7)\n",
      "Requirement already satisfied: zipp>=0.5 in /usr/local/lib/python3.7/dist-packages (from importlib-metadata->transformers) (3.5.0)\n",
      "Requirement already satisfied: chardet<4,>=3.0.2 in /usr/local/lib/python3.7/dist-packages (from requests->transformers) (3.0.4)\n",
      "Requirement already satisfied: urllib3!=1.25.0,!=1.25.1,<1.26,>=1.21.1 in /usr/local/lib/python3.7/dist-packages (from requests->transformers) (1.24.3)\n",
      "Requirement already satisfied: certifi>=2017.4.17 in /usr/local/lib/python3.7/dist-packages (from requests->transformers) (2021.5.30)\n",
      "Requirement already satisfied: idna<3,>=2.5 in /usr/local/lib/python3.7/dist-packages (from requests->transformers) (2.10)\n",
      "Requirement already satisfied: six in /usr/local/lib/python3.7/dist-packages (from sacremoses->transformers) (1.15.0)\n",
      "Requirement already satisfied: click in /usr/local/lib/python3.7/dist-packages (from sacremoses->transformers) (7.1.2)\n",
      "Requirement already satisfied: joblib in /usr/local/lib/python3.7/dist-packages (from sacremoses->transformers) (1.0.1)\n",
      "Installing collected packages: tokenizers, sacremoses, pyyaml, huggingface-hub, transformers\n",
      "  Attempting uninstall: pyyaml\n",
      "    Found existing installation: PyYAML 3.13\n",
      "    Uninstalling PyYAML-3.13:\n",
      "      Successfully uninstalled PyYAML-3.13\n",
      "Successfully installed huggingface-hub-0.0.12 pyyaml-5.4.1 sacremoses-0.0.45 tokenizers-0.10.3 transformers-4.9.2\n"
     ]
    }
   ],
   "source": [
    "pip install transformers\n"
   ]
  },
  {
   "cell_type": "code",
   "execution_count": 2,
   "id": "bf68bacf",
   "metadata": {
    "id": "bf68bacf"
   },
   "outputs": [],
   "source": [
    "import numpy as np\n",
    "import pandas as pd\n",
    "import matplotlib.pyplot as plt\n",
    "from matplotlib import cm\n",
    "import seaborn as sns\n",
    "\n",
    "import re\n",
    "import string\n",
    "\n",
    "from sklearn.linear_model import LogisticRegression\n",
    "from sklearn.naive_bayes import MultinomialNB\n",
    "from sklearn.ensemble import RandomForestClassifier\n",
    "from sklearn import svm\n",
    "from sklearn import metrics\n",
    "from sklearn.metrics import confusion_matrix\n",
    "from sklearn.model_selection import train_test_split\n",
    "from sklearn.metrics import accuracy_score, f1_score\n",
    "from sklearn.metrics import roc_curve, auc, classification_report\n",
    "from sklearn.metrics import precision_score, recall_score, confusion_matrix, plot_confusion_matrix\n",
    "from sklearn.metrics import roc_auc_score\n",
    "\n",
    "#from keras.models import Sequential\n",
    "import tensorflow as tf\n",
    "from tensorflow.keras.models import Sequential\n",
    "from tensorflow.keras.layers import Dense, Embedding, LSTM, SpatialDropout1D,Bidirectional,Dropout,GRU,Activation\n",
    "from sklearn.model_selection import train_test_split\n",
    "from sklearn.feature_extraction.text import CountVectorizer\n",
    "from tensorflow.keras.preprocessing.text import Tokenizer\n",
    "from tensorflow.keras.preprocessing.sequence import pad_sequences\n",
    "\n",
    "\n"
   ]
  },
  {
   "cell_type": "code",
   "execution_count": 3,
   "id": "e5758d42",
   "metadata": {
    "id": "e5758d42"
   },
   "outputs": [],
   "source": [
    "df=pd.read_csv(r'twitter.csv')"
   ]
  },
  {
   "cell_type": "code",
   "execution_count": 4,
   "id": "904f0d64",
   "metadata": {
    "colab": {
     "base_uri": "https://localhost:8080/",
     "height": 203
    },
    "id": "904f0d64",
    "outputId": "a05a8b37-0ef0-4133-b3f3-3a0d90293bfe"
   },
   "outputs": [
    {
     "data": {
      "text/html": [
       "<div>\n",
       "<style scoped>\n",
       "    .dataframe tbody tr th:only-of-type {\n",
       "        vertical-align: middle;\n",
       "    }\n",
       "\n",
       "    .dataframe tbody tr th {\n",
       "        vertical-align: top;\n",
       "    }\n",
       "\n",
       "    .dataframe thead th {\n",
       "        text-align: right;\n",
       "    }\n",
       "</style>\n",
       "<table border=\"1\" class=\"dataframe\">\n",
       "  <thead>\n",
       "    <tr style=\"text-align: right;\">\n",
       "      <th></th>\n",
       "      <th>Unnamed: 0</th>\n",
       "      <th>text</th>\n",
       "      <th>target</th>\n",
       "    </tr>\n",
       "  </thead>\n",
       "  <tbody>\n",
       "    <tr>\n",
       "      <th>0</th>\n",
       "      <td>0</td>\n",
       "      <td>drasko said impressed girls cooked half chicke...</td>\n",
       "      <td>1</td>\n",
       "    </tr>\n",
       "    <tr>\n",
       "      <th>1</th>\n",
       "      <td>1</td>\n",
       "      <td>drasko cook half bird idiot mkr</td>\n",
       "      <td>1</td>\n",
       "    </tr>\n",
       "    <tr>\n",
       "      <th>2</th>\n",
       "      <td>2</td>\n",
       "      <td>hopefully cooks drasko ep mkr</td>\n",
       "      <td>1</td>\n",
       "    </tr>\n",
       "    <tr>\n",
       "      <th>3</th>\n",
       "      <td>3</td>\n",
       "      <td>course born serbia fucked serbian film mkr</td>\n",
       "      <td>1</td>\n",
       "    </tr>\n",
       "    <tr>\n",
       "      <th>4</th>\n",
       "      <td>4</td>\n",
       "      <td>girls equivalent irritating asian girls couple...</td>\n",
       "      <td>1</td>\n",
       "    </tr>\n",
       "  </tbody>\n",
       "</table>\n",
       "</div>"
      ],
      "text/plain": [
       "   Unnamed: 0                                               text  target\n",
       "0           0  drasko said impressed girls cooked half chicke...       1\n",
       "1           1                    drasko cook half bird idiot mkr       1\n",
       "2           2                      hopefully cooks drasko ep mkr       1\n",
       "3           3         course born serbia fucked serbian film mkr       1\n",
       "4           4  girls equivalent irritating asian girls couple...       1"
      ]
     },
     "execution_count": 4,
     "metadata": {},
     "output_type": "execute_result"
    }
   ],
   "source": [
    "df.head()"
   ]
  },
  {
   "cell_type": "code",
   "execution_count": 5,
   "id": "7704cca1",
   "metadata": {
    "colab": {
     "base_uri": "https://localhost:8080/"
    },
    "id": "7704cca1",
    "outputId": "6e1e2709-dc56-42a8-b3e4-b251cb0bb032"
   },
   "outputs": [
    {
     "data": {
      "text/plain": [
       "(35787, 3)"
      ]
     },
     "execution_count": 5,
     "metadata": {},
     "output_type": "execute_result"
    }
   ],
   "source": [
    "df.shape"
   ]
  },
  {
   "cell_type": "code",
   "execution_count": 6,
   "id": "2f678b96",
   "metadata": {
    "id": "2f678b96"
   },
   "outputs": [],
   "source": [
    "df.drop(columns='Unnamed: 0',inplace=True)"
   ]
  },
  {
   "cell_type": "code",
   "execution_count": 7,
   "id": "880ca957",
   "metadata": {
    "colab": {
     "base_uri": "https://localhost:8080/",
     "height": 203
    },
    "id": "880ca957",
    "outputId": "189b716f-9c42-4e4b-974a-b1ce35cb6162"
   },
   "outputs": [
    {
     "data": {
      "text/html": [
       "<div>\n",
       "<style scoped>\n",
       "    .dataframe tbody tr th:only-of-type {\n",
       "        vertical-align: middle;\n",
       "    }\n",
       "\n",
       "    .dataframe tbody tr th {\n",
       "        vertical-align: top;\n",
       "    }\n",
       "\n",
       "    .dataframe thead th {\n",
       "        text-align: right;\n",
       "    }\n",
       "</style>\n",
       "<table border=\"1\" class=\"dataframe\">\n",
       "  <thead>\n",
       "    <tr style=\"text-align: right;\">\n",
       "      <th></th>\n",
       "      <th>text</th>\n",
       "      <th>target</th>\n",
       "    </tr>\n",
       "  </thead>\n",
       "  <tbody>\n",
       "    <tr>\n",
       "      <th>0</th>\n",
       "      <td>drasko said impressed girls cooked half chicke...</td>\n",
       "      <td>1</td>\n",
       "    </tr>\n",
       "    <tr>\n",
       "      <th>1</th>\n",
       "      <td>drasko cook half bird idiot mkr</td>\n",
       "      <td>1</td>\n",
       "    </tr>\n",
       "    <tr>\n",
       "      <th>2</th>\n",
       "      <td>hopefully cooks drasko ep mkr</td>\n",
       "      <td>1</td>\n",
       "    </tr>\n",
       "    <tr>\n",
       "      <th>3</th>\n",
       "      <td>course born serbia fucked serbian film mkr</td>\n",
       "      <td>1</td>\n",
       "    </tr>\n",
       "    <tr>\n",
       "      <th>4</th>\n",
       "      <td>girls equivalent irritating asian girls couple...</td>\n",
       "      <td>1</td>\n",
       "    </tr>\n",
       "  </tbody>\n",
       "</table>\n",
       "</div>"
      ],
      "text/plain": [
       "                                                text  target\n",
       "0  drasko said impressed girls cooked half chicke...       1\n",
       "1                    drasko cook half bird idiot mkr       1\n",
       "2                      hopefully cooks drasko ep mkr       1\n",
       "3         course born serbia fucked serbian film mkr       1\n",
       "4  girls equivalent irritating asian girls couple...       1"
      ]
     },
     "execution_count": 7,
     "metadata": {},
     "output_type": "execute_result"
    }
   ],
   "source": [
    "df.head()"
   ]
  },
  {
   "cell_type": "code",
   "execution_count": 8,
   "id": "09d75d6d",
   "metadata": {
    "id": "09d75d6d"
   },
   "outputs": [],
   "source": [
    "# class 0 - not hate speech\n",
    "# class 1 - hate speech\n",
    "\n",
    "# Crreate class description for each row in data\n",
    "df['class_descr'] = df['target'].map(lambda x: 'hate_speech' if x==1 else 'not_hate_speech')"
   ]
  },
  {
   "cell_type": "code",
   "execution_count": 9,
   "id": "b32da809",
   "metadata": {
    "id": "b32da809"
   },
   "outputs": [],
   "source": [
    "# Drop NaN values in text column\n",
    "\n",
    "df.dropna(subset=['text'], inplace=True)"
   ]
  },
  {
   "cell_type": "code",
   "execution_count": 10,
   "id": "c653112b",
   "metadata": {
    "colab": {
     "base_uri": "https://localhost:8080/"
    },
    "id": "c653112b",
    "outputId": "4592dc7c-011e-42f0-a6e4-17b3e971e404"
   },
   "outputs": [
    {
     "name": "stdout",
     "output_type": "stream",
     "text": [
      "<class 'pandas.core.frame.DataFrame'>\n",
      "Int64Index: 35753 entries, 0 to 35786\n",
      "Data columns (total 3 columns):\n",
      " #   Column       Non-Null Count  Dtype \n",
      "---  ------       --------------  ----- \n",
      " 0   text         35753 non-null  object\n",
      " 1   target       35753 non-null  int64 \n",
      " 2   class_descr  35753 non-null  object\n",
      "dtypes: int64(1), object(2)\n",
      "memory usage: 1.1+ MB\n"
     ]
    }
   ],
   "source": [
    "df.info()"
   ]
  },
  {
   "cell_type": "markdown",
   "id": "f32eecb2",
   "metadata": {
    "id": "f32eecb2"
   },
   "source": [
    "# Visualize Amount of  tweets classes"
   ]
  },
  {
   "cell_type": "code",
   "execution_count": 11,
   "id": "59be8523",
   "metadata": {
    "colab": {
     "base_uri": "https://localhost:8080/",
     "height": 470
    },
    "id": "59be8523",
    "outputId": "03cadb39-2dc4-48d6-d932-1172590f0bda"
   },
   "outputs": [
    {
     "name": "stderr",
     "output_type": "stream",
     "text": [
      "/usr/local/lib/python3.7/dist-packages/seaborn/_decorators.py:43: FutureWarning: Pass the following variable as a keyword arg: x. From version 0.12, the only valid positional argument will be `data`, and passing other arguments without an explicit keyword will result in an error or misinterpretation.\n",
      "  FutureWarning\n"
     ]
    },
    {
     "data": {
      "image/png": "[encoded data removed]",
      "text/plain": [
       "<Figure size 720x432 with 1 Axes>"
      ]
     },
     "metadata": {
      "needs_background": "light"
     },
     "output_type": "display_data"
    }
   ],
   "source": [
    "\n",
    "fig, ax = plt.subplots(figsize=(10,6))\n",
    "ax = sns.countplot(df['target'], palette='Set2')\n",
    "\n",
    "ax.set_title('Amount of Tweets Per Label',fontsize = 20)\n",
    "ax.set_xlabel('Type of Tweet',fontsize = 15)\n",
    "ax.set_ylabel('Count',fontsize = 15)\n",
    "ax.set_xticklabels(['Not Hate Speech','Hate Speech'],fontsize = 13)\n",
    "\n",
    "total = float(len(df)) # one person per row \n",
    "for p in ax.patches:\n",
    "    height = p.get_height()\n",
    "    ax.text(p.get_x()+p.get_width()/2.,\n",
    "            height + 3,\n",
    "            '{:1.2f}'.format(height/total * 100) + '%',\n",
    "            ha=\"center\") "
   ]
  },
  {
   "cell_type": "code",
   "execution_count": 12,
   "id": "e3cf3755",
   "metadata": {
    "id": "e3cf3755"
   },
   "outputs": [],
   "source": [
    "# Create function with text cleaning techniques usinx regex\n",
    "\n",
    "def clean_text_step1(text):\n",
    "    '''\n",
    "    Looking for speciffic patterns in the text and \n",
    "    removing them or replacing with space\n",
    "    Function returns string\n",
    "    '''\n",
    "        \n",
    "    # make text lowercase\n",
    "    text = text.lower()\n",
    "    \n",
    "    # string punctuations\n",
    "    text = re.sub('[%s]' % re.escape(string.punctuation), '', text)\n",
    "    \n",
    "    # removing patterns and replace it with nothing\n",
    "    text = re.sub('\\[.*?\\]', '', text)\n",
    " \n",
    "    # removing digits if they surounded with text or digit\n",
    "    text = re.sub('\\w*\\d\\w*', '', text)\n",
    "    \n",
    "    # make just 1 space if there is more then 1\n",
    "    text = re.sub('\\s+', ' ', text)\n",
    "    \n",
    "    # replace new line symbol with space\n",
    "    text = re.sub('\\n', ' ', text)\n",
    "    \n",
    "    # removing any quotes\n",
    "    text = re.sub('\\\"+', '', text)\n",
    "    \n",
    "    # removing &amp;\n",
    "    text = re.sub('(\\&amp\\;)', '', text)\n",
    "    \n",
    "    # cleaning from user name\n",
    "    text = re.sub('(@[^\\s]+)', '', text)\n",
    "    \n",
    "    # looking for # and replacing it\n",
    "    text = re.sub('(#[^\\s]+)', '', text)\n",
    "    \n",
    "    # removing `rt`\n",
    "    text = re.sub('(rt)', '', text)\n",
    "\n",
    "    # looking for `httptco`\n",
    "    text = re.sub('(httptco)', '', text)\n",
    "    \n",
    "    # looking for `mkr`\n",
    "    text = re.sub('(mkr)', '', text)\n",
    "    \n",
    "    text = re.sub('(sexist)', '', text)\n",
    "    \n",
    "    text = re.sub('(like)', '', text)\n",
    "    \n",
    "    text = re.sub('(women)', '', text)\n",
    "\n",
    "    return text"
   ]
  },
  {
   "cell_type": "code",
   "execution_count": 13,
   "id": "3c74ece5",
   "metadata": {
    "id": "3c74ece5"
   },
   "outputs": [],
   "source": [
    "# applying function for cleaning text data\n",
    "\n",
    "df['text'] = df['text'].apply(clean_text_step1)"
   ]
  },
  {
   "cell_type": "code",
   "execution_count": 14,
   "id": "87aa62f9",
   "metadata": {
    "colab": {
     "base_uri": "https://localhost:8080/"
    },
    "id": "87aa62f9",
    "outputId": "2acbd703-41ed-43ee-9d02-95cb3b78524b"
   },
   "outputs": [
    {
     "name": "stdout",
     "output_type": "stream",
     "text": [
      "<class 'pandas.core.frame.DataFrame'>\n",
      "Int64Index: 35753 entries, 0 to 35786\n",
      "Data columns (total 3 columns):\n",
      " #   Column       Non-Null Count  Dtype \n",
      "---  ------       --------------  ----- \n",
      " 0   text         35753 non-null  object\n",
      " 1   target       35753 non-null  int64 \n",
      " 2   class_descr  35753 non-null  object\n",
      "dtypes: int64(1), object(2)\n",
      "memory usage: 2.3+ MB\n"
     ]
    }
   ],
   "source": [
    "df.info()"
   ]
  },
  {
   "cell_type": "code",
   "execution_count": 15,
   "id": "96cfe738",
   "metadata": {
    "id": "96cfe738"
   },
   "outputs": [],
   "source": [
    "df1=df"
   ]
  },
  {
   "cell_type": "code",
   "execution_count": 16,
   "id": "8c2f6f8c",
   "metadata": {
    "id": "8c2f6f8c"
   },
   "outputs": [],
   "source": [
    "df1.drop(columns='class_descr',inplace=True)"
   ]
  },
  {
   "cell_type": "code",
   "execution_count": 17,
   "id": "561aaea2",
   "metadata": {
    "colab": {
     "base_uri": "https://localhost:8080/",
     "height": 203
    },
    "id": "561aaea2",
    "outputId": "4cfd7c22-eb15-4b35-e414-a763199f7e46"
   },
   "outputs": [
    {
     "data": {
      "text/html": [
       "<div>\n",
       "<style scoped>\n",
       "    .dataframe tbody tr th:only-of-type {\n",
       "        vertical-align: middle;\n",
       "    }\n",
       "\n",
       "    .dataframe tbody tr th {\n",
       "        vertical-align: top;\n",
       "    }\n",
       "\n",
       "    .dataframe thead th {\n",
       "        text-align: right;\n",
       "    }\n",
       "</style>\n",
       "<table border=\"1\" class=\"dataframe\">\n",
       "  <thead>\n",
       "    <tr style=\"text-align: right;\">\n",
       "      <th></th>\n",
       "      <th>text</th>\n",
       "      <th>target</th>\n",
       "    </tr>\n",
       "  </thead>\n",
       "  <tbody>\n",
       "    <tr>\n",
       "      <th>0</th>\n",
       "      <td>drasko said impressed girls cooked half chicke...</td>\n",
       "      <td>1</td>\n",
       "    </tr>\n",
       "    <tr>\n",
       "      <th>1</th>\n",
       "      <td>drasko cook half bird idiot</td>\n",
       "      <td>1</td>\n",
       "    </tr>\n",
       "    <tr>\n",
       "      <th>2</th>\n",
       "      <td>hopefully cooks drasko ep</td>\n",
       "      <td>1</td>\n",
       "    </tr>\n",
       "    <tr>\n",
       "      <th>3</th>\n",
       "      <td>course born serbia fucked serbian film</td>\n",
       "      <td>1</td>\n",
       "    </tr>\n",
       "    <tr>\n",
       "      <th>4</th>\n",
       "      <td>girls equivalent irritating asian girls couple...</td>\n",
       "      <td>1</td>\n",
       "    </tr>\n",
       "  </tbody>\n",
       "</table>\n",
       "</div>"
      ],
      "text/plain": [
       "                                                text  target\n",
       "0  drasko said impressed girls cooked half chicke...       1\n",
       "1                       drasko cook half bird idiot        1\n",
       "2                         hopefully cooks drasko ep        1\n",
       "3            course born serbia fucked serbian film        1\n",
       "4  girls equivalent irritating asian girls couple...       1"
      ]
     },
     "execution_count": 17,
     "metadata": {},
     "output_type": "execute_result"
    }
   ],
   "source": [
    "df1.head()"
   ]
  },
  {
   "cell_type": "code",
   "execution_count": 18,
   "id": "235b8402",
   "metadata": {
    "id": "235b8402"
   },
   "outputs": [],
   "source": [
    "tokenizer = Tokenizer(num_words=1500, split=' ')\n",
    "\n",
    "tokenizer.fit_on_texts(df1['text'].values)\n",
    "\n",
    "X = tokenizer.texts_to_sequences(df1['text'])\n",
    "\n",
    "X = pad_sequences(X)"
   ]
  },
  {
   "cell_type": "code",
   "execution_count": 19,
   "id": "bf9d8a35",
   "metadata": {
    "id": "bf9d8a35"
   },
   "outputs": [],
   "source": [
    "y=df1['target']"
   ]
  },
  {
   "cell_type": "code",
   "execution_count": 20,
   "id": "59c70c01",
   "metadata": {
    "id": "59c70c01"
   },
   "outputs": [],
   "source": [
    "X_train, X_test, y_train, y_test = train_test_split(X,y, test_size = 0.20, random_state = 42)"
   ]
  },
  {
   "cell_type": "markdown",
   "id": "3b367b37",
   "metadata": {},
   "source": [
    "# LogisticRegression"
   ]
  },
  {
   "cell_type": "code",
   "execution_count": 21,
   "id": "pGx7gZjhIqyJ",
   "metadata": {
    "id": "pGx7gZjhIqyJ"
   },
   "outputs": [],
   "source": [
    "logreg=LogisticRegression(random_state = 32)"
   ]
  },
  {
   "cell_type": "code",
   "execution_count": 22,
   "id": "QlyPvfE0Iq3S",
   "metadata": {
    "colab": {
     "base_uri": "https://localhost:8080/"
    },
    "id": "QlyPvfE0Iq3S",
    "outputId": "77da1bd5-3949-4202-aef5-b63eed1fd7fa"
   },
   "outputs": [
    {
     "name": "stderr",
     "output_type": "stream",
     "text": [
      "/usr/local/lib/python3.7/dist-packages/sklearn/linear_model/_logistic.py:940: ConvergenceWarning: lbfgs failed to converge (status=1):\n",
      "STOP: TOTAL NO. of ITERATIONS REACHED LIMIT.\n",
      "\n",
      "Increase the number of iterations (max_iter) or scale the data as shown in:\n",
      "    https://scikit-learn.org/stable/modules/preprocessing.html\n",
      "Please also refer to the documentation for alternative solver options:\n",
      "    https://scikit-learn.org/stable/modules/linear_model.html#logistic-regression\n",
      "  extra_warning_msg=_LOGISTIC_SOLVER_CONVERGENCE_MSG)\n"
     ]
    }
   ],
   "source": [
    "logreg.fit(X_train,y_train)\n",
    "logreg_predictions=logreg.predict(X_test)"
   ]
  },
  {
   "cell_type": "code",
   "execution_count": 23,
   "id": "XnzvJhLMIq5L",
   "metadata": {
    "colab": {
     "base_uri": "https://localhost:8080/",
     "height": 389
    },
    "id": "XnzvJhLMIq5L",
    "outputId": "78ea06e1-20ce-43b4-863d-396d40d5f5a2"
   },
   "outputs": [
    {
     "data": {
      "image/png": "[encoded data removed]",
      "text/plain": [
       "<Figure size 432x432 with 1 Axes>"
      ]
     },
     "metadata": {
      "needs_background": "light"
     },
     "output_type": "display_data"
    }
   ],
   "source": [
    "fig, ax = plt.subplots(figsize=(6,6))\n",
    "mat = confusion_matrix(y_test, logreg_predictions)\n",
    "sns.heatmap(mat.T, square=True, annot=True, fmt='d', cbar=False,\n",
    "            xticklabels=['Not_Hate_Speech', 'Hate_Speech'], yticklabels=['Not_Hate_Speech', 'Hate_Speech'])\n",
    "plt.xlabel('true label')\n",
    "plt.ylabel('predicted label')\n",
    "plt.show()"
   ]
  },
  {
   "cell_type": "code",
   "execution_count": 24,
   "id": "AdgB9L3QIq6v",
   "metadata": {
    "id": "AdgB9L3QIq6v"
   },
   "outputs": [],
   "source": [
    "TP = mat[1,1] # true positive \n",
    "TN = mat[0,0] # true negatives\n",
    "FP = mat[0,1] # false positives\n",
    "FN = mat[1,0] # false negatives"
   ]
  },
  {
   "cell_type": "code",
   "execution_count": 25,
   "id": "A6vFd6UIIrAD",
   "metadata": {
    "id": "A6vFd6UIIrAD"
   },
   "outputs": [],
   "source": [
    "Specificity = TN/(TN+FP)\n",
    "Sensitivity = TP/(TP+FN)\n",
    "TPR=TP/(TP+FN)\n",
    "FPR=FP/(FP+TN)\n",
    "roc_auc_score1=roc_auc_score(y_test, logreg_predictions)"
   ]
  },
  {
   "cell_type": "code",
   "execution_count": 26,
   "id": "KDWBAMowTfAE",
   "metadata": {
    "colab": {
     "base_uri": "https://localhost:8080/",
     "height": 279
    },
    "id": "KDWBAMowTfAE",
    "outputId": "3565539d-1154-4e8d-dcef-24cb854a1126"
   },
   "outputs": [
    {
     "data": {
      "image/png": "[encoded data removed]",
      "text/plain": [
       "<Figure size 432x288 with 1 Axes>"
      ]
     },
     "metadata": {
      "needs_background": "light"
     },
     "output_type": "display_data"
    }
   ],
   "source": [
    "metrics.plot_roc_curve(logreg, X_test, y_test)\n",
    "plt.show()"
   ]
  },
  {
   "cell_type": "code",
   "execution_count": 27,
   "id": "h9SyT9wiIrBb",
   "metadata": {
    "colab": {
     "base_uri": "https://localhost:8080/"
    },
    "id": "h9SyT9wiIrBb",
    "outputId": "b227b235-ffe7-46b1-a744-9680ce26a575"
   },
   "outputs": [
    {
     "name": "stdout",
     "output_type": "stream",
     "text": [
      "Logistic Regression\n",
      "Precision: 0.6738\n",
      "Recall: 0.9419\n",
      "Accuracy: 0.662\n",
      "F1 Score: 0.7856\n",
      "Sensitivity: 0.9419\n",
      "Specificity: 0.1245\n",
      "TPR: 0.9419\n",
      "FPR: 0.8755\n",
      "roc_auc_score: 0.5332\n"
     ]
    }
   ],
   "source": [
    "precision = precision_score(y_test, logreg_predictions)\n",
    "recall = recall_score(y_test, logreg_predictions)\n",
    "acc_score = accuracy_score(y_test, logreg_predictions)\n",
    "score = f1_score(y_test, logreg_predictions)\n",
    "print('Logistic Regression')\n",
    "\n",
    "print('Precision: {:.4}'.format(precision))\n",
    "print('Recall: {:.4}'.format(recall))\n",
    "\n",
    "print(\"Accuracy: {:.4}\".format(acc_score))\n",
    "print(\"F1 Score: {:.4}\".format(score))\n",
    "print(\"Sensitivity: {:.4}\".format(Sensitivity))\n",
    "print(\"Specificity: {:.4}\".format(Specificity))\n",
    "print(\"TPR: {:.4}\".format(TPR))\n",
    "print(\"FPR: {:.4}\".format(FPR))\n",
    "print(\"roc_auc_score: {:.4}\".format(roc_auc_score1))"
   ]
  },
  {
   "cell_type": "markdown",
   "id": "9df38856",
   "metadata": {},
   "source": [
    "# Naive Bayes"
   ]
  },
  {
   "cell_type": "code",
   "execution_count": 28,
   "id": "0BQdPUy4LK7Y",
   "metadata": {
    "id": "0BQdPUy4LK7Y"
   },
   "outputs": [],
   "source": [
    "nb = MultinomialNB()\n",
    "nb.fit(X_train,y_train)\n",
    "nb_predictions = nb.predict(X_test)"
   ]
  },
  {
   "cell_type": "code",
   "execution_count": 29,
   "id": "LtcPKYxMMbkf",
   "metadata": {
    "colab": {
     "base_uri": "https://localhost:8080/"
    },
    "id": "LtcPKYxMMbkf",
    "outputId": "ea947f6c-4e5c-4587-8a49-489ee993a1ca"
   },
   "outputs": [
    {
     "data": {
      "text/plain": [
       "array([0, 0, 0, ..., 0, 0, 0])"
      ]
     },
     "execution_count": 29,
     "metadata": {},
     "output_type": "execute_result"
    }
   ],
   "source": [
    "nb_predictions"
   ]
  },
  {
   "cell_type": "code",
   "execution_count": 30,
   "id": "K7fyqYCgLK-B",
   "metadata": {
    "colab": {
     "base_uri": "https://localhost:8080/",
     "height": 389
    },
    "id": "K7fyqYCgLK-B",
    "outputId": "d85efa4c-a402-455f-989a-9468b5edf2ca"
   },
   "outputs": [
    {
     "data": {
      "image/png": "[encoded data removed]",
      "text/plain": [
       "<Figure size 432x432 with 1 Axes>"
      ]
     },
     "metadata": {
      "needs_background": "light"
     },
     "output_type": "display_data"
    }
   ],
   "source": [
    "fig, ax = plt.subplots(figsize=(6,6))\n",
    "mat = confusion_matrix(y_test, nb_predictions)\n",
    "sns.heatmap(mat.T, square=True, annot=True, fmt='d', cbar=False,\n",
    "            xticklabels=['Not_Hate_Speech', 'Hate_Speech'], yticklabels=['Not_Hate_Speech', 'Hate_Speech'])\n",
    "plt.xlabel('true label')\n",
    "plt.ylabel('predicted label')\n",
    "plt.show()"
   ]
  },
  {
   "cell_type": "code",
   "execution_count": 31,
   "id": "BU5evg-8LLAV",
   "metadata": {
    "id": "BU5evg-8LLAV"
   },
   "outputs": [],
   "source": [
    "TP = mat[1,1] # true positive \n",
    "TN = mat[0,0] # true negatives\n",
    "FP = mat[0,1] # false positives\n",
    "FN = mat[1,0] # false negatives"
   ]
  },
  {
   "cell_type": "code",
   "execution_count": 32,
   "id": "xJrjM832LLC-",
   "metadata": {
    "id": "xJrjM832LLC-"
   },
   "outputs": [],
   "source": [
    "Specificity = TN/(TN+FP)\n",
    "Sensitivity = TP/(TP+FN)\n",
    "TPR=TP/(TP+FN)\n",
    "FPR=FP/(FP+TN)\n",
    "roc_auc_score2=roc_auc_score(y_test, nb_predictions)"
   ]
  },
  {
   "cell_type": "code",
   "execution_count": 33,
   "id": "C0mv7PCsTntD",
   "metadata": {
    "colab": {
     "base_uri": "https://localhost:8080/",
     "height": 279
    },
    "id": "C0mv7PCsTntD",
    "outputId": "2335d980-ee72-431f-a43a-ffec948e6aff"
   },
   "outputs": [
    {
     "data": {
      "image/png": "[encoded data removed]",
      "text/plain": [
       "<Figure size 432x288 with 1 Axes>"
      ]
     },
     "metadata": {
      "needs_background": "light"
     },
     "output_type": "display_data"
    }
   ],
   "source": [
    "metrics.plot_roc_curve(nb, X_test, y_test)\n",
    "plt.show()"
   ]
  },
  {
   "cell_type": "code",
   "execution_count": 34,
   "id": "K71dby2eLLGS",
   "metadata": {
    "colab": {
     "base_uri": "https://localhost:8080/"
    },
    "id": "K71dby2eLLGS",
    "outputId": "033ebba1-a42f-4dba-aee5-5e78e6b8e711"
   },
   "outputs": [
    {
     "name": "stdout",
     "output_type": "stream",
     "text": [
      "Naive Bayes\n",
      "Precision: 0.7545\n",
      "Recall: 0.3622\n",
      "Accuracy: 0.5031\n",
      "F1 Score: 0.4894\n",
      "Sensitivity: 0.3622\n",
      "Specificity: 0.7738\n",
      "TPR: 0.3622\n",
      "FPR: 0.2262\n",
      "roc_auc_score: 0.568\n"
     ]
    }
   ],
   "source": [
    "precision = precision_score(y_test, nb_predictions)\n",
    "recall = recall_score(y_test, nb_predictions)\n",
    "acc_score = accuracy_score(y_test, nb_predictions)\n",
    "score = f1_score(y_test, nb_predictions)\n",
    "print('Naive Bayes')\n",
    "\n",
    "print('Precision: {:.4}'.format(precision))\n",
    "print('Recall: {:.4}'.format(recall))\n",
    "\n",
    "print(\"Accuracy: {:.4}\".format(acc_score))\n",
    "print(\"F1 Score: {:.4}\".format(score))\n",
    "print(\"Sensitivity: {:.4}\".format(Sensitivity))\n",
    "print(\"Specificity: {:.4}\".format(Specificity))\n",
    "print(\"TPR: {:.4}\".format(TPR))\n",
    "print(\"FPR: {:.4}\".format(FPR))\n",
    "print(\"roc_auc_score: {:.4}\".format(roc_auc_score2))"
   ]
  },
  {
   "cell_type": "markdown",
   "id": "fb059cbc",
   "metadata": {},
   "source": [
    "# Random Forest Classifier"
   ]
  },
  {
   "cell_type": "code",
   "execution_count": 35,
   "id": "JWOe8WiANckj",
   "metadata": {
    "id": "JWOe8WiANckj"
   },
   "outputs": [],
   "source": [
    "rf_classifier = RandomForestClassifier(n_estimators=100, random_state=0)\n",
    "rf_classifier.fit(X_train,y_train)\n",
    "rf_predictions = rf_classifier.predict(X_test)"
   ]
  },
  {
   "cell_type": "code",
   "execution_count": 36,
   "id": "hxsjHSKJNcnN",
   "metadata": {
    "colab": {
     "base_uri": "https://localhost:8080/",
     "height": 389
    },
    "id": "hxsjHSKJNcnN",
    "outputId": "4a948000-f61d-4f32-e95c-0eb7d5835add"
   },
   "outputs": [
    {
     "data": {
      "image/png": "[encoded data removed]",
      "text/plain": [
       "<Figure size 432x432 with 1 Axes>"
      ]
     },
     "metadata": {
      "needs_background": "light"
     },
     "output_type": "display_data"
    }
   ],
   "source": [
    "fig, ax = plt.subplots(figsize=(6,6))\n",
    "mat = confusion_matrix(y_test, rf_predictions)\n",
    "sns.heatmap(mat.T, square=True, annot=True, fmt='d', cbar=False,\n",
    "            xticklabels=['Not_Hate_Speech', 'Hate_Speech'], yticklabels=['Not_Hate_Speech', 'Hate_Speech'])\n",
    "plt.xlabel('true label')\n",
    "plt.ylabel('predicted label')\n",
    "plt.show()"
   ]
  },
  {
   "cell_type": "code",
   "execution_count": 37,
   "id": "bJOEHSafNcpm",
   "metadata": {
    "id": "bJOEHSafNcpm"
   },
   "outputs": [],
   "source": [
    "TP = mat[1,1] # true positive \n",
    "TN = mat[0,0] # true negatives\n",
    "FP = mat[0,1] # false positives\n",
    "FN = mat[1,0] # false negatives"
   ]
  },
  {
   "cell_type": "code",
   "execution_count": 38,
   "id": "ycm8xuYvNcsI",
   "metadata": {
    "id": "ycm8xuYvNcsI"
   },
   "outputs": [],
   "source": [
    "Specificity = TN/(TN+FP)\n",
    "Sensitivity = TP/(TP+FN)\n",
    "TPR=TP/(TP+FN)\n",
    "FPR=FP/(FP+TN)\n",
    "roc_auc_score3=roc_auc_score(y_test, rf_predictions)"
   ]
  },
  {
   "cell_type": "code",
   "execution_count": 39,
   "id": "gh-FxRXlT13E",
   "metadata": {
    "colab": {
     "base_uri": "https://localhost:8080/",
     "height": 279
    },
    "id": "gh-FxRXlT13E",
    "outputId": "9835fc88-f788-4b6e-9e1d-3545fd0f8970"
   },
   "outputs": [
    {
     "data": {
      "image/png": "[encoded data removed]",
      "text/plain": [
       "<Figure size 432x288 with 1 Axes>"
      ]
     },
     "metadata": {
      "needs_background": "light"
     },
     "output_type": "display_data"
    }
   ],
   "source": [
    "metrics.plot_roc_curve(rf_classifier, X_test, y_test)\n",
    "plt.show()"
   ]
  },
  {
   "cell_type": "code",
   "execution_count": 40,
   "id": "ocPHCe5pNc0w",
   "metadata": {
    "colab": {
     "base_uri": "https://localhost:8080/"
    },
    "id": "ocPHCe5pNc0w",
    "outputId": "21b668e6-ee44-4473-a489-48ac04c1b4d7"
   },
   "outputs": [
    {
     "name": "stdout",
     "output_type": "stream",
     "text": [
      "Random Forest Classifier\n",
      "Precision: 0.8727\n",
      "Recall: 0.8473\n",
      "Accuracy: 0.8183\n",
      "F1 Score: 0.8598\n",
      "Sensitivity: 0.8473\n",
      "Specificity: 0.7628\n",
      "TPR: 0.8473\n",
      "FPR: 0.2372\n",
      "roc_auc_score: 0.805\n"
     ]
    }
   ],
   "source": [
    "precision = precision_score(y_test, rf_predictions)\n",
    "recall = recall_score(y_test, rf_predictions)\n",
    "acc_score = accuracy_score(y_test, rf_predictions)\n",
    "score = f1_score(y_test, rf_predictions)\n",
    "print('Random Forest Classifier')\n",
    "\n",
    "print('Precision: {:.4}'.format(precision))\n",
    "print('Recall: {:.4}'.format(recall))\n",
    "\n",
    "print(\"Accuracy: {:.4}\".format(acc_score))\n",
    "print(\"F1 Score: {:.4}\".format(score))\n",
    "print(\"Sensitivity: {:.4}\".format(Sensitivity))\n",
    "print(\"Specificity: {:.4}\".format(Specificity))\n",
    "print(\"TPR: {:.4}\".format(TPR))\n",
    "print(\"FPR: {:.4}\".format(FPR))\n",
    "print(\"roc_auc_score: {:.4}\".format(roc_auc_score3))"
   ]
  },
  {
   "cell_type": "markdown",
   "id": "f3c03f06",
   "metadata": {},
   "source": [
    "# SVM"
   ]
  },
  {
   "cell_type": "code",
   "execution_count": 41,
   "id": "tbcHlDqRPBYp",
   "metadata": {
    "id": "tbcHlDqRPBYp"
   },
   "outputs": [],
   "source": [
    "svm_classifier = svm.SVC()\n",
    "svm_classifier.fit(X_train,y_train)\n",
    "svm_predictions = svm_classifier.predict(X_test)"
   ]
  },
  {
   "cell_type": "code",
   "execution_count": 42,
   "id": "vW1fjCP6PBbH",
   "metadata": {
    "colab": {
     "base_uri": "https://localhost:8080/",
     "height": 389
    },
    "id": "vW1fjCP6PBbH",
    "outputId": "d28ce473-ccb9-4302-87cf-c2084dd3c8c0"
   },
   "outputs": [
    {
     "data": {
      "image/png": "[encoded data removed]",
      "text/plain": [
       "<Figure size 432x432 with 1 Axes>"
      ]
     },
     "metadata": {
      "needs_background": "light"
     },
     "output_type": "display_data"
    }
   ],
   "source": [
    "fig, ax = plt.subplots(figsize=(6,6))\n",
    "mat = confusion_matrix(y_test, svm_predictions)\n",
    "sns.heatmap(mat.T, square=True, annot=True, fmt='d', cbar=False,\n",
    "            xticklabels=['Not_Hate_Speech', 'Hate_Speech'], yticklabels=['Not_Hate_Speech', 'Hate_Speech'])\n",
    "plt.xlabel('true label')\n",
    "plt.ylabel('predicted label')\n",
    "plt.show()"
   ]
  },
  {
   "cell_type": "code",
   "execution_count": 43,
   "id": "tTThfvlYPBea",
   "metadata": {
    "id": "tTThfvlYPBea"
   },
   "outputs": [],
   "source": [
    "TP = mat[1,1] # true positive \n",
    "TN = mat[0,0] # true negatives\n",
    "FP = mat[0,1] # false positives\n",
    "FN = mat[1,0] # false negatives"
   ]
  },
  {
   "cell_type": "code",
   "execution_count": 44,
   "id": "IgAXy_EJOlkg",
   "metadata": {
    "id": "IgAXy_EJOlkg"
   },
   "outputs": [],
   "source": [
    "Specificity = TN/(TN+FP)\n",
    "Sensitivity = TP/(TP+FN)\n",
    "TPR=TP/(TP+FN)\n",
    "FPR=FP/(FP+TN)\n",
    "roc_auc_score4=roc_auc_score(y_test, svm_predictions)"
   ]
  },
  {
   "cell_type": "code",
   "execution_count": 45,
   "id": "asR8z-g2TFqA",
   "metadata": {
    "colab": {
     "base_uri": "https://localhost:8080/",
     "height": 279
    },
    "id": "asR8z-g2TFqA",
    "outputId": "0d38401d-149b-470b-c931-e9fa46295f36"
   },
   "outputs": [
    {
     "data": {
      "image/png": "[encoded data removed]",
      "text/plain": [
       "<Figure size 432x288 with 1 Axes>"
      ]
     },
     "metadata": {
      "needs_background": "light"
     },
     "output_type": "display_data"
    }
   ],
   "source": [
    "metrics.plot_roc_curve(svm_classifier, X_test, y_test)\n",
    "plt.show()"
   ]
  },
  {
   "cell_type": "code",
   "execution_count": 46,
   "id": "ycX-cQt3Oln3",
   "metadata": {
    "colab": {
     "base_uri": "https://localhost:8080/"
    },
    "id": "ycX-cQt3Oln3",
    "outputId": "d6765ea2-0b8e-4144-d869-fd9599d90d70"
   },
   "outputs": [
    {
     "name": "stdout",
     "output_type": "stream",
     "text": [
      "Support Vector Machines\n",
      "Precision: 0.6951\n",
      "Recall: 0.9228\n",
      "Accuracy: 0.6831\n",
      "F1 Score: 0.7929\n",
      "Sensitivity: 0.9228\n",
      "Specificity: 0.2229\n",
      "TPR: 0.9228\n",
      "FPR: 0.7771\n",
      "roc_auc_score: 0.5729\n"
     ]
    }
   ],
   "source": [
    "precision = precision_score(y_test, svm_predictions)\n",
    "recall = recall_score(y_test, svm_predictions)\n",
    "acc_score = accuracy_score(y_test, svm_predictions)\n",
    "score = f1_score(y_test, svm_predictions)\n",
    "print('Support Vector Machines')\n",
    "\n",
    "print('Precision: {:.4}'.format(precision))\n",
    "print('Recall: {:.4}'.format(recall))\n",
    "\n",
    "print(\"Accuracy: {:.4}\".format(acc_score))\n",
    "print(\"F1 Score: {:.4}\".format(score))\n",
    "print(\"Sensitivity: {:.4}\".format(Sensitivity))\n",
    "print(\"Specificity: {:.4}\".format(Specificity))\n",
    "print(\"TPR: {:.4}\".format(TPR))\n",
    "print(\"FPR: {:.4}\".format(FPR))\n",
    "print(\"roc_auc_score: {:.4}\".format(roc_auc_score4))"
   ]
  },
  {
   "cell_type": "markdown",
   "id": "0ae1fea2",
   "metadata": {},
   "source": [
    "# LSTM"
   ]
  },
  {
   "cell_type": "code",
   "execution_count": 47,
   "id": "f7791a4e",
   "metadata": {
    "colab": {
     "base_uri": "https://localhost:8080/"
    },
    "id": "f7791a4e",
    "outputId": "252634f2-121a-4c2c-c1df-0b3608a0ef1c"
   },
   "outputs": [
    {
     "name": "stdout",
     "output_type": "stream",
     "text": [
      "WARNING:tensorflow:Layer lstm will not use cuDNN kernels since it doesn't meet the criteria. It will use a generic GPU kernel as fallback when running on GPU.\n"
     ]
    }
   ],
   "source": [
    "max_features=20000\n",
    "model = Sequential()\n",
    "model.add(Embedding(max_features, 128))\n",
    "model.add(LSTM(128, dropout=0.2, recurrent_dropout=0.2))\n",
    "model.add(Dense(1, activation='sigmoid'))"
   ]
  },
  {
   "cell_type": "code",
   "execution_count": 48,
   "id": "3b17c30c",
   "metadata": {
    "id": "3b17c30c"
   },
   "outputs": [],
   "source": [
    "model.compile(loss='binary_crossentropy',\n",
    "              optimizer='adam',\n",
    "              metrics=['accuracy'])"
   ]
  },
  {
   "cell_type": "code",
   "execution_count": 49,
   "id": "kFzbZeZtO4is",
   "metadata": {
    "colab": {
     "base_uri": "https://localhost:8080/"
    },
    "id": "kFzbZeZtO4is",
    "outputId": "41b74987-b11d-415d-8100-ec6c1fbf4661"
   },
   "outputs": [
    {
     "name": "stdout",
     "output_type": "stream",
     "text": [
      "Model: \"sequential\"\n",
      "_________________________________________________________________\n",
      "Layer (type)                 Output Shape              Param #   \n",
      "=================================================================\n",
      "embedding (Embedding)        (None, None, 128)         2560000   \n",
      "_________________________________________________________________\n",
      "lstm (LSTM)                  (None, 128)               131584    \n",
      "_________________________________________________________________\n",
      "dense (Dense)                (None, 1)                 129       \n",
      "=================================================================\n",
      "Total params: 2,691,713\n",
      "Trainable params: 2,691,713\n",
      "Non-trainable params: 0\n",
      "_________________________________________________________________\n"
     ]
    }
   ],
   "source": [
    "model.summary()"
   ]
  },
  {
   "cell_type": "code",
   "execution_count": 50,
   "id": "986d2674",
   "metadata": {
    "colab": {
     "base_uri": "https://localhost:8080/"
    },
    "id": "986d2674",
    "outputId": "16ed5b63-64bc-4141-fe71-b108e1cc57f2"
   },
   "outputs": [
    {
     "name": "stdout",
     "output_type": "stream",
     "text": [
      "795/795 [==============================] - 114s 137ms/step - loss: 0.2706 - accuracy: 0.8806 - val_loss: 0.0000e+00 - val_accuracy: 0.0000e+00\n"
     ]
    },
    {
     "data": {
      "text/plain": [
       "<keras.callbacks.History at 0x7fa150102790>"
      ]
     },
     "execution_count": 50,
     "metadata": {},
     "output_type": "execute_result"
    }
   ],
   "source": [
    "batch_size = 36\n",
    "model.fit(X_train, y_train,\n",
    "          batch_size=batch_size,\n",
    "          epochs=1,\n",
    "          validation_data=[X_test, y_test])"
   ]
  },
  {
   "cell_type": "code",
   "execution_count": 51,
   "id": "e29bc486",
   "metadata": {
    "id": "e29bc486"
   },
   "outputs": [],
   "source": [
    "predictions=model.predict(X_test)"
   ]
  },
  {
   "cell_type": "code",
   "execution_count": 52,
   "id": "jIJb99ner5fj",
   "metadata": {
    "colab": {
     "base_uri": "https://localhost:8080/"
    },
    "id": "jIJb99ner5fj",
    "outputId": "c3a99c02-9788-499e-dba7-1ee57dca6728"
   },
   "outputs": [
    {
     "data": {
      "text/plain": [
       "array([[0.99562895],\n",
       "       [0.9905088 ],\n",
       "       [0.04423383],\n",
       "       ...,\n",
       "       [0.9997609 ],\n",
       "       [0.98715204],\n",
       "       [0.9972531 ]], dtype=float32)"
      ]
     },
     "execution_count": 52,
     "metadata": {},
     "output_type": "execute_result"
    }
   ],
   "source": [
    "predictions"
   ]
  },
  {
   "cell_type": "code",
   "execution_count": 53,
   "id": "rTPpKnpVr5jj",
   "metadata": {
    "colab": {
     "base_uri": "https://localhost:8080/"
    },
    "id": "rTPpKnpVr5jj",
    "outputId": "2724c73d-78cf-4d8d-f476-79b79376405f"
   },
   "outputs": [
    {
     "data": {
      "text/plain": [
       "array([[1.],\n",
       "       [1.],\n",
       "       [0.],\n",
       "       ...,\n",
       "       [1.],\n",
       "       [1.],\n",
       "       [1.]], dtype=float32)"
      ]
     },
     "execution_count": 53,
     "metadata": {},
     "output_type": "execute_result"
    }
   ],
   "source": [
    "predictions = np.round(predictions)\n",
    "predictions"
   ]
  },
  {
   "cell_type": "code",
   "execution_count": 54,
   "id": "cc5ec651",
   "metadata": {
    "colab": {
     "base_uri": "https://localhost:8080/",
     "height": 389
    },
    "id": "cc5ec651",
    "outputId": "d66966d4-025a-4149-dec5-5dbe833a9a42"
   },
   "outputs": [
    {
     "data": {
      "image/png": "[encoded data removed]",
      "text/plain": [
       "<Figure size 432x432 with 1 Axes>"
      ]
     },
     "metadata": {
      "needs_background": "light"
     },
     "output_type": "display_data"
    }
   ],
   "source": [
    "fig, ax = plt.subplots(figsize=(6,6))\n",
    "mat = confusion_matrix(y_test, predictions)\n",
    "sns.heatmap(mat.T, square=True, annot=True, fmt='d', cbar=False,\n",
    "            xticklabels=['Not_Hate_Speech', 'Hate_Speech'], yticklabels=['Not_Hate_Speech', 'Hate_Speech'])\n",
    "plt.xlabel('true label')\n",
    "plt.ylabel('predicted label')\n",
    "plt.show()"
   ]
  },
  {
   "cell_type": "code",
   "execution_count": 55,
   "id": "GJC0HrLtH3B9",
   "metadata": {
    "id": "GJC0HrLtH3B9"
   },
   "outputs": [],
   "source": [
    "TP = mat[1,1] # true positive \n",
    "TN = mat[0,0] # true negatives\n",
    "FP = mat[0,1] # false positives\n",
    "FN = mat[1,0] # false negatives"
   ]
  },
  {
   "cell_type": "code",
   "execution_count": 56,
   "id": "seWUCCfbH3EK",
   "metadata": {
    "id": "seWUCCfbH3EK"
   },
   "outputs": [],
   "source": [
    "Specificity = TN/(TN+FP)\n",
    "Sensitivity = TP/(TP+FN)"
   ]
  },
  {
   "cell_type": "code",
   "execution_count": 57,
   "id": "O6B5Bqc_H3Hi",
   "metadata": {
    "id": "O6B5Bqc_H3Hi"
   },
   "outputs": [],
   "source": [
    "TPR=TP/(TP+FN)\n",
    "FPR=FP/(FP+TN)"
   ]
  },
  {
   "cell_type": "code",
   "execution_count": 58,
   "id": "FWu5lZz6menK",
   "metadata": {
    "id": "FWu5lZz6menK"
   },
   "outputs": [],
   "source": [
    "roc_auc_score5=roc_auc_score(y_test, predictions)"
   ]
  },
  {
   "cell_type": "code",
   "execution_count": 59,
   "id": "4cbd77bf",
   "metadata": {
    "colab": {
     "base_uri": "https://localhost:8080/"
    },
    "id": "4cbd77bf",
    "outputId": "9e23ce99-0cec-4576-eeeb-a18a62c963f5"
   },
   "outputs": [
    {
     "name": "stdout",
     "output_type": "stream",
     "text": [
      "LSTM\n",
      "Precision: 0.9545\n",
      "Recall: 0.8873\n",
      "Accuracy: 0.8981\n",
      "F1 Score: 0.9197\n",
      "Sensitivity: 0.8873\n",
      "Specificity: 0.9187\n",
      "TPR: 0.8873\n",
      "FPR: 0.08126\n",
      "roc_auc_score: 0.903\n"
     ]
    }
   ],
   "source": [
    "precision = precision_score(y_test, predictions)\n",
    "recall = recall_score(y_test, predictions)\n",
    "acc_score = accuracy_score(y_test, predictions)\n",
    "score = f1_score(y_test, predictions)\n",
    "print('LSTM')\n",
    "\n",
    "print('Precision: {:.4}'.format(precision))\n",
    "print('Recall: {:.4}'.format(recall))\n",
    "\n",
    "print(\"Accuracy: {:.4}\".format(acc_score))\n",
    "print(\"F1 Score: {:.4}\".format(score))\n",
    "print(\"Sensitivity: {:.4}\".format(Sensitivity))\n",
    "print(\"Specificity: {:.4}\".format(Specificity))\n",
    "print(\"TPR: {:.4}\".format(TPR))\n",
    "print(\"FPR: {:.4}\".format(FPR))\n",
    "print(\"roc_auc_score: {:.4}\".format(roc_auc_score5))"
   ]
  },
  {
   "cell_type": "markdown",
   "id": "cef73be8",
   "metadata": {
    "id": "cef73be8"
   },
   "source": [
    "# Bi-Directional LSTM"
   ]
  },
  {
   "cell_type": "code",
   "execution_count": 60,
   "id": "9a11e496",
   "metadata": {
    "id": "9a11e496"
   },
   "outputs": [],
   "source": [
    "max_features = 20000\n",
    "batch_size = 32\n",
    "maxlen=100"
   ]
  },
  {
   "cell_type": "code",
   "execution_count": 61,
   "id": "adb8d215",
   "metadata": {
    "id": "adb8d215"
   },
   "outputs": [],
   "source": [
    "model1 = Sequential()\n",
    "model1.add(Embedding(max_features, 128, input_length=maxlen))\n",
    "model1.add(Bidirectional(LSTM(64)))\n",
    "model1.add(Dropout(0.5))\n",
    "model1.add(Dense(1, activation='sigmoid'))"
   ]
  },
  {
   "cell_type": "code",
   "execution_count": 62,
   "id": "4187b616",
   "metadata": {
    "id": "4187b616"
   },
   "outputs": [],
   "source": [
    "model1.compile('adam', 'binary_crossentropy', metrics=['accuracy'])"
   ]
  },
  {
   "cell_type": "code",
   "execution_count": 63,
   "id": "u52AaQaDO-J0",
   "metadata": {
    "colab": {
     "base_uri": "https://localhost:8080/"
    },
    "id": "u52AaQaDO-J0",
    "outputId": "a0cfa684-1b85-400a-ad54-c84c3fd88c0f"
   },
   "outputs": [
    {
     "name": "stdout",
     "output_type": "stream",
     "text": [
      "Model: \"sequential_1\"\n",
      "_________________________________________________________________\n",
      "Layer (type)                 Output Shape              Param #   \n",
      "=================================================================\n",
      "embedding_1 (Embedding)      (None, 100, 128)          2560000   \n",
      "_________________________________________________________________\n",
      "bidirectional (Bidirectional (None, 128)               98816     \n",
      "_________________________________________________________________\n",
      "dropout (Dropout)            (None, 128)               0         \n",
      "_________________________________________________________________\n",
      "dense_1 (Dense)              (None, 1)                 129       \n",
      "=================================================================\n",
      "Total params: 2,658,945\n",
      "Trainable params: 2,658,945\n",
      "Non-trainable params: 0\n",
      "_________________________________________________________________\n"
     ]
    }
   ],
   "source": [
    "model1.summary()"
   ]
  },
  {
   "cell_type": "code",
   "execution_count": 64,
   "id": "828efa37",
   "metadata": {
    "colab": {
     "base_uri": "https://localhost:8080/"
    },
    "id": "828efa37",
    "outputId": "7b9dac24-a251-4ba4-be51-83f8f423d04c"
   },
   "outputs": [
    {
     "name": "stdout",
     "output_type": "stream",
     "text": [
      "WARNING:tensorflow:Model was constructed with shape (None, 100) for input KerasTensor(type_spec=TensorSpec(shape=(None, 100), dtype=tf.float32, name='embedding_1_input'), name='embedding_1_input', description=\"created by layer 'embedding_1_input'\"), but it was called on an input with incompatible shape (None, 22).\n",
      "WARNING:tensorflow:Model was constructed with shape (None, 100) for input KerasTensor(type_spec=TensorSpec(shape=(None, 100), dtype=tf.float32, name='embedding_1_input'), name='embedding_1_input', description=\"created by layer 'embedding_1_input'\"), but it was called on an input with incompatible shape (None, 22).\n",
      "891/894 [============================>.] - ETA: 0s - loss: 0.2743 - accuracy: 0.8798WARNING:tensorflow:Model was constructed with shape (None, 100) for input KerasTensor(type_spec=TensorSpec(shape=(None, 100), dtype=tf.float32, name='embedding_1_input'), name='embedding_1_input', description=\"created by layer 'embedding_1_input'\"), but it was called on an input with incompatible shape (None, 22).\n",
      "894/894 [==============================] - 18s 14ms/step - loss: 0.2741 - accuracy: 0.8799 - val_loss: 0.0000e+00 - val_accuracy: 0.0000e+00\n"
     ]
    },
    {
     "data": {
      "text/plain": [
       "<keras.callbacks.History at 0x7fa1182b4350>"
      ]
     },
     "execution_count": 64,
     "metadata": {},
     "output_type": "execute_result"
    }
   ],
   "source": [
    "model1.fit(X_train, y_train,\n",
    "          batch_size=batch_size,\n",
    "          epochs=1,\n",
    "          validation_data=[X_test, y_test])"
   ]
  },
  {
   "cell_type": "code",
   "execution_count": 65,
   "id": "NRFcp_jo3T03",
   "metadata": {
    "colab": {
     "base_uri": "https://localhost:8080/"
    },
    "id": "NRFcp_jo3T03",
    "outputId": "543b8712-53ed-455e-a68d-4f9f33e976bb"
   },
   "outputs": [
    {
     "name": "stdout",
     "output_type": "stream",
     "text": [
      "WARNING:tensorflow:Model was constructed with shape (None, 100) for input KerasTensor(type_spec=TensorSpec(shape=(None, 100), dtype=tf.float32, name='embedding_1_input'), name='embedding_1_input', description=\"created by layer 'embedding_1_input'\"), but it was called on an input with incompatible shape (None, 22).\n"
     ]
    },
    {
     "data": {
      "text/plain": [
       "array([[0.9911556 ],\n",
       "       [0.99734336],\n",
       "       [0.04536275],\n",
       "       ...,\n",
       "       [0.9997255 ],\n",
       "       [0.97985935],\n",
       "       [0.9988932 ]], dtype=float32)"
      ]
     },
     "execution_count": 65,
     "metadata": {},
     "output_type": "execute_result"
    }
   ],
   "source": [
    "predictions1=model1.predict(X_test)\n",
    "predictions1"
   ]
  },
  {
   "cell_type": "code",
   "execution_count": 66,
   "id": "3Y4A7RPC3T3c",
   "metadata": {
    "colab": {
     "base_uri": "https://localhost:8080/"
    },
    "id": "3Y4A7RPC3T3c",
    "outputId": "1f28e5f1-9035-4b72-b0f6-df7945f26af8"
   },
   "outputs": [
    {
     "data": {
      "text/plain": [
       "array([[1.],\n",
       "       [1.],\n",
       "       [0.],\n",
       "       ...,\n",
       "       [1.],\n",
       "       [1.],\n",
       "       [1.]], dtype=float32)"
      ]
     },
     "execution_count": 66,
     "metadata": {},
     "output_type": "execute_result"
    }
   ],
   "source": [
    "predictions1 = np.round(predictions1)\n",
    "predictions1"
   ]
  },
  {
   "cell_type": "code",
   "execution_count": 67,
   "id": "b3c00abb",
   "metadata": {
    "colab": {
     "base_uri": "https://localhost:8080/",
     "height": 389
    },
    "id": "b3c00abb",
    "outputId": "bc99c19a-eb98-4349-9e6e-5de55c9bcf99"
   },
   "outputs": [
    {
     "data": {
      "image/png": "[encoded data removed]",
      "text/plain": [
       "<Figure size 432x432 with 1 Axes>"
      ]
     },
     "metadata": {
      "needs_background": "light"
     },
     "output_type": "display_data"
    }
   ],
   "source": [
    "fig, ax = plt.subplots(figsize=(6,6))\n",
    "mat = confusion_matrix(y_test, predictions1)\n",
    "sns.heatmap(mat.T, square=True, annot=True, fmt='d', cbar=False,\n",
    "            xticklabels=['Not_Hate_Speech', 'Hate_Speech'], yticklabels=['Not_Hate_Speech', 'Hate_Speech'])\n",
    "plt.xlabel('true label')\n",
    "plt.ylabel('predicted label')\n",
    "plt.show()"
   ]
  },
  {
   "cell_type": "code",
   "execution_count": 68,
   "id": "1zj4fnitMuRb",
   "metadata": {
    "id": "1zj4fnitMuRb"
   },
   "outputs": [],
   "source": [
    "TP = mat[1,1] # true positive \n",
    "TN = mat[0,0] # true negatives\n",
    "FP = mat[0,1] # false positives\n",
    "FN = mat[1,0] # false negatives"
   ]
  },
  {
   "cell_type": "code",
   "execution_count": 69,
   "id": "U29p5ua4MuT_",
   "metadata": {
    "id": "U29p5ua4MuT_"
   },
   "outputs": [],
   "source": [
    "Specificity = TN/(TN+FP)\n",
    "Sensitivity = TP/(TP+FN)\n",
    "TPR=TP/(TP+FN)\n",
    "FPR=FP/(FP+TN)"
   ]
  },
  {
   "cell_type": "code",
   "execution_count": 70,
   "id": "2YldfTPA3wOv",
   "metadata": {
    "id": "2YldfTPA3wOv"
   },
   "outputs": [],
   "source": [
    "roc_auc_score6=roc_auc_score(y_test, predictions1)"
   ]
  },
  {
   "cell_type": "code",
   "execution_count": 71,
   "id": "c03a0465",
   "metadata": {
    "colab": {
     "base_uri": "https://localhost:8080/"
    },
    "id": "c03a0465",
    "outputId": "a270a403-8083-494e-9940-30fd7e97b992"
   },
   "outputs": [
    {
     "name": "stdout",
     "output_type": "stream",
     "text": [
      "Bi-Directional LSTM\n",
      "Precision: 0.9687\n",
      "Recall: 0.8745\n",
      "Accuracy: 0.8989\n",
      "F1 Score: 0.9192\n",
      "Sensitivity: 0.8745\n",
      "Specificity: 0.9457\n",
      "TPR: 0.8745\n",
      "FPR: 0.05431\n",
      "roc_auc_score: 0.9101\n"
     ]
    }
   ],
   "source": [
    "precision = precision_score(y_test, predictions1)\n",
    "recall = recall_score(y_test, predictions1)\n",
    "acc_score = accuracy_score(y_test, predictions1)\n",
    "score = f1_score(y_test, predictions1)\n",
    "print('Bi-Directional LSTM')\n",
    "\n",
    "print('Precision: {:.4}'.format(precision))\n",
    "print('Recall: {:.4}'.format(recall))\n",
    "\n",
    "print(\"Accuracy: {:.4}\".format(acc_score))\n",
    "print(\"F1 Score: {:.4}\".format(score))\n",
    "print(\"Sensitivity: {:.4}\".format(Sensitivity))\n",
    "print(\"Specificity: {:.4}\".format(Specificity))\n",
    "print(\"TPR: {:.4}\".format(TPR))\n",
    "print(\"FPR: {:.4}\".format(FPR))\n",
    "print(\"roc_auc_score: {:.4}\".format(roc_auc_score6))"
   ]
  },
  {
   "cell_type": "markdown",
   "id": "63699b37",
   "metadata": {
    "id": "63699b37"
   },
   "source": [
    "# GRU(Gated Recurrent Unit) Network"
   ]
  },
  {
   "cell_type": "code",
   "execution_count": 72,
   "id": "4f634372",
   "metadata": {
    "id": "4f634372"
   },
   "outputs": [],
   "source": [
    "num_words = 30000\n",
    "maxlen = 300"
   ]
  },
  {
   "cell_type": "code",
   "execution_count": 73,
   "id": "b6579657",
   "metadata": {
    "id": "b6579657"
   },
   "outputs": [],
   "source": [
    "X_train = X_train.reshape(X_train.shape + (1,))\n",
    "X_test = X_test.reshape(X_test.shape + (1,))"
   ]
  },
  {
   "cell_type": "code",
   "execution_count": 74,
   "id": "5f7bf27c",
   "metadata": {
    "colab": {
     "base_uri": "https://localhost:8080/"
    },
    "id": "5f7bf27c",
    "outputId": "dcbd26f3-977a-4736-f189-e7a82d1ad066"
   },
   "outputs": [
    {
     "name": "stdout",
     "output_type": "stream",
     "text": [
      "WARNING:tensorflow:Model was constructed with shape (None, 300, 1) for input KerasTensor(type_spec=TensorSpec(shape=(None, 300, 1), dtype=tf.float32, name='gru_input'), name='gru_input', description=\"created by layer 'gru_input'\"), but it was called on an input with incompatible shape (None, 22, 1).\n",
      "WARNING:tensorflow:Model was constructed with shape (None, 300, 1) for input KerasTensor(type_spec=TensorSpec(shape=(None, 300, 1), dtype=tf.float32, name='gru_input'), name='gru_input', description=\"created by layer 'gru_input'\"), but it was called on an input with incompatible shape (None, 22, 1).\n",
      "894/894 [==============================] - 13s 11ms/step - loss: 0.5217 - accuracy: 0.7785\n"
     ]
    },
    {
     "data": {
      "text/plain": [
       "<keras.callbacks.History at 0x7fa115353690>"
      ]
     },
     "execution_count": 74,
     "metadata": {},
     "output_type": "execute_result"
    }
   ],
   "source": [
    "def gru_model():\n",
    "    model2 = Sequential()\n",
    "    model2.add(GRU(50, input_shape = (300,1), return_sequences = True))\n",
    "    model2.add(GRU(1, return_sequences = False))\n",
    "    model2.add(Activation('sigmoid'))\n",
    "    \n",
    "    model2.compile(loss = 'binary_crossentropy', optimizer = 'adam', metrics = ['accuracy'])\n",
    "    return model2\n",
    "    \n",
    "model2 = gru_model()\n",
    "\n",
    "model2.fit(X_train, y_train, batch_size = 32, epochs = 1)"
   ]
  },
  {
   "cell_type": "code",
   "execution_count": 75,
   "id": "RQLeQUyfPEmK",
   "metadata": {
    "colab": {
     "base_uri": "https://localhost:8080/"
    },
    "id": "RQLeQUyfPEmK",
    "outputId": "ccb745ba-3868-4baf-ffdd-b5449254db6c"
   },
   "outputs": [
    {
     "name": "stdout",
     "output_type": "stream",
     "text": [
      "Model: \"sequential_2\"\n",
      "_________________________________________________________________\n",
      "Layer (type)                 Output Shape              Param #   \n",
      "=================================================================\n",
      "gru (GRU)                    (None, 300, 50)           7950      \n",
      "_________________________________________________________________\n",
      "gru_1 (GRU)                  (None, 1)                 159       \n",
      "_________________________________________________________________\n",
      "activation (Activation)      (None, 1)                 0         \n",
      "=================================================================\n",
      "Total params: 8,109\n",
      "Trainable params: 8,109\n",
      "Non-trainable params: 0\n",
      "_________________________________________________________________\n"
     ]
    }
   ],
   "source": [
    "model2.summary()"
   ]
  },
  {
   "cell_type": "code",
   "execution_count": 76,
   "id": "uxvE3TF-4EP8",
   "metadata": {
    "colab": {
     "base_uri": "https://localhost:8080/"
    },
    "id": "uxvE3TF-4EP8",
    "outputId": "ae4a7181-5efb-48df-ab85-fae2b287b28a"
   },
   "outputs": [
    {
     "name": "stdout",
     "output_type": "stream",
     "text": [
      "WARNING:tensorflow:Model was constructed with shape (None, 300, 1) for input KerasTensor(type_spec=TensorSpec(shape=(None, 300, 1), dtype=tf.float32, name='gru_input'), name='gru_input', description=\"created by layer 'gru_input'\"), but it was called on an input with incompatible shape (None, 22, 1).\n"
     ]
    },
    {
     "data": {
      "text/plain": [
       "array([[0.7309568 ],\n",
       "       [0.7282295 ],\n",
       "       [0.313452  ],\n",
       "       ...,\n",
       "       [0.73105305],\n",
       "       [0.72198117],\n",
       "       [0.73098284]], dtype=float32)"
      ]
     },
     "execution_count": 76,
     "metadata": {},
     "output_type": "execute_result"
    }
   ],
   "source": [
    "predictions2=model2.predict(X_test)\n",
    "predictions2"
   ]
  },
  {
   "cell_type": "code",
   "execution_count": 77,
   "id": "XY9kCQlj4EWs",
   "metadata": {
    "colab": {
     "base_uri": "https://localhost:8080/"
    },
    "id": "XY9kCQlj4EWs",
    "outputId": "6d298b72-1b0c-4fb8-b25b-a400fca1e402"
   },
   "outputs": [
    {
     "data": {
      "text/plain": [
       "array([[1.],\n",
       "       [1.],\n",
       "       [0.],\n",
       "       ...,\n",
       "       [1.],\n",
       "       [1.],\n",
       "       [1.]], dtype=float32)"
      ]
     },
     "execution_count": 77,
     "metadata": {},
     "output_type": "execute_result"
    }
   ],
   "source": [
    "predictions2 = np.round(predictions2)\n",
    "predictions2"
   ]
  },
  {
   "cell_type": "code",
   "execution_count": 78,
   "id": "27e6070c",
   "metadata": {
    "colab": {
     "base_uri": "https://localhost:8080/",
     "height": 389
    },
    "id": "27e6070c",
    "outputId": "3b6628f5-260a-4d36-fe93-8017553c3d5a"
   },
   "outputs": [
    {
     "data": {
      "image/png": "[encoded data removed]",
      "text/plain": [
       "<Figure size 432x432 with 1 Axes>"
      ]
     },
     "metadata": {
      "needs_background": "light"
     },
     "output_type": "display_data"
    }
   ],
   "source": [
    "fig, ax = plt.subplots(figsize=(6,6))\n",
    "mat = confusion_matrix(y_test, predictions2)\n",
    "sns.heatmap(mat.T, square=True, annot=True, fmt='d', cbar=False,\n",
    "            xticklabels=['Not_Hate_Speech', 'Hate_Speech'], yticklabels=['Not_Hate_Speech', 'Hate_Speech'])\n",
    "plt.xlabel('true label')\n",
    "plt.ylabel('predicted label')\n",
    "plt.show()"
   ]
  },
  {
   "cell_type": "code",
   "execution_count": 79,
   "id": "t3vA8mXmOIO_",
   "metadata": {
    "id": "t3vA8mXmOIO_"
   },
   "outputs": [],
   "source": [
    "TP = mat[1,1] # true positive \n",
    "TN = mat[0,0] # true negatives\n",
    "FP = mat[0,1] # false positives\n",
    "FN = mat[1,0] # false negatives"
   ]
  },
  {
   "cell_type": "code",
   "execution_count": 80,
   "id": "-Ko_FUApOIRS",
   "metadata": {
    "id": "-Ko_FUApOIRS"
   },
   "outputs": [],
   "source": [
    "Specificity = TN/(TN+FP)\n",
    "Sensitivity = TP/(TP+FN)\n",
    "TPR=TP/(TP+FN)\n",
    "FPR=FP/(FP+TN)"
   ]
  },
  {
   "cell_type": "code",
   "execution_count": 81,
   "id": "-se4Q2Au4rwG",
   "metadata": {
    "id": "-se4Q2Au4rwG"
   },
   "outputs": [],
   "source": [
    "roc_auc_score7=roc_auc_score(y_test, predictions2)"
   ]
  },
  {
   "cell_type": "code",
   "execution_count": 82,
   "id": "jAiFU79SOIVr",
   "metadata": {
    "colab": {
     "base_uri": "https://localhost:8080/"
    },
    "id": "jAiFU79SOIVr",
    "outputId": "034c08e6-26d2-4053-ccb1-c5c38cb466b5"
   },
   "outputs": [
    {
     "name": "stdout",
     "output_type": "stream",
     "text": [
      "GRU(Gated Recurrent Unit) Network\n",
      "Precision: 0.9303\n",
      "Recall: 0.7641\n",
      "Accuracy: 0.8073\n",
      "F1 Score: 0.8391\n",
      "Sensitivity: 0.7641\n",
      "Specificity: 0.8902\n",
      "TPR: 0.7641\n",
      "FPR: 0.1098\n",
      "roc_auc_score: 0.8272\n"
     ]
    }
   ],
   "source": [
    "precision = precision_score(y_test, predictions2)\n",
    "recall = recall_score(y_test, predictions2)\n",
    "acc_score = accuracy_score(y_test, predictions2)\n",
    "score = f1_score(y_test, predictions2)\n",
    "print('GRU(Gated Recurrent Unit) Network')\n",
    "\n",
    "print('Precision: {:.4}'.format(precision))\n",
    "print('Recall: {:.4}'.format(recall))\n",
    "\n",
    "print(\"Accuracy: {:.4}\".format(acc_score))\n",
    "print(\"F1 Score: {:.4}\".format(score))\n",
    "print(\"Sensitivity: {:.4}\".format(Sensitivity))\n",
    "print(\"Specificity: {:.4}\".format(Specificity))\n",
    "print(\"TPR: {:.4}\".format(TPR))\n",
    "print(\"FPR: {:.4}\".format(FPR))\n",
    "print(\"roc_auc_score: {:.4}\".format(roc_auc_score7))"
   ]
  },
  {
   "cell_type": "code",
   "execution_count": 83,
   "id": "27276436",
   "metadata": {
    "id": "27276436"
   },
   "outputs": [],
   "source": [
    "df2=df"
   ]
  },
  {
   "cell_type": "code",
   "execution_count": 84,
   "id": "af14ea79",
   "metadata": {
    "colab": {
     "base_uri": "https://localhost:8080/",
     "height": 203
    },
    "id": "af14ea79",
    "outputId": "a700bfc9-3054-4ea2-8f53-3c1be7510bd8"
   },
   "outputs": [
    {
     "data": {
      "text/html": [
       "<div>\n",
       "<style scoped>\n",
       "    .dataframe tbody tr th:only-of-type {\n",
       "        vertical-align: middle;\n",
       "    }\n",
       "\n",
       "    .dataframe tbody tr th {\n",
       "        vertical-align: top;\n",
       "    }\n",
       "\n",
       "    .dataframe thead th {\n",
       "        text-align: right;\n",
       "    }\n",
       "</style>\n",
       "<table border=\"1\" class=\"dataframe\">\n",
       "  <thead>\n",
       "    <tr style=\"text-align: right;\">\n",
       "      <th></th>\n",
       "      <th>text</th>\n",
       "      <th>target</th>\n",
       "    </tr>\n",
       "  </thead>\n",
       "  <tbody>\n",
       "    <tr>\n",
       "      <th>0</th>\n",
       "      <td>drasko said impressed girls cooked half chicke...</td>\n",
       "      <td>1</td>\n",
       "    </tr>\n",
       "    <tr>\n",
       "      <th>1</th>\n",
       "      <td>drasko cook half bird idiot</td>\n",
       "      <td>1</td>\n",
       "    </tr>\n",
       "    <tr>\n",
       "      <th>2</th>\n",
       "      <td>hopefully cooks drasko ep</td>\n",
       "      <td>1</td>\n",
       "    </tr>\n",
       "    <tr>\n",
       "      <th>3</th>\n",
       "      <td>course born serbia fucked serbian film</td>\n",
       "      <td>1</td>\n",
       "    </tr>\n",
       "    <tr>\n",
       "      <th>4</th>\n",
       "      <td>girls equivalent irritating asian girls couple...</td>\n",
       "      <td>1</td>\n",
       "    </tr>\n",
       "  </tbody>\n",
       "</table>\n",
       "</div>"
      ],
      "text/plain": [
       "                                                text  target\n",
       "0  drasko said impressed girls cooked half chicke...       1\n",
       "1                       drasko cook half bird idiot        1\n",
       "2                         hopefully cooks drasko ep        1\n",
       "3            course born serbia fucked serbian film        1\n",
       "4  girls equivalent irritating asian girls couple...       1"
      ]
     },
     "execution_count": 84,
     "metadata": {},
     "output_type": "execute_result"
    }
   ],
   "source": [
    "df2.head()"
   ]
  },
  {
   "cell_type": "code",
   "execution_count": 85,
   "id": "37b2656a",
   "metadata": {
    "id": "37b2656a"
   },
   "outputs": [],
   "source": [
    "X=list(df2['text'])\n",
    "y=df2['target'].values.tolist()"
   ]
  },
  {
   "cell_type": "code",
   "execution_count": 86,
   "id": "a25ff5ce",
   "metadata": {
    "id": "a25ff5ce"
   },
   "outputs": [],
   "source": [
    "from sklearn.model_selection import train_test_split\n",
    "X_train, X_test, y_train, y_test = train_test_split(X, y, test_size = 0.20, random_state = 0)"
   ]
  },
  {
   "cell_type": "markdown",
   "id": "aee3a9fc",
   "metadata": {},
   "source": [
    "# BERT"
   ]
  },
  {
   "cell_type": "code",
   "execution_count": 87,
   "id": "IgXiCAMKvPyb",
   "metadata": {
    "colab": {
     "base_uri": "https://localhost:8080/",
     "height": 145,
     "referenced_widgets": [
      "faf0e3022e7e40c2b0cc77b58d30fa6f",
      "213980a23f6045bf9920d2dd7f63732c",
      "9bba8d6e420c471fa213dbfc9e0efa31",
      "63a72a34d55d4e68ba84f34de7747d67",
      "19d58ba36487454bae2feca5d040ee15",
      "b5ff6c772fab4a6981a2e88add532db3",
      "f31ad66973004efa932c6179df955678",
      "8f3bc12b22984a53b15761c394837f81",
      "6e5f82d9a23c4f158a7e4a79906b3a2a",
      "04ccb92794934edfa03b901fee1f6679",
      "a5980c30af224615903fe60cb46e33cd",
      "d1843e32a58747988a1bc8b861f05e2a",
      "8f88ae3b18424b7abc2a5bd1fe1c7fcf",
      "2a6ea8f5d51942c993baaa70b71c63f1",
      "21529b4fd5b044d3a3020a329871f079",
      "e9b80ac1c1c846b484ded4905a0ce559",
      "929f534bc97b4bcb9dd189c9f27cb6f9",
      "5d4c1e3f1dc34056b7c55b21c4177455",
      "eea58682a9064d48a3b25f1fb8177c9e",
      "c2a9e367ca1843248f7cc8ecac6a32de",
      "492f7945da974cf0a9606925004af369",
      "d23723ac9c354857b838e86fd5a4effb",
      "33082cc58a93490bb1fd41b444e064de",
      "4eb3a49703c44696b246bc72549c3d41",
      "a5d2f283599a468f9cb4af1ba4f55768",
      "4dd98e5a786e4d9599bc11f6a851fdf6",
      "a11594d3965543788ae9e24505327bda",
      "c2e5183b78c94b778fcc9c820033880c",
      "d2723be284c4466a8812e8824f4192d8",
      "f7581b322d3f47a9bf79c13172ed0925",
      "3b8aa45fa8a04753a043a0e2e76d363b",
      "999cebfcbd5649f8855c936dc0a14870",
      "0f48028c31dd4d71bc1cf31fece2a0bd",
      "afbac40479b6413e8bb39c6007d95384",
      "6a3ba8ce3fc448849a81dea6d33859b6",
      "1cb5218973324ae4acd18998a8e9526b",
      "66422d79ee5f44ba81cf91857b12305f",
      "9158968ec951419b98dae7195d7c9a31",
      "16d29d07dd4142298eb45b738772f90c",
      "2ad9bfab36274bdbb2be34df4e73f4a4",
      "734229e56230406dba8888279182fda0",
      "baa9d6312ce747d8ac6bbc2628a17e84",
      "f9acf05dcacc4e8087332621ee6a0c6f",
      "b3a74014586e456b85b2ec5dfadeb2c0"
     ]
    },
    "id": "IgXiCAMKvPyb",
    "outputId": "ccceae53-eb95-4a0b-f622-b16c550ee7b7"
   },
   "outputs": [
    {
     "data": {
      "application/vnd.jupyter.widget-view+json": {
       "model_id": "faf0e3022e7e40c2b0cc77b58d30fa6f",
       "version_major": 2,
       "version_minor": 0
      },
      "text/plain": [
       "Downloading:   0%|          | 0.00/213k [00:00<?, ?B/s]"
      ]
     },
     "metadata": {},
     "output_type": "display_data"
    },
    {
     "data": {
      "application/vnd.jupyter.widget-view+json": {
       "model_id": "d1843e32a58747988a1bc8b861f05e2a",
       "version_major": 2,
       "version_minor": 0
      },
      "text/plain": [
       "Downloading:   0%|          | 0.00/29.0 [00:00<?, ?B/s]"
      ]
     },
     "metadata": {},
     "output_type": "display_data"
    },
    {
     "data": {
      "application/vnd.jupyter.widget-view+json": {
       "model_id": "33082cc58a93490bb1fd41b444e064de",
       "version_major": 2,
       "version_minor": 0
      },
      "text/plain": [
       "Downloading:   0%|          | 0.00/436k [00:00<?, ?B/s]"
      ]
     },
     "metadata": {},
     "output_type": "display_data"
    },
    {
     "data": {
      "application/vnd.jupyter.widget-view+json": {
       "model_id": "afbac40479b6413e8bb39c6007d95384",
       "version_major": 2,
       "version_minor": 0
      },
      "text/plain": [
       "Downloading:   0%|          | 0.00/570 [00:00<?, ?B/s]"
      ]
     },
     "metadata": {},
     "output_type": "display_data"
    }
   ],
   "source": [
    "from transformers import BertTokenizer, TFBertForSequenceClassification\n",
    "tokenizer = BertTokenizer.from_pretrained('bert-base-cased')"
   ]
  },
  {
   "cell_type": "code",
   "execution_count": 88,
   "id": "QVsXSAvyvVG_",
   "metadata": {
    "id": "QVsXSAvyvVG_"
   },
   "outputs": [],
   "source": [
    "train_encodings = tokenizer(X_train, truncation=True, padding=True)\n",
    "test_encodings = tokenizer(X_test, truncation=True, padding=True)"
   ]
  },
  {
   "cell_type": "code",
   "execution_count": 89,
   "id": "5dSoIWg9vVJf",
   "metadata": {
    "id": "5dSoIWg9vVJf"
   },
   "outputs": [],
   "source": [
    "import tensorflow as tf\n",
    "\n",
    "train_dataset = tf.data.Dataset.from_tensor_slices((\n",
    "    dict(train_encodings),\n",
    "    y_train\n",
    "))\n",
    "\n",
    "test_dataset = tf.data.Dataset.from_tensor_slices((\n",
    "    dict(test_encodings),\n",
    "    y_test\n",
    "))"
   ]
  },
  {
   "cell_type": "code",
   "execution_count": 90,
   "id": "nEFatZhBvVLy",
   "metadata": {
    "colab": {
     "base_uri": "https://localhost:8080/",
     "height": 136,
     "referenced_widgets": [
      "be6c39162de844689c1b9bcd33da3cd9",
      "2b92f1e0cb1341bc89f42117fcd9c21c",
      "9f789506ab4245d780ee7a8ddad71f59",
      "f5e010e8b419439d963fb76ce5f3f326",
      "48663d2ed45a4b208b4215c80acb907f",
      "c5792638a5e44f42b748a933a330ded0",
      "1215def2e90e46f5813228ad2291ea82",
      "77c824a6926e4af587a71595e85aa798",
      "a0421322b42d4ca580977d72bce50d4a",
      "14125c57db91488ab35d87fcdf01f13e",
      "aca8fcfdda3848cca252f20b8eed074f"
     ]
    },
    "id": "nEFatZhBvVLy",
    "outputId": "670142e2-2fe5-406b-d75b-7828aa85a641"
   },
   "outputs": [
    {
     "data": {
      "application/vnd.jupyter.widget-view+json": {
       "model_id": "be6c39162de844689c1b9bcd33da3cd9",
       "version_major": 2,
       "version_minor": 0
      },
      "text/plain": [
       "Downloading:   0%|          | 0.00/527M [00:00<?, ?B/s]"
      ]
     },
     "metadata": {},
     "output_type": "display_data"
    },
    {
     "name": "stderr",
     "output_type": "stream",
     "text": [
      "All model checkpoint layers were used when initializing TFBertForSequenceClassification.\n",
      "\n",
      "Some layers of TFBertForSequenceClassification were not initialized from the model checkpoint at bert-base-cased and are newly initialized: ['classifier']\n",
      "You should probably TRAIN this model on a down-stream task to be able to use it for predictions and inference.\n"
     ]
    }
   ],
   "source": [
    "model3 = TFBertForSequenceClassification.from_pretrained('bert-base-cased', num_labels=2)\n",
    "optimizer = tf.keras.optimizers.Adam(learning_rate=5e-5)\n",
    "model3.compile(optimizer=optimizer, loss=model3.compute_loss, metrics=['accuracy'])"
   ]
  },
  {
   "cell_type": "code",
   "execution_count": 91,
   "id": "wLfdI0TpvVPJ",
   "metadata": {
    "colab": {
     "base_uri": "https://localhost:8080/"
    },
    "id": "wLfdI0TpvVPJ",
    "outputId": "4ccd25a1-8593-48bf-c3da-14dd3f9d04dd"
   },
   "outputs": [
    {
     "name": "stdout",
     "output_type": "stream",
     "text": [
      "WARNING:tensorflow:The parameters `output_attentions`, `output_hidden_states` and `use_cache` cannot be updated when calling a model.They have to be set to True/False in the config object (i.e.: `config=XConfig.from_pretrained('name', output_attentions=True)`).\n",
      "WARNING:tensorflow:AutoGraph could not transform <bound method Socket.send of <zmq.Socket(zmq.PUSH) at 0x7fa1c4886f30>> and will run it as-is.\n",
      "Please report this to the TensorFlow team. When filing the bug, set the verbosity to 10 (on Linux, `export AUTOGRAPH_VERBOSITY=10`) and attach the full output.\n",
      "Cause: module, class, method, function, traceback, frame, or code object was expected, got cython_function_or_method\n",
      "To silence this warning, decorate the function with @tf.autograph.experimental.do_not_convert\n",
      "WARNING: AutoGraph could not transform <bound method Socket.send of <zmq.Socket(zmq.PUSH) at 0x7fa1c4886f30>> and will run it as-is.\n",
      "Please report this to the TensorFlow team. When filing the bug, set the verbosity to 10 (on Linux, `export AUTOGRAPH_VERBOSITY=10`) and attach the full output.\n",
      "Cause: module, class, method, function, traceback, frame, or code object was expected, got cython_function_or_method\n",
      "To silence this warning, decorate the function with @tf.autograph.experimental.do_not_convert\n",
      "WARNING:tensorflow:AutoGraph could not transform <function wrap at 0x7fa1dfa3c950> and will run it as-is.\n",
      "Cause: while/else statement not yet supported\n",
      "To silence this warning, decorate the function with @tf.autograph.experimental.do_not_convert\n",
      "WARNING: AutoGraph could not transform <function wrap at 0x7fa1dfa3c950> and will run it as-is.\n",
      "Cause: while/else statement not yet supported\n",
      "To silence this warning, decorate the function with @tf.autograph.experimental.do_not_convert\n",
      "WARNING:tensorflow:The parameter `return_dict` cannot be set in graph mode and will always be set to `True`.\n",
      "WARNING:tensorflow:The parameters `output_attentions`, `output_hidden_states` and `use_cache` cannot be updated when calling a model.They have to be set to True/False in the config object (i.e.: `config=XConfig.from_pretrained('name', output_attentions=True)`).\n",
      "WARNING:tensorflow:The parameter `return_dict` cannot be set in graph mode and will always be set to `True`.\n",
      "1788/1788 [==============================] - ETA: 0s - loss: 0.2519 - accuracy: 0.8957WARNING:tensorflow:The parameters `output_attentions`, `output_hidden_states` and `use_cache` cannot be updated when calling a model.They have to be set to True/False in the config object (i.e.: `config=XConfig.from_pretrained('name', output_attentions=True)`).\n",
      "WARNING:tensorflow:The parameter `return_dict` cannot be set in graph mode and will always be set to `True`.\n",
      "1788/1788 [==============================] - 958s 505ms/step - loss: 0.2519 - accuracy: 0.8957 - val_loss: 0.2134 - val_accuracy: 0.9099\n"
     ]
    }
   ],
   "source": [
    "history=model3.fit(train_dataset.shuffle(1000).batch(16), epochs=1, batch_size=16, validation_data=test_dataset.shuffle(1000).batch(16))"
   ]
  },
  {
   "cell_type": "code",
   "execution_count": 92,
   "id": "VLttR9kBctEW",
   "metadata": {
    "id": "VLttR9kBctEW"
   },
   "outputs": [],
   "source": [
    "test_dataset1 = test_dataset.batch(16)"
   ]
  },
  {
   "cell_type": "code",
   "execution_count": 93,
   "id": "Y0sk6gtc7hBY",
   "metadata": {
    "colab": {
     "base_uri": "https://localhost:8080/"
    },
    "id": "Y0sk6gtc7hBY",
    "outputId": "2c739b0f-b265-445b-8064-ba2720cf6a49"
   },
   "outputs": [
    {
     "name": "stdout",
     "output_type": "stream",
     "text": [
      "WARNING:tensorflow:The parameters `output_attentions`, `output_hidden_states` and `use_cache` cannot be updated when calling a model.They have to be set to True/False in the config object (i.e.: `config=XConfig.from_pretrained('name', output_attentions=True)`).\n",
      "WARNING:tensorflow:The parameter `return_dict` cannot be set in graph mode and will always be set to `True`.\n"
     ]
    }
   ],
   "source": [
    "predictions3=model3.predict(test_dataset1)"
   ]
  },
  {
   "cell_type": "code",
   "execution_count": 94,
   "id": "pjbtMM1L7hEU",
   "metadata": {
    "colab": {
     "base_uri": "https://localhost:8080/"
    },
    "id": "pjbtMM1L7hEU",
    "outputId": "06a0b89d-670a-470e-9da1-6cfe6b5db58c"
   },
   "outputs": [
    {
     "data": {
      "text/plain": [
       "array([[ 0.19755575, -0.55869454],\n",
       "       [-1.2507448 ,  0.75305027],\n",
       "       [-2.3021367 ,  2.4176786 ],\n",
       "       ...,\n",
       "       [-0.14336246, -0.25499764],\n",
       "       [ 0.8467277 , -0.8110126 ],\n",
       "       [-2.2953708 ,  2.4130228 ]], dtype=float32)"
      ]
     },
     "execution_count": 94,
     "metadata": {},
     "output_type": "execute_result"
    }
   ],
   "source": [
    "predictions3=predictions3.logits\n",
    "predictions3"
   ]
  },
  {
   "cell_type": "code",
   "execution_count": 95,
   "id": "OLm2u0go7hGw",
   "metadata": {
    "colab": {
     "base_uri": "https://localhost:8080/"
    },
    "id": "OLm2u0go7hGw",
    "outputId": "2d1abcbf-cd9a-4e8e-ca3d-f6433d25c45b"
   },
   "outputs": [
    {
     "data": {
      "text/plain": [
       "<tf.Tensor: shape=(7151,), dtype=int64, numpy=array([0, 1, 1, ..., 0, 0, 1])>"
      ]
     },
     "execution_count": 95,
     "metadata": {},
     "output_type": "execute_result"
    }
   ],
   "source": [
    "predictions3 = tf.math.argmax(predictions3, axis=1)\n",
    "predictions3"
   ]
  },
  {
   "cell_type": "code",
   "execution_count": 96,
   "id": "Oo4nIldt7hIu",
   "metadata": {
    "colab": {
     "base_uri": "https://localhost:8080/",
     "height": 389
    },
    "id": "Oo4nIldt7hIu",
    "outputId": "8634c59d-0310-4fe4-d85a-e368b62f91c4"
   },
   "outputs": [
    {
     "data": {
      "image/png": "[encoded data removed]",
      "text/plain": [
       "<Figure size 432x432 with 1 Axes>"
      ]
     },
     "metadata": {
      "needs_background": "light"
     },
     "output_type": "display_data"
    }
   ],
   "source": [
    "fig, ax = plt.subplots(figsize=(6,6))\n",
    "mat = confusion_matrix(y_test, predictions3)\n",
    "sns.heatmap(mat.T, square=True, annot=True, fmt='d', cbar=False,\n",
    "            xticklabels=['Not_Hate_Speech', 'Hate_Speech'], yticklabels=['Not_Hate_Speech', 'Hate_Speech'])\n",
    "plt.xlabel('true label')\n",
    "plt.ylabel('predicted label')\n",
    "plt.show()"
   ]
  },
  {
   "cell_type": "code",
   "execution_count": 97,
   "id": "uX6VN9ud7hMZ",
   "metadata": {
    "id": "uX6VN9ud7hMZ"
   },
   "outputs": [],
   "source": [
    "TP = mat[1,1] # true positive \n",
    "TN = mat[0,0] # true negatives\n",
    "FP = mat[0,1] # false positives\n",
    "FN = mat[1,0] # false negatives"
   ]
  },
  {
   "cell_type": "code",
   "execution_count": 98,
   "id": "JiLPMnke8VI6",
   "metadata": {
    "id": "JiLPMnke8VI6"
   },
   "outputs": [],
   "source": [
    "Specificity = TN/(TN+FP)\n",
    "Sensitivity = TP/(TP+FN)\n",
    "TPR=TP/(TP+FN)\n",
    "FPR=FP/(FP+TN)\n",
    "roc_auc_score8=roc_auc_score(y_test, predictions3)"
   ]
  },
  {
   "cell_type": "code",
   "execution_count": 99,
   "id": "EfRwEtCEvygV",
   "metadata": {
    "colab": {
     "base_uri": "https://localhost:8080/"
    },
    "id": "EfRwEtCEvygV",
    "outputId": "35977267-3dc6-462c-aaf4-d24aace2b8fc"
   },
   "outputs": [
    {
     "data": {
      "text/plain": [
       "{'accuracy': [0.8957065939903259],\n",
       " 'loss': [0.2519451379776001],\n",
       " 'val_accuracy': [0.9099426865577698],\n",
       " 'val_loss': [0.21339933574199677]}"
      ]
     },
     "execution_count": 99,
     "metadata": {},
     "output_type": "execute_result"
    }
   ],
   "source": [
    "history.history"
   ]
  },
  {
   "cell_type": "code",
   "execution_count": 100,
   "id": "qBLJe1zt8VLg",
   "metadata": {
    "colab": {
     "base_uri": "https://localhost:8080/"
    },
    "id": "qBLJe1zt8VLg",
    "outputId": "5ed82405-aed4-478b-b383-ac77354743cd"
   },
   "outputs": [
    {
     "name": "stdout",
     "output_type": "stream",
     "text": [
      "BERT\n",
      "Precision: 0.9349\n",
      "Recall: 0.9278\n",
      "Accuracy: 0.9099\n",
      "F1 Score: 0.9313\n",
      "Sensitivity: 0.9278\n",
      "Specificity: 0.8756\n",
      "TPR: 0.9278\n",
      "FPR: 0.1244\n",
      "roc_auc_score: 0.9017\n"
     ]
    }
   ],
   "source": [
    "precision = precision_score(y_test, predictions3)\n",
    "recall = recall_score(y_test, predictions3)\n",
    "acc_score = accuracy_score(y_test, predictions3)\n",
    "score = f1_score(y_test, predictions3)\n",
    "print('BERT')\n",
    "\n",
    "print('Precision: {:.4}'.format(precision))\n",
    "print('Recall: {:.4}'.format(recall))\n",
    "\n",
    "print(\"Accuracy: {:.4}\".format(acc_score))\n",
    "print(\"F1 Score: {:.4}\".format(score))\n",
    "print(\"Sensitivity: {:.4}\".format(Sensitivity))\n",
    "print(\"Specificity: {:.4}\".format(Specificity))\n",
    "print(\"TPR: {:.4}\".format(TPR))\n",
    "print(\"FPR: {:.4}\".format(FPR))\n",
    "print(\"roc_auc_score: {:.4}\".format(roc_auc_score8))"
   ]
  },
  {
   "cell_type": "markdown",
   "id": "dcad105c",
   "metadata": {},
   "source": [
    "# DistilBert"
   ]
  },
  {
   "cell_type": "code",
   "execution_count": 101,
   "id": "9ab07727",
   "metadata": {
    "colab": {
     "base_uri": "https://localhost:8080/",
     "height": 145,
     "referenced_widgets": [
      "d14104b57d6f44f98980c1bd78a63104",
      "93ece2980b204d9bb32b61c50c8a0ccd",
      "90e6d72da4f344519a470799201e50c7",
      "e0329104d8ca4d16abf598107e0c1602",
      "42bef8d35aa842ccadd29804c3536ba7",
      "9f236c9d71f04a3eb6d345d66297fb52",
      "91939593e38c452fb897d29662b11f28",
      "fde642c3002845d5a29062c3865f4206",
      "e900742be1a840689690b0d7b26ce6e2",
      "942c34793e1c480092d7208fc1e49497",
      "86b142f04d7345d49e87a6dc5312798e",
      "4c11e033c94c48858d9387027e7f7ed4",
      "3d4ba0e919094d95888428075a15c05a",
      "c344d5a34aea4d79b81792908a5d77de",
      "078f8f75ef0d4edc863a6a912e4f61f4",
      "c5a609f506124d5ab6d215a18d3725cd",
      "f2c26f72cc9d4fe48ac880db321b0fea",
      "d46bc3e69e784042bc65252fe309925f",
      "909ca6d093244297ae4226cc660b3651",
      "86fc2c443073406b877322a00b47e3c9",
      "95c910b385e54dab8669d12ad6c86ac8",
      "a0b94d86fd5c4b638d401787477f944b",
      "9646bdcba69e48639fcc86561e1d3ee9",
      "c87eff8f2db0474e9ab1a64f98271a0d",
      "6656c1976e2e496c900dfcd0437d6d79",
      "a1408ad2ad64476bade0409ccda1e562",
      "09d5b6409e3d4eaea5f5ce3edecf7624",
      "fd2b879139364195be86b7451f9862fd",
      "b48db49dc9ed4da1bbd9f1607b65fdd3",
      "d8e5b218b6f0488caeda92c178601db6",
      "4cd983643cc8445a9260bcbb6cc1dce8",
      "4a5badb1f440486e92e5f027b78762b7",
      "446ebfdc44824786a54980bec25d3920",
      "0640a48e3cef4914b5a8f28a1069fc12",
      "444bcd561486406f84b85e220ddd417a",
      "1a7f4b91974847f09c992798c17376bf",
      "472c0f6b0c4a46ccb3e34f75fdbd66cc",
      "5ae7cd70327e405182382077d3b595b6",
      "a01497aad5cb40a6a0ad321313924850",
      "eb747f0e48d84336b7b5aa16f76cd735",
      "6f79b4cb7a024de988e13f72bb982e8a",
      "bc4ba82ace384bdeb2da8fb5f581702b",
      "5afc9fb4d3a047a5a98e8c74574ebe63",
      "3f215666efb04dd0b7cfafef710859a2"
     ]
    },
    "id": "9ab07727",
    "outputId": "51779f8c-d90a-45a0-95f0-7f5a6347d0e6"
   },
   "outputs": [
    {
     "data": {
      "application/vnd.jupyter.widget-view+json": {
       "model_id": "d14104b57d6f44f98980c1bd78a63104",
       "version_major": 2,
       "version_minor": 0
      },
      "text/plain": [
       "Downloading:   0%|          | 0.00/232k [00:00<?, ?B/s]"
      ]
     },
     "metadata": {},
     "output_type": "display_data"
    },
    {
     "data": {
      "application/vnd.jupyter.widget-view+json": {
       "model_id": "4c11e033c94c48858d9387027e7f7ed4",
       "version_major": 2,
       "version_minor": 0
      },
      "text/plain": [
       "Downloading:   0%|          | 0.00/466k [00:00<?, ?B/s]"
      ]
     },
     "metadata": {},
     "output_type": "display_data"
    },
    {
     "data": {
      "application/vnd.jupyter.widget-view+json": {
       "model_id": "9646bdcba69e48639fcc86561e1d3ee9",
       "version_major": 2,
       "version_minor": 0
      },
      "text/plain": [
       "Downloading:   0%|          | 0.00/28.0 [00:00<?, ?B/s]"
      ]
     },
     "metadata": {},
     "output_type": "display_data"
    },
    {
     "data": {
      "application/vnd.jupyter.widget-view+json": {
       "model_id": "0640a48e3cef4914b5a8f28a1069fc12",
       "version_major": 2,
       "version_minor": 0
      },
      "text/plain": [
       "Downloading:   0%|          | 0.00/442 [00:00<?, ?B/s]"
      ]
     },
     "metadata": {},
     "output_type": "display_data"
    }
   ],
   "source": [
    "from transformers import DistilBertTokenizerFast\n",
    "from transformers import TFDistilBertForSequenceClassification\n",
    "tokenizer = DistilBertTokenizerFast.from_pretrained('distilbert-base-uncased')"
   ]
  },
  {
   "cell_type": "code",
   "execution_count": 102,
   "id": "9c8f184d",
   "metadata": {
    "id": "9c8f184d"
   },
   "outputs": [],
   "source": [
    "train_encodings = tokenizer(X_train, truncation=True, padding=True)\n",
    "test_encodings = tokenizer(X_test, truncation=True, padding=True)"
   ]
  },
  {
   "cell_type": "code",
   "execution_count": 103,
   "id": "2b1e1290",
   "metadata": {
    "id": "2b1e1290"
   },
   "outputs": [],
   "source": [
    "import tensorflow as tf\n",
    "\n",
    "train_dataset = tf.data.Dataset.from_tensor_slices((\n",
    "    dict(train_encodings),\n",
    "    y_train\n",
    "))\n",
    "\n",
    "test_dataset = tf.data.Dataset.from_tensor_slices((\n",
    "    dict(test_encodings),\n",
    "    y_test\n",
    "))"
   ]
  },
  {
   "cell_type": "code",
   "execution_count": 104,
   "id": "ff6289d4",
   "metadata": {
    "colab": {
     "base_uri": "https://localhost:8080/",
     "height": 153,
     "referenced_widgets": [
      "bb9cd5e26a2f4822aee881dd2b2a232c",
      "ebdfabea591546e99ca228698183e538",
      "17d5885cc21c4e61984f5452a01b886d",
      "9f46700e5efa4c4295e770bfb0469705",
      "8c0600bcd8f54af4a664b6f18c7cb497",
      "20dcf981b8604fc28271fa8e0aab0d43",
      "712d27777f7f46378193368396eafc29",
      "a870dbb47bde4225bf6f61ab882bc99b",
      "ec0c54deef63444d98ffe42290717c41",
      "870834f3b49a4e1988d22d55be33768f",
      "b5a0b7fc84304d0d841b18ac1d7d6c3e"
     ]
    },
    "id": "ff6289d4",
    "outputId": "410e8e62-61e2-4709-9cbc-56389ba28fc2"
   },
   "outputs": [
    {
     "data": {
      "application/vnd.jupyter.widget-view+json": {
       "model_id": "bb9cd5e26a2f4822aee881dd2b2a232c",
       "version_major": 2,
       "version_minor": 0
      },
      "text/plain": [
       "Downloading:   0%|          | 0.00/363M [00:00<?, ?B/s]"
      ]
     },
     "metadata": {},
     "output_type": "display_data"
    },
    {
     "name": "stderr",
     "output_type": "stream",
     "text": [
      "Some layers from the model checkpoint at distilbert-base-uncased were not used when initializing TFDistilBertForSequenceClassification: ['activation_13', 'vocab_layer_norm', 'vocab_projector', 'vocab_transform']\n",
      "- This IS expected if you are initializing TFDistilBertForSequenceClassification from the checkpoint of a model trained on another task or with another architecture (e.g. initializing a BertForSequenceClassification model from a BertForPreTraining model).\n",
      "- This IS NOT expected if you are initializing TFDistilBertForSequenceClassification from the checkpoint of a model that you expect to be exactly identical (initializing a BertForSequenceClassification model from a BertForSequenceClassification model).\n",
      "Some layers of TFDistilBertForSequenceClassification were not initialized from the model checkpoint at distilbert-base-uncased and are newly initialized: ['dropout_58', 'pre_classifier', 'classifier']\n",
      "You should probably TRAIN this model on a down-stream task to be able to use it for predictions and inference.\n"
     ]
    }
   ],
   "source": [
    "model4 = TFDistilBertForSequenceClassification.from_pretrained('distilbert-base-uncased', num_labels=2)\n",
    "\n",
    "optimizer = tf.keras.optimizers.Adam(learning_rate=5e-5)\n",
    "model4.compile(optimizer=optimizer, loss=model4.compute_loss, metrics=['accuracy'])"
   ]
  },
  {
   "cell_type": "code",
   "execution_count": 105,
   "id": "c03abcdc",
   "metadata": {
    "colab": {
     "base_uri": "https://localhost:8080/"
    },
    "id": "c03abcdc",
    "outputId": "716d0a81-52a8-45c9-fede-1f063433b5ef"
   },
   "outputs": [
    {
     "name": "stdout",
     "output_type": "stream",
     "text": [
      "WARNING:tensorflow:The parameters `output_attentions`, `output_hidden_states` and `use_cache` cannot be updated when calling a model.They have to be set to True/False in the config object (i.e.: `config=XConfig.from_pretrained('name', output_attentions=True)`).\n",
      "WARNING:tensorflow:The parameter `return_dict` cannot be set in graph mode and will always be set to `True`.\n",
      "WARNING:tensorflow:The parameters `output_attentions`, `output_hidden_states` and `use_cache` cannot be updated when calling a model.They have to be set to True/False in the config object (i.e.: `config=XConfig.from_pretrained('name', output_attentions=True)`).\n",
      "WARNING:tensorflow:The parameter `return_dict` cannot be set in graph mode and will always be set to `True`.\n",
      "1788/1788 [==============================] - ETA: 0s - loss: 0.2377 - accuracy: 0.8999WARNING:tensorflow:The parameters `output_attentions`, `output_hidden_states` and `use_cache` cannot be updated when calling a model.They have to be set to True/False in the config object (i.e.: `config=XConfig.from_pretrained('name', output_attentions=True)`).\n",
      "WARNING:tensorflow:The parameter `return_dict` cannot be set in graph mode and will always be set to `True`.\n",
      "1788/1788 [==============================] - 403s 219ms/step - loss: 0.2377 - accuracy: 0.8999 - val_loss: 0.1941 - val_accuracy: 0.9175\n"
     ]
    }
   ],
   "source": [
    "history=model4.fit(train_dataset.shuffle(1000).batch(16), epochs=1, batch_size=16, validation_data=test_dataset.shuffle(1000).batch(16))"
   ]
  },
  {
   "cell_type": "code",
   "execution_count": 106,
   "id": "XM4sEmWDcbP7",
   "metadata": {
    "id": "XM4sEmWDcbP7"
   },
   "outputs": [],
   "source": [
    "test_dataset2 = test_dataset.batch(16)"
   ]
  },
  {
   "cell_type": "code",
   "execution_count": 107,
   "id": "l31LEAzvWRYk",
   "metadata": {
    "colab": {
     "base_uri": "https://localhost:8080/"
    },
    "id": "l31LEAzvWRYk",
    "outputId": "198b9708-a2b2-4382-8625-d53195e6a445"
   },
   "outputs": [
    {
     "name": "stdout",
     "output_type": "stream",
     "text": [
      "WARNING:tensorflow:The parameters `output_attentions`, `output_hidden_states` and `use_cache` cannot be updated when calling a model.They have to be set to True/False in the config object (i.e.: `config=XConfig.from_pretrained('name', output_attentions=True)`).\n",
      "WARNING:tensorflow:The parameter `return_dict` cannot be set in graph mode and will always be set to `True`.\n"
     ]
    }
   ],
   "source": [
    "predictions4=model4.predict(test_dataset2)"
   ]
  },
  {
   "cell_type": "code",
   "execution_count": 108,
   "id": "eeNwTRzNWRa6",
   "metadata": {
    "colab": {
     "base_uri": "https://localhost:8080/"
    },
    "id": "eeNwTRzNWRa6",
    "outputId": "5cc300df-ad7b-4829-c7da-a13ab181be6c"
   },
   "outputs": [
    {
     "data": {
      "text/plain": [
       "(7151, 2)"
      ]
     },
     "execution_count": 108,
     "metadata": {},
     "output_type": "execute_result"
    }
   ],
   "source": [
    "predictions4=predictions4.logits\n",
    "predictions4.shape"
   ]
  },
  {
   "cell_type": "code",
   "execution_count": 109,
   "id": "iELbJVohWRgf",
   "metadata": {
    "colab": {
     "base_uri": "https://localhost:8080/"
    },
    "id": "iELbJVohWRgf",
    "outputId": "49909e57-e693-4f39-a124-bcb9a6fc7a1d"
   },
   "outputs": [
    {
     "data": {
      "text/plain": [
       "<tf.Tensor: shape=(7151,), dtype=int64, numpy=array([0, 1, 1, ..., 1, 0, 1])>"
      ]
     },
     "execution_count": 109,
     "metadata": {},
     "output_type": "execute_result"
    }
   ],
   "source": [
    "predictions4= tf.math.argmax(predictions4, axis=1)\n",
    "predictions4"
   ]
  },
  {
   "cell_type": "code",
   "execution_count": 110,
   "id": "tSITKXg_YC7s",
   "metadata": {
    "colab": {
     "base_uri": "https://localhost:8080/",
     "height": 389
    },
    "id": "tSITKXg_YC7s",
    "outputId": "1e3e0a6b-e195-4cc4-c4e2-ed01ce7d509f"
   },
   "outputs": [
    {
     "data": {
      "image/png": "[encoded data removed]",
      "text/plain": [
       "<Figure size 432x432 with 1 Axes>"
      ]
     },
     "metadata": {
      "needs_background": "light"
     },
     "output_type": "display_data"
    }
   ],
   "source": [
    "fig, ax = plt.subplots(figsize=(6,6))\n",
    "mat = confusion_matrix(y_test, predictions4)\n",
    "sns.heatmap(mat.T, square=True, annot=True, fmt='d', cbar=False,\n",
    "            xticklabels=['Not_Hate_Speech', 'Hate_Speech'], yticklabels=['Not_Hate_Speech', 'Hate_Speech'])\n",
    "plt.xlabel('true label')\n",
    "plt.ylabel('predicted label')\n",
    "plt.show()"
   ]
  },
  {
   "cell_type": "code",
   "execution_count": 111,
   "id": "-uorpD8QiZCL",
   "metadata": {
    "id": "-uorpD8QiZCL"
   },
   "outputs": [],
   "source": [
    "TP = mat[1,1] # true positive \n",
    "TN = mat[0,0] # true negatives\n",
    "FP = mat[0,1] # false positives\n",
    "FN = mat[1,0] # false negatives"
   ]
  },
  {
   "cell_type": "code",
   "execution_count": 112,
   "id": "BiZiO39yidPk",
   "metadata": {
    "id": "BiZiO39yidPk"
   },
   "outputs": [],
   "source": [
    "Specificity = TN/(TN+FP)\n",
    "Sensitivity = TP/(TP+FN)\n",
    "TPR=TP/(TP+FN)\n",
    "FPR=FP/(FP+TN)\n",
    "roc_auc_score9=roc_auc_score(y_test, predictions4)"
   ]
  },
  {
   "cell_type": "code",
   "execution_count": 113,
   "id": "cFCKAyLo3zl4",
   "metadata": {
    "colab": {
     "base_uri": "https://localhost:8080/"
    },
    "id": "cFCKAyLo3zl4",
    "outputId": "5ec748cb-1f6a-4476-c43d-f392f4fe79ad"
   },
   "outputs": [
    {
     "data": {
      "text/plain": [
       "{'accuracy': [0.8998671174049377],\n",
       " 'loss': [0.23766279220581055],\n",
       " 'val_accuracy': [0.9174940586090088],\n",
       " 'val_loss': [0.1940980851650238]}"
      ]
     },
     "execution_count": 113,
     "metadata": {},
     "output_type": "execute_result"
    }
   ],
   "source": [
    "history.history"
   ]
  },
  {
   "cell_type": "code",
   "execution_count": 114,
   "id": "eJ6Zq2Qoikwi",
   "metadata": {
    "colab": {
     "base_uri": "https://localhost:8080/"
    },
    "id": "eJ6Zq2Qoikwi",
    "outputId": "2bce64eb-d3ec-43e6-963e-330d733de72e"
   },
   "outputs": [
    {
     "name": "stdout",
     "output_type": "stream",
     "text": [
      "DistilBert\n",
      "Precision: 0.9358\n",
      "Recall: 0.939\n",
      "Accuracy: 0.9175\n",
      "F1 Score: 0.9374\n",
      "Sensitivity: 0.939\n",
      "Specificity: 0.876\n",
      "TPR: 0.939\n",
      "FPR: 0.124\n",
      "roc_auc_score: 0.9075\n"
     ]
    }
   ],
   "source": [
    "precision = precision_score(y_test, predictions4)\n",
    "recall = recall_score(y_test, predictions4)\n",
    "acc_score = accuracy_score(y_test, predictions4)\n",
    "score = f1_score(y_test, predictions4)\n",
    "print('DistilBert')\n",
    "\n",
    "print('Precision: {:.4}'.format(precision))\n",
    "print('Recall: {:.4}'.format(recall))\n",
    "\n",
    "print(\"Accuracy: {:.4}\".format(acc_score))\n",
    "print(\"F1 Score: {:.4}\".format(score))\n",
    "print(\"Sensitivity: {:.4}\".format(Sensitivity))\n",
    "print(\"Specificity: {:.4}\".format(Specificity))\n",
    "print(\"TPR: {:.4}\".format(TPR))\n",
    "print(\"FPR: {:.4}\".format(FPR))\n",
    "print(\"roc_auc_score: {:.4}\".format(roc_auc_score9))"
   ]
  },
  {
   "cell_type": "markdown",
   "id": "5fb2bb19",
   "metadata": {},
   "source": [
    "# Electra"
   ]
  },
  {
   "cell_type": "code",
   "execution_count": 115,
   "id": "u4qK85WF9CX4",
   "metadata": {
    "colab": {
     "base_uri": "https://localhost:8080/",
     "height": 145,
     "referenced_widgets": [
      "69981049f997451bbee23989897f1b6f",
      "66a7fa3085a3458d94f1dd7c71baa6a2",
      "0c2fd0c43db64bddb841951dd3f91d53",
      "93726e754ba04052904e68d9feaf5969",
      "421e99bbd73c4d0497a070eafd80f968",
      "e8d4eaf7f266472ab48be52082e4c687",
      "1d310d9326244d008ac955fd3447db89",
      "02ebcf06150d490f9247f9e8b691678d",
      "278518df99374dbe9077cf25b1e5e6bf",
      "e1c2ab8d41484839921bbad490c06673",
      "3777c7c655e9448b97a1ed3c26854e8f",
      "0ee4ead1c9644ca692a33893123b0f6b",
      "acfcdee2f2584c8f9a530aabee528d03",
      "c9355cfc4f5b4391ad8db17441ab13e8",
      "352bc958df554a72bfb43004de6f4827",
      "9b7b29efef794f5d880c2239bda71b80",
      "8660b0db375348e7b535961ce7a5fac8",
      "4f2c9c89ab9442bdaf9581878bbda9a3",
      "f365d24d3b274318bba22aea9e2868b3",
      "479f64c7441f4c879d7d840a59756d1a",
      "f6eda69bb28349bdb7046efd75eaecb3",
      "28de33da6e3540f68bd867669172da3f",
      "5fbab134950b43b28c04add00d11a137",
      "4fa398a00e3e42f7bacc9122269d0bc4",
      "089939d53f3545379e14b7d85432a101",
      "8ede7d3ccd0d4c8291f54b976b7cbb82",
      "ad5a711be8834a1798dc1971330dd1cf",
      "5dbac005337a4dc3ad1c1600f4365ad2",
      "c253395dbb554a1183807b67d30b2d2f",
      "dde4c352aa8f4f4e92c64943e9382e00",
      "a8d9cda4e25e4368b0c2e05a2f58e51b",
      "b550e3906a184a71bff24dc7bb7a200a",
      "2390f764c9e04c5ba7cd765908f6a1d5",
      "0a25f2331da84eb482645fe79b6ed800",
      "4776a7e15cc3482d8027258731959ba5",
      "73f91f85ca3e4cb1819827b283980ab4",
      "fd575606edec48ebbd8f50af04e23c79",
      "c2bd0088acd548dc98bdc0d8a9f37f51",
      "ea93d7fd0a6d482e988f4aef157a7243",
      "0fd1ed170acd41f1b9084fbf2d7c5a8f",
      "2976e76c98db4ca3ad25d7de60c32178",
      "bfeab23a522a405fb0f5a3bb575bef84",
      "3a6ba1b878a4455589bc19e240250f74",
      "f35bb323d2c64d279cb14f9beac892d6"
     ]
    },
    "id": "u4qK85WF9CX4",
    "outputId": "941996b8-2ef1-429a-c0e7-1f8176e8ba9d"
   },
   "outputs": [
    {
     "data": {
      "application/vnd.jupyter.widget-view+json": {
       "model_id": "69981049f997451bbee23989897f1b6f",
       "version_major": 2,
       "version_minor": 0
      },
      "text/plain": [
       "Downloading:   0%|          | 0.00/232k [00:00<?, ?B/s]"
      ]
     },
     "metadata": {},
     "output_type": "display_data"
    },
    {
     "data": {
      "application/vnd.jupyter.widget-view+json": {
       "model_id": "0ee4ead1c9644ca692a33893123b0f6b",
       "version_major": 2,
       "version_minor": 0
      },
      "text/plain": [
       "Downloading:   0%|          | 0.00/29.0 [00:00<?, ?B/s]"
      ]
     },
     "metadata": {},
     "output_type": "display_data"
    },
    {
     "data": {
      "application/vnd.jupyter.widget-view+json": {
       "model_id": "5fbab134950b43b28c04add00d11a137",
       "version_major": 2,
       "version_minor": 0
      },
      "text/plain": [
       "Downloading:   0%|          | 0.00/466k [00:00<?, ?B/s]"
      ]
     },
     "metadata": {},
     "output_type": "display_data"
    },
    {
     "data": {
      "application/vnd.jupyter.widget-view+json": {
       "model_id": "0a25f2331da84eb482645fe79b6ed800",
       "version_major": 2,
       "version_minor": 0
      },
      "text/plain": [
       "Downloading:   0%|          | 0.00/665 [00:00<?, ?B/s]"
      ]
     },
     "metadata": {},
     "output_type": "display_data"
    }
   ],
   "source": [
    "from transformers import ElectraTokenizer, TFElectraForSequenceClassification\n",
    "tokenizer = ElectraTokenizer.from_pretrained('google/electra-small-discriminator')"
   ]
  },
  {
   "cell_type": "code",
   "execution_count": 116,
   "id": "qvpDRNUD9CaT",
   "metadata": {
    "id": "qvpDRNUD9CaT"
   },
   "outputs": [],
   "source": [
    "train_encodings = tokenizer(X_train, truncation=True, padding=True)\n",
    "test_encodings = tokenizer(X_test, truncation=True, padding=True)"
   ]
  },
  {
   "cell_type": "code",
   "execution_count": 117,
   "id": "8TjZRvp19Ccn",
   "metadata": {
    "id": "8TjZRvp19Ccn"
   },
   "outputs": [],
   "source": [
    "import tensorflow as tf\n",
    "\n",
    "train_dataset = tf.data.Dataset.from_tensor_slices((\n",
    "    dict(train_encodings),\n",
    "    y_train\n",
    "))\n",
    "\n",
    "test_dataset = tf.data.Dataset.from_tensor_slices((\n",
    "    dict(test_encodings),\n",
    "    y_test\n",
    "))"
   ]
  },
  {
   "cell_type": "code",
   "execution_count": 118,
   "id": "97MCeAsz9CfB",
   "metadata": {
    "colab": {
     "base_uri": "https://localhost:8080/",
     "height": 153,
     "referenced_widgets": [
      "03428f7978e34a30805dab74b6a55bcf",
      "38dc78a89f3b4932a4b5aedce9ce7aa8",
      "da8d130566f544d5882f9a7d3407c12f",
      "433ee6e0eac34111a852ba279ba5c716",
      "639f5e3564664e03b4b1cf94814b515f",
      "ded9f57f553f45bf9e006ede2963abe3",
      "7fbbd6b8d7984a818ca044d9f672d722",
      "c18a89051e4e46b2b758f03c211d254f",
      "e518864b3f4b4b679ec28281713a1311",
      "7de9de7f64e04dbd9058f5ba9fd30043",
      "919b8d2a47d84d35bd4ba11a0f1fe0f0"
     ]
    },
    "id": "97MCeAsz9CfB",
    "outputId": "e1fa23e7-5cc2-499c-d911-93e2d0f3bc09"
   },
   "outputs": [
    {
     "data": {
      "application/vnd.jupyter.widget-view+json": {
       "model_id": "03428f7978e34a30805dab74b6a55bcf",
       "version_major": 2,
       "version_minor": 0
      },
      "text/plain": [
       "Downloading:   0%|          | 0.00/54.5M [00:00<?, ?B/s]"
      ]
     },
     "metadata": {},
     "output_type": "display_data"
    },
    {
     "name": "stderr",
     "output_type": "stream",
     "text": [
      "Some layers from the model checkpoint at google/electra-small-discriminator were not used when initializing TFElectraForSequenceClassification: ['discriminator_predictions']\n",
      "- This IS expected if you are initializing TFElectraForSequenceClassification from the checkpoint of a model trained on another task or with another architecture (e.g. initializing a BertForSequenceClassification model from a BertForPreTraining model).\n",
      "- This IS NOT expected if you are initializing TFElectraForSequenceClassification from the checkpoint of a model that you expect to be exactly identical (initializing a BertForSequenceClassification model from a BertForSequenceClassification model).\n",
      "Some layers of TFElectraForSequenceClassification were not initialized from the model checkpoint at google/electra-small-discriminator and are newly initialized: ['classifier']\n",
      "You should probably TRAIN this model on a down-stream task to be able to use it for predictions and inference.\n"
     ]
    }
   ],
   "source": [
    "model5 = TFElectraForSequenceClassification.from_pretrained('google/electra-small-discriminator', num_labels=2)\n",
    "optimizer = tf.keras.optimizers.Adam(learning_rate=5e-5)\n",
    "model5.compile(optimizer=optimizer, loss=model5.compute_loss, metrics=['accuracy'])"
   ]
  },
  {
   "cell_type": "code",
   "execution_count": 119,
   "id": "PXOyuziN9CiX",
   "metadata": {
    "colab": {
     "base_uri": "https://localhost:8080/"
    },
    "id": "PXOyuziN9CiX",
    "outputId": "7dca4c55-2a21-424c-b444-eb8310357a2a"
   },
   "outputs": [
    {
     "name": "stdout",
     "output_type": "stream",
     "text": [
      "WARNING:tensorflow:The parameters `output_attentions`, `output_hidden_states` and `use_cache` cannot be updated when calling a model.They have to be set to True/False in the config object (i.e.: `config=XConfig.from_pretrained('name', output_attentions=True)`).\n",
      "WARNING:tensorflow:The parameter `return_dict` cannot be set in graph mode and will always be set to `True`.\n",
      "WARNING:tensorflow:The parameters `output_attentions`, `output_hidden_states` and `use_cache` cannot be updated when calling a model.They have to be set to True/False in the config object (i.e.: `config=XConfig.from_pretrained('name', output_attentions=True)`).\n",
      "WARNING:tensorflow:The parameter `return_dict` cannot be set in graph mode and will always be set to `True`.\n",
      "1788/1788 [==============================] - ETA: 0s - loss: 0.2749 - accuracy: 0.8801WARNING:tensorflow:The parameters `output_attentions`, `output_hidden_states` and `use_cache` cannot be updated when calling a model.They have to be set to True/False in the config object (i.e.: `config=XConfig.from_pretrained('name', output_attentions=True)`).\n",
      "WARNING:tensorflow:The parameter `return_dict` cannot be set in graph mode and will always be set to `True`.\n",
      "1788/1788 [==============================] - 276s 143ms/step - loss: 0.2749 - accuracy: 0.8801 - val_loss: 0.2234 - val_accuracy: 0.9050\n"
     ]
    }
   ],
   "source": [
    "history=model5.fit(train_dataset.shuffle(1000).batch(16), epochs=1, batch_size=16, validation_data=test_dataset.shuffle(1000).batch(16))"
   ]
  },
  {
   "cell_type": "code",
   "execution_count": 120,
   "id": "LsUV6m3_k2cM",
   "metadata": {
    "id": "LsUV6m3_k2cM"
   },
   "outputs": [],
   "source": [
    "test_dataset3 = test_dataset.batch(16)"
   ]
  },
  {
   "cell_type": "code",
   "execution_count": 121,
   "id": "IQEPx-qqk2fZ",
   "metadata": {
    "colab": {
     "base_uri": "https://localhost:8080/"
    },
    "id": "IQEPx-qqk2fZ",
    "outputId": "0fbe4748-21b0-4034-91f6-ccac9491968b"
   },
   "outputs": [
    {
     "name": "stdout",
     "output_type": "stream",
     "text": [
      "WARNING:tensorflow:The parameters `output_attentions`, `output_hidden_states` and `use_cache` cannot be updated when calling a model.They have to be set to True/False in the config object (i.e.: `config=XConfig.from_pretrained('name', output_attentions=True)`).\n",
      "WARNING:tensorflow:The parameter `return_dict` cannot be set in graph mode and will always be set to `True`.\n"
     ]
    }
   ],
   "source": [
    "predictions5=model5.predict(test_dataset3)"
   ]
  },
  {
   "cell_type": "code",
   "execution_count": 122,
   "id": "CatC8tNpk2hz",
   "metadata": {
    "colab": {
     "base_uri": "https://localhost:8080/"
    },
    "id": "CatC8tNpk2hz",
    "outputId": "539bcc07-a2aa-4109-be9a-741ed915be3f"
   },
   "outputs": [
    {
     "data": {
      "text/plain": [
       "(7151, 2)"
      ]
     },
     "execution_count": 122,
     "metadata": {},
     "output_type": "execute_result"
    }
   ],
   "source": [
    "predictions5=predictions5.logits\n",
    "predictions5.shape"
   ]
  },
  {
   "cell_type": "code",
   "execution_count": 123,
   "id": "pEctbqm_mjr5",
   "metadata": {
    "colab": {
     "base_uri": "https://localhost:8080/"
    },
    "id": "pEctbqm_mjr5",
    "outputId": "53329e8f-906b-468d-b923-ca098a8270fe"
   },
   "outputs": [
    {
     "data": {
      "text/plain": [
       "<tf.Tensor: shape=(7151,), dtype=int64, numpy=array([0, 1, 1, ..., 0, 0, 1])>"
      ]
     },
     "execution_count": 123,
     "metadata": {},
     "output_type": "execute_result"
    }
   ],
   "source": [
    "predictions5 = tf.math.argmax(predictions5, axis=1)\n",
    "predictions5"
   ]
  },
  {
   "cell_type": "code",
   "execution_count": 124,
   "id": "X6ERd2Kuk2lA",
   "metadata": {
    "colab": {
     "base_uri": "https://localhost:8080/",
     "height": 389
    },
    "id": "X6ERd2Kuk2lA",
    "outputId": "7e452671-d62e-473f-fb20-70573c2440a8"
   },
   "outputs": [
    {
     "data": {
      "image/png": "[encoded data removed]",
      "text/plain": [
       "<Figure size 432x432 with 1 Axes>"
      ]
     },
     "metadata": {
      "needs_background": "light"
     },
     "output_type": "display_data"
    }
   ],
   "source": [
    "fig, ax = plt.subplots(figsize=(6,6))\n",
    "mat = confusion_matrix(y_test, predictions5)\n",
    "sns.heatmap(mat.T, square=True, annot=True, fmt='d', cbar=False,\n",
    "            xticklabels=['Not_Hate_Speech', 'Hate_Speech'], yticklabels=['Not_Hate_Speech', 'Hate_Speech'])\n",
    "plt.xlabel('true label')\n",
    "plt.ylabel('predicted label')\n",
    "plt.show()"
   ]
  },
  {
   "cell_type": "code",
   "execution_count": 125,
   "id": "Ez6QaSnklWqW",
   "metadata": {
    "id": "Ez6QaSnklWqW"
   },
   "outputs": [],
   "source": [
    "TP = mat[1,1] # true positive \n",
    "TN = mat[0,0] # true negatives\n",
    "FP = mat[0,1] # false positives\n",
    "FN = mat[1,0] # false negatives"
   ]
  },
  {
   "cell_type": "code",
   "execution_count": 126,
   "id": "DSREYpQ0lWtt",
   "metadata": {
    "id": "DSREYpQ0lWtt"
   },
   "outputs": [],
   "source": [
    "Specificity = TN/(TN+FP)\n",
    "Sensitivity = TP/(TP+FN)\n",
    "TPR=TP/(TP+FN)\n",
    "FPR=FP/(FP+TN)\n",
    "roc_auc_score10=roc_auc_score(y_test, predictions5)"
   ]
  },
  {
   "cell_type": "code",
   "execution_count": 127,
   "id": "yEUCiBgm9jT2",
   "metadata": {
    "colab": {
     "base_uri": "https://localhost:8080/"
    },
    "id": "yEUCiBgm9jT2",
    "outputId": "130057bc-bcd1-4c49-8145-e6ffac814df4"
   },
   "outputs": [
    {
     "data": {
      "text/plain": [
       "{'accuracy': [0.8801133036613464],\n",
       " 'loss': [0.2749262750148773],\n",
       " 'val_accuracy': [0.9050482511520386],\n",
       " 'val_loss': [0.22340501844882965]}"
      ]
     },
     "execution_count": 127,
     "metadata": {},
     "output_type": "execute_result"
    }
   ],
   "source": [
    "history.history"
   ]
  },
  {
   "cell_type": "code",
   "execution_count": 128,
   "id": "FMcSDR9algXK",
   "metadata": {
    "colab": {
     "base_uri": "https://localhost:8080/"
    },
    "id": "FMcSDR9algXK",
    "outputId": "4db1b976-38b7-4cf0-8085-428da13f304b"
   },
   "outputs": [
    {
     "name": "stdout",
     "output_type": "stream",
     "text": [
      "Electra\n",
      "Precision: 0.9546\n",
      "Recall: 0.8984\n",
      "Accuracy: 0.905\n",
      "F1 Score: 0.9257\n",
      "Sensitivity: 0.8984\n",
      "Specificity: 0.9178\n",
      "TPR: 0.8984\n",
      "FPR: 0.08224\n",
      "roc_auc_score: 0.9081\n"
     ]
    }
   ],
   "source": [
    "precision = precision_score(y_test, predictions5)\n",
    "recall = recall_score(y_test, predictions5)\n",
    "acc_score = accuracy_score(y_test, predictions5)\n",
    "score = f1_score(y_test, predictions5)\n",
    "print('Electra')\n",
    "\n",
    "print('Precision: {:.4}'.format(precision))\n",
    "print('Recall: {:.4}'.format(recall))\n",
    "\n",
    "print(\"Accuracy: {:.4}\".format(acc_score))\n",
    "print(\"F1 Score: {:.4}\".format(score))\n",
    "print(\"Sensitivity: {:.4}\".format(Sensitivity))\n",
    "print(\"Specificity: {:.4}\".format(Specificity))\n",
    "print(\"TPR: {:.4}\".format(TPR))\n",
    "print(\"FPR: {:.4}\".format(FPR))\n",
    "print(\"roc_auc_score: {:.4}\".format(roc_auc_score10))"
   ]
  },
  {
   "cell_type": "markdown",
   "id": "8cd982c0",
   "metadata": {},
   "source": [
    "# Roberta"
   ]
  },
  {
   "cell_type": "code",
   "execution_count": 129,
   "id": "STYTECUseo2M",
   "metadata": {
    "id": "STYTECUseo2M"
   },
   "outputs": [],
   "source": [
    "from transformers import RobertaTokenizer, TFRobertaForSequenceClassification"
   ]
  },
  {
   "cell_type": "code",
   "execution_count": 130,
   "id": "Tr1ri-1BWH8v",
   "metadata": {
    "colab": {
     "base_uri": "https://localhost:8080/",
     "height": 145,
     "referenced_widgets": [
      "07817d38504d4b77876e062d48ced673",
      "ee54d25c991440a69b3408f7e9341186",
      "0ce5185f55224489993e5c620260896e",
      "84b1e9420621456eb2186b822d5f544d",
      "5eaad42b2bae4eb3b9ba09c08af3f8cf",
      "03525a73deaa4c25b0a2d36ebce22bfd",
      "162145d978494978ada1ab48b75f946e",
      "6164e28ba0f24ca1bf22e0af8efac9bb",
      "5461ef94e2924cb8a48326e5216455ef",
      "cf2e91d62baf4382823111e457329aad",
      "b0bab1172d2b46deb2c2ff2dc5222611",
      "025e63799d234727bbb6efe64c1db49a",
      "e4580323c77a4407985286feb0dff721",
      "045bcec2654f4683a2455a11d3dba0f8",
      "d48aaed90cc34a3db2d786776dcacf4d",
      "8c76a4ec044b4f0fb36cd72a190bb0e3",
      "ee293a67a6f84f59b228fddb8c33d870",
      "9ec089082d624bdabc5413652a9e07fc",
      "9ffd8a91d47843ad8ad4606a3bfcf2b5",
      "28b3c84059944b349ed80b1cf92103f7",
      "5bf7b3487755463cabc4b789d406ac27",
      "002e5d13d7de48efa0a2dcf424b957ec",
      "ce271fbcf48f474495f4a07f8ac605ef",
      "6c3bcb44ce4e47638379c3fd8926cd65",
      "cb8c48c21b3044d89439982f03f0eb91",
      "e41c010d717243bd8d1078f37ee1d080",
      "e110aab14fec437a9b2254ee3104222a",
      "dc5c362dcfac4f2eb73942c87d2235db",
      "92ca8608535146148a09fa2607d8eec6",
      "966a8f8c61924391bee495ed01fd3db0",
      "a22e79b802614fa2be5f23b7e385a2ba",
      "c73f385fe55144cda406044664154d32",
      "ca19fb7d5d8c4707bfdcd1135f8e3621",
      "817d1eb354bd4621a8e589f874b3389a",
      "a1971a34f0714b4ea755f57b52bb2486",
      "a2248335926241678be9c2ef856302e0",
      "555ea89429044c4a87ef7d6d792c98bb",
      "8303ae76db26468c9687f251ef18f0ba",
      "270051e2e68f4b61b22f73a2396711b4",
      "bbb689beb492446d97b8ae98537272c9",
      "aa335d025b864f7a932083faef09c0dc",
      "e095c92e43794ad5885a5fdad210343e",
      "225111f7cfe34a72b7015c9393b4b939",
      "c8428787d7994b638b52c41fe3a483bf"
     ]
    },
    "id": "Tr1ri-1BWH8v",
    "outputId": "092436f6-7aeb-4a95-d18c-acc6b2d86cc5"
   },
   "outputs": [
    {
     "data": {
      "application/vnd.jupyter.widget-view+json": {
       "model_id": "07817d38504d4b77876e062d48ced673",
       "version_major": 2,
       "version_minor": 0
      },
      "text/plain": [
       "Downloading:   0%|          | 0.00/899k [00:00<?, ?B/s]"
      ]
     },
     "metadata": {},
     "output_type": "display_data"
    },
    {
     "data": {
      "application/vnd.jupyter.widget-view+json": {
       "model_id": "025e63799d234727bbb6efe64c1db49a",
       "version_major": 2,
       "version_minor": 0
      },
      "text/plain": [
       "Downloading:   0%|          | 0.00/456k [00:00<?, ?B/s]"
      ]
     },
     "metadata": {},
     "output_type": "display_data"
    },
    {
     "data": {
      "application/vnd.jupyter.widget-view+json": {
       "model_id": "ce271fbcf48f474495f4a07f8ac605ef",
       "version_major": 2,
       "version_minor": 0
      },
      "text/plain": [
       "Downloading:   0%|          | 0.00/1.36M [00:00<?, ?B/s]"
      ]
     },
     "metadata": {},
     "output_type": "display_data"
    },
    {
     "data": {
      "application/vnd.jupyter.widget-view+json": {
       "model_id": "817d1eb354bd4621a8e589f874b3389a",
       "version_major": 2,
       "version_minor": 0
      },
      "text/plain": [
       "Downloading:   0%|          | 0.00/481 [00:00<?, ?B/s]"
      ]
     },
     "metadata": {},
     "output_type": "display_data"
    }
   ],
   "source": [
    "tokenizer = RobertaTokenizer.from_pretrained(\"roberta-base\")"
   ]
  },
  {
   "cell_type": "code",
   "execution_count": 131,
   "id": "QWBUvX1KdaFU",
   "metadata": {
    "id": "QWBUvX1KdaFU"
   },
   "outputs": [],
   "source": [
    "train_encodings = tokenizer(X_train, truncation=True, padding=True)\n",
    "test_encodings = tokenizer(X_test, truncation=True, padding=True)"
   ]
  },
  {
   "cell_type": "code",
   "execution_count": 132,
   "id": "DZupJL3CdqDB",
   "metadata": {
    "id": "DZupJL3CdqDB"
   },
   "outputs": [],
   "source": [
    "import tensorflow as tf\n",
    "\n",
    "train_dataset = tf.data.Dataset.from_tensor_slices((\n",
    "    dict(train_encodings),\n",
    "    y_train\n",
    "))\n",
    "\n",
    "test_dataset = tf.data.Dataset.from_tensor_slices((\n",
    "    dict(test_encodings),\n",
    "    y_test\n",
    "))"
   ]
  },
  {
   "cell_type": "code",
   "execution_count": 133,
   "id": "psh0zy42eEGJ",
   "metadata": {
    "colab": {
     "base_uri": "https://localhost:8080/",
     "height": 136,
     "referenced_widgets": [
      "e6096397d58e4fd789727d01cb1195ad",
      "8ee620465ea248d79adbc817c923b0e7",
      "c3a4f925137c42478a2a68dad6ffcfaa",
      "fdfeb1ec72f949cbbe0a6be5057f9a43",
      "f6bac3362218477484bbd94210c5bdbd",
      "c1de9773c48e443fa06cbd67b469e13d",
      "9209b64ad0e64ae5931c78d297d9886a",
      "71fc5cf77add46d9981ffe63d3d993c2",
      "8e7b72a451c84966b99be0a1275ccf4f",
      "cd2e28fee4f343d08dbefeb6be42c8b0",
      "a13ede328b904c85bc19985a4f844cdc"
     ]
    },
    "id": "psh0zy42eEGJ",
    "outputId": "545e5ab5-4d25-410a-cf10-7d7b5bd4b14e"
   },
   "outputs": [
    {
     "data": {
      "application/vnd.jupyter.widget-view+json": {
       "model_id": "e6096397d58e4fd789727d01cb1195ad",
       "version_major": 2,
       "version_minor": 0
      },
      "text/plain": [
       "Downloading:   0%|          | 0.00/657M [00:00<?, ?B/s]"
      ]
     },
     "metadata": {},
     "output_type": "display_data"
    },
    {
     "name": "stderr",
     "output_type": "stream",
     "text": [
      "All model checkpoint layers were used when initializing TFRobertaForSequenceClassification.\n",
      "\n",
      "Some layers of TFRobertaForSequenceClassification were not initialized from the model checkpoint at roberta-base and are newly initialized: ['classifier']\n",
      "You should probably TRAIN this model on a down-stream task to be able to use it for predictions and inference.\n"
     ]
    }
   ],
   "source": [
    "model7 = TFRobertaForSequenceClassification.from_pretrained('roberta-base')\n",
    "optimizer = tf.keras.optimizers.Adam(learning_rate=5e-5)\n",
    "model7.compile(optimizer=optimizer, loss=model7.compute_loss, metrics=['accuracy'])"
   ]
  },
  {
   "cell_type": "code",
   "execution_count": 134,
   "id": "-Z7VJnSQezTu",
   "metadata": {
    "colab": {
     "base_uri": "https://localhost:8080/"
    },
    "id": "-Z7VJnSQezTu",
    "outputId": "13492058-391a-4735-9169-8d3ad82a30c0"
   },
   "outputs": [
    {
     "name": "stdout",
     "output_type": "stream",
     "text": [
      "WARNING:tensorflow:The parameters `output_attentions`, `output_hidden_states` and `use_cache` cannot be updated when calling a model.They have to be set to True/False in the config object (i.e.: `config=XConfig.from_pretrained('name', output_attentions=True)`).\n",
      "WARNING:tensorflow:The parameter `return_dict` cannot be set in graph mode and will always be set to `True`.\n",
      "WARNING:tensorflow:The parameters `output_attentions`, `output_hidden_states` and `use_cache` cannot be updated when calling a model.They have to be set to True/False in the config object (i.e.: `config=XConfig.from_pretrained('name', output_attentions=True)`).\n",
      "WARNING:tensorflow:The parameter `return_dict` cannot be set in graph mode and will always be set to `True`.\n",
      "1788/1788 [==============================] - ETA: 0s - loss: 0.2675 - accuracy: 0.8871WARNING:tensorflow:The parameters `output_attentions`, `output_hidden_states` and `use_cache` cannot be updated when calling a model.They have to be set to True/False in the config object (i.e.: `config=XConfig.from_pretrained('name', output_attentions=True)`).\n",
      "WARNING:tensorflow:The parameter `return_dict` cannot be set in graph mode and will always be set to `True`.\n",
      "1788/1788 [==============================] - 868s 474ms/step - loss: 0.2675 - accuracy: 0.8871 - val_loss: 0.2370 - val_accuracy: 0.9055\n"
     ]
    }
   ],
   "source": [
    "history=model7.fit(train_dataset.shuffle(1000).batch(16), epochs=1, batch_size=16, validation_data=test_dataset.shuffle(1000).batch(16))"
   ]
  },
  {
   "cell_type": "code",
   "execution_count": 135,
   "id": "EJP4dgjkYpeB",
   "metadata": {
    "id": "EJP4dgjkYpeB"
   },
   "outputs": [],
   "source": [
    "test_dataset5 = test_dataset.batch(16)"
   ]
  },
  {
   "cell_type": "code",
   "execution_count": 136,
   "id": "QC9gi1CLYpge",
   "metadata": {
    "colab": {
     "base_uri": "https://localhost:8080/"
    },
    "id": "QC9gi1CLYpge",
    "outputId": "6387b65b-95e8-4641-a958-0e2fe52833c3"
   },
   "outputs": [
    {
     "name": "stdout",
     "output_type": "stream",
     "text": [
      "WARNING:tensorflow:The parameters `output_attentions`, `output_hidden_states` and `use_cache` cannot be updated when calling a model.They have to be set to True/False in the config object (i.e.: `config=XConfig.from_pretrained('name', output_attentions=True)`).\n",
      "WARNING:tensorflow:The parameter `return_dict` cannot be set in graph mode and will always be set to `True`.\n"
     ]
    }
   ],
   "source": [
    "predictions7=model7.predict(test_dataset5)"
   ]
  },
  {
   "cell_type": "code",
   "execution_count": 137,
   "id": "rtbq6niAYpjP",
   "metadata": {
    "colab": {
     "base_uri": "https://localhost:8080/"
    },
    "id": "rtbq6niAYpjP",
    "outputId": "66b8ee9d-84a8-48ac-e368-39e80e16b524"
   },
   "outputs": [
    {
     "data": {
      "text/plain": [
       "(7151, 2)"
      ]
     },
     "execution_count": 137,
     "metadata": {},
     "output_type": "execute_result"
    }
   ],
   "source": [
    "predictions7=predictions7.logits\n",
    "predictions7.shape"
   ]
  },
  {
   "cell_type": "code",
   "execution_count": 138,
   "id": "v439AvDHYplR",
   "metadata": {
    "colab": {
     "base_uri": "https://localhost:8080/"
    },
    "id": "v439AvDHYplR",
    "outputId": "d090996a-117f-47fe-9613-91f6470c5343"
   },
   "outputs": [
    {
     "data": {
      "text/plain": [
       "<tf.Tensor: shape=(7151,), dtype=int64, numpy=array([0, 1, 1, ..., 0, 0, 1])>"
      ]
     },
     "execution_count": 138,
     "metadata": {},
     "output_type": "execute_result"
    }
   ],
   "source": [
    "predictions7 = tf.math.argmax(predictions7, axis=1)\n",
    "predictions7"
   ]
  },
  {
   "cell_type": "code",
   "execution_count": 139,
   "id": "xVweMP2PYpn_",
   "metadata": {
    "colab": {
     "base_uri": "https://localhost:8080/",
     "height": 389
    },
    "id": "xVweMP2PYpn_",
    "outputId": "73fcb597-df38-41bf-a747-afd86a406e08"
   },
   "outputs": [
    {
     "data": {
      "image/png": "[encoded data removed]",
      "text/plain": [
       "<Figure size 432x432 with 1 Axes>"
      ]
     },
     "metadata": {
      "needs_background": "light"
     },
     "output_type": "display_data"
    }
   ],
   "source": [
    "fig, ax = plt.subplots(figsize=(6,6))\n",
    "mat = confusion_matrix(y_test, predictions7)\n",
    "sns.heatmap(mat.T, square=True, annot=True, fmt='d', cbar=False,\n",
    "            xticklabels=['Not_Hate_Speech', 'Hate_Speech'], yticklabels=['Not_Hate_Speech', 'Hate_Speech'])\n",
    "plt.xlabel('true label')\n",
    "plt.ylabel('predicted label')\n",
    "plt.show()"
   ]
  },
  {
   "cell_type": "code",
   "execution_count": 140,
   "id": "BMCMP3N_YprW",
   "metadata": {
    "id": "BMCMP3N_YprW"
   },
   "outputs": [],
   "source": [
    "TP = mat[1,1] # true positive \n",
    "TN = mat[0,0] # true negatives\n",
    "FP = mat[0,1] # false positives\n",
    "FN = mat[1,0] # false negatives"
   ]
  },
  {
   "cell_type": "code",
   "execution_count": 141,
   "id": "9E9xsH3rZH1k",
   "metadata": {
    "id": "9E9xsH3rZH1k"
   },
   "outputs": [],
   "source": [
    "Specificity = TN/(TN+FP)\n",
    "Sensitivity = TP/(TP+FN)\n",
    "TPR=TP/(TP+FN)\n",
    "FPR=FP/(FP+TN)\n",
    "roc_auc_score12=roc_auc_score(y_test, predictions7)"
   ]
  },
  {
   "cell_type": "code",
   "execution_count": 142,
   "id": "EYVaWSoygswR",
   "metadata": {
    "colab": {
     "base_uri": "https://localhost:8080/"
    },
    "id": "EYVaWSoygswR",
    "outputId": "71518c12-8b2b-43a5-c4b9-7a9578897d09"
   },
   "outputs": [
    {
     "data": {
      "text/plain": [
       "{'accuracy': [0.8871058225631714],\n",
       " 'loss': [0.2675054371356964],\n",
       " 'val_accuracy': [0.9054677486419678],\n",
       " 'val_loss': [0.23699070513248444]}"
      ]
     },
     "execution_count": 142,
     "metadata": {},
     "output_type": "execute_result"
    }
   ],
   "source": [
    "history.history"
   ]
  },
  {
   "cell_type": "code",
   "execution_count": 143,
   "id": "A38Gs3wNn9L5",
   "metadata": {
    "colab": {
     "base_uri": "https://localhost:8080/"
    },
    "id": "A38Gs3wNn9L5",
    "outputId": "89a518f4-fe91-489f-9235-31825fab688d"
   },
   "outputs": [
    {
     "name": "stdout",
     "output_type": "stream",
     "text": [
      "Roberta\n",
      "Precision: 0.9786\n",
      "Recall: 0.8755\n",
      "Accuracy: 0.9055\n",
      "F1 Score: 0.9242\n",
      "Sensitivity: 0.8755\n",
      "Specificity: 0.9632\n",
      "TPR: 0.8755\n",
      "FPR: 0.03682\n",
      "roc_auc_score: 0.9193\n"
     ]
    }
   ],
   "source": [
    "precision = precision_score(y_test, predictions7)\n",
    "recall = recall_score(y_test, predictions7)\n",
    "acc_score = accuracy_score(y_test, predictions7)\n",
    "score = f1_score(y_test, predictions7)\n",
    "print('Roberta')\n",
    "\n",
    "print('Precision: {:.4}'.format(precision))\n",
    "print('Recall: {:.4}'.format(recall))\n",
    "\n",
    "print(\"Accuracy: {:.4}\".format(acc_score))\n",
    "print(\"F1 Score: {:.4}\".format(score))\n",
    "print(\"Sensitivity: {:.4}\".format(Sensitivity))\n",
    "print(\"Specificity: {:.4}\".format(Specificity))\n",
    "print(\"TPR: {:.4}\".format(TPR))\n",
    "print(\"FPR: {:.4}\".format(FPR))\n",
    "print(\"roc_auc_score: {:.4}\".format(roc_auc_score12))"
   ]
  }
 ],
 "metadata": {
  "accelerator": "GPU",
  "colab": {
   "collapsed_sections": [],
   "name": "Twitter Sentiment Analysis.ipynb",
   "provenance": []
  },
  "kernelspec": {
   "display_name": "Python 3",
   "language": "python",
   "name": "python3"
  },
  "language_info": {
   "codemirror_mode": {
    "name": "ipython",
    "version": 3
   },
   "file_extension": ".py",
   "mimetype": "text/x-python",
   "name": "python",
   "nbconvert_exporter": "python",
   "pygments_lexer": "ipython3",
   "version": "3.7.10"
  },
  "widgets": {
   "application/vnd.jupyter.widget-state+json": {
    "002e5d13d7de48efa0a2dcf424b957ec": {
     "model_module": "@jupyter-widgets/base",
     "model_module_version": "1.2.0",
     "model_name": "LayoutModel",
     "state": {
      "_model_module": "@jupyter-widgets/base",
      "_model_module_version": "1.2.0",
      "_model_name": "LayoutModel",
      "_view_count": null,
      "_view_module": "@jupyter-widgets/base",
      "_view_module_version": "1.2.0",
      "_view_name": "LayoutView",
      "align_content": null,
      "align_items": null,
      "align_self": null,
      "border": null,
      "bottom": null,
      "display": null,
      "flex": null,
      "flex_flow": null,
      "grid_area": null,
      "grid_auto_columns": null,
      "grid_auto_flow": null,
      "grid_auto_rows": null,
      "grid_column": null,
      "grid_gap": null,
      "grid_row": null,
      "grid_template_areas": null,
      "grid_template_columns": null,
      "grid_template_rows": null,
      "height": null,
      "justify_content": null,
      "justify_items": null,
      "left": null,
      "margin": null,
      "max_height": null,
      "max_width": null,
      "min_height": null,
      "min_width": null,
      "object_fit": null,
      "object_position": null,
      "order": null,
      "overflow": null,
      "overflow_x": null,
      "overflow_y": null,
      "padding": null,
      "right": null,
      "top": null,
      "visibility": null,
      "width": null
     }
    },
    "025e63799d234727bbb6efe64c1db49a": {
     "model_module": "@jupyter-widgets/controls",
     "model_module_version": "1.5.0",
     "model_name": "HBoxModel",
     "state": {
      "_dom_classes": [],
      "_model_module": "@jupyter-widgets/controls",
      "_model_module_version": "1.5.0",
      "_model_name": "HBoxModel",
      "_view_count": null,
      "_view_module": "@jupyter-widgets/controls",
      "_view_module_version": "1.5.0",
      "_view_name": "HBoxView",
      "box_style": "",
      "children": [
       "IPY_MODEL_045bcec2654f4683a2455a11d3dba0f8",
       "IPY_MODEL_d48aaed90cc34a3db2d786776dcacf4d",
       "IPY_MODEL_8c76a4ec044b4f0fb36cd72a190bb0e3"
      ],
      "layout": "IPY_MODEL_e4580323c77a4407985286feb0dff721"
     }
    },
    "02ebcf06150d490f9247f9e8b691678d": {
     "model_module": "@jupyter-widgets/controls",
     "model_module_version": "1.5.0",
     "model_name": "ProgressStyleModel",
     "state": {
      "_model_module": "@jupyter-widgets/controls",
      "_model_module_version": "1.5.0",
      "_model_name": "ProgressStyleModel",
      "_view_count": null,
      "_view_module": "@jupyter-widgets/base",
      "_view_module_version": "1.2.0",
      "_view_name": "StyleView",
      "bar_color": null,
      "description_width": ""
     }
    },
    "03428f7978e34a30805dab74b6a55bcf": {
     "model_module": "@jupyter-widgets/controls",
     "model_module_version": "1.5.0",
     "model_name": "HBoxModel",
     "state": {
      "_dom_classes": [],
      "_model_module": "@jupyter-widgets/controls",
      "_model_module_version": "1.5.0",
      "_model_name": "HBoxModel",
      "_view_count": null,
      "_view_module": "@jupyter-widgets/controls",
      "_view_module_version": "1.5.0",
      "_view_name": "HBoxView",
      "box_style": "",
      "children": [
       "IPY_MODEL_da8d130566f544d5882f9a7d3407c12f",
       "IPY_MODEL_433ee6e0eac34111a852ba279ba5c716",
       "IPY_MODEL_639f5e3564664e03b4b1cf94814b515f"
      ],
      "layout": "IPY_MODEL_38dc78a89f3b4932a4b5aedce9ce7aa8"
     }
    },
    "03525a73deaa4c25b0a2d36ebce22bfd": {
     "model_module": "@jupyter-widgets/controls",
     "model_module_version": "1.5.0",
     "model_name": "DescriptionStyleModel",
     "state": {
      "_model_module": "@jupyter-widgets/controls",
      "_model_module_version": "1.5.0",
      "_model_name": "DescriptionStyleModel",
      "_view_count": null,
      "_view_module": "@jupyter-widgets/base",
      "_view_module_version": "1.2.0",
      "_view_name": "StyleView",
      "description_width": ""
     }
    },
    "045bcec2654f4683a2455a11d3dba0f8": {
     "model_module": "@jupyter-widgets/controls",
     "model_module_version": "1.5.0",
     "model_name": "HTMLModel",
     "state": {
      "_dom_classes": [],
      "_model_module": "@jupyter-widgets/controls",
      "_model_module_version": "1.5.0",
      "_model_name": "HTMLModel",
      "_view_count": null,
      "_view_module": "@jupyter-widgets/controls",
      "_view_module_version": "1.5.0",
      "_view_name": "HTMLView",
      "description": "",
      "description_tooltip": null,
      "layout": "IPY_MODEL_9ec089082d624bdabc5413652a9e07fc",
      "placeholder": "​",
      "style": "IPY_MODEL_ee293a67a6f84f59b228fddb8c33d870",
      "value": "Downloading: 100%"
     }
    },
    "04ccb92794934edfa03b901fee1f6679": {
     "model_module": "@jupyter-widgets/controls",
     "model_module_version": "1.5.0",
     "model_name": "DescriptionStyleModel",
     "state": {
      "_model_module": "@jupyter-widgets/controls",
      "_model_module_version": "1.5.0",
      "_model_name": "DescriptionStyleModel",
      "_view_count": null,
      "_view_module": "@jupyter-widgets/base",
      "_view_module_version": "1.2.0",
      "_view_name": "StyleView",
      "description_width": ""
     }
    },
    "0640a48e3cef4914b5a8f28a1069fc12": {
     "model_module": "@jupyter-widgets/controls",
     "model_module_version": "1.5.0",
     "model_name": "HBoxModel",
     "state": {
      "_dom_classes": [],
      "_model_module": "@jupyter-widgets/controls",
      "_model_module_version": "1.5.0",
      "_model_name": "HBoxModel",
      "_view_count": null,
      "_view_module": "@jupyter-widgets/controls",
      "_view_module_version": "1.5.0",
      "_view_name": "HBoxView",
      "box_style": "",
      "children": [
       "IPY_MODEL_1a7f4b91974847f09c992798c17376bf",
       "IPY_MODEL_472c0f6b0c4a46ccb3e34f75fdbd66cc",
       "IPY_MODEL_5ae7cd70327e405182382077d3b595b6"
      ],
      "layout": "IPY_MODEL_444bcd561486406f84b85e220ddd417a"
     }
    },
    "07817d38504d4b77876e062d48ced673": {
     "model_module": "@jupyter-widgets/controls",
     "model_module_version": "1.5.0",
     "model_name": "HBoxModel",
     "state": {
      "_dom_classes": [],
      "_model_module": "@jupyter-widgets/controls",
      "_model_module_version": "1.5.0",
      "_model_name": "HBoxModel",
      "_view_count": null,
      "_view_module": "@jupyter-widgets/controls",
      "_view_module_version": "1.5.0",
      "_view_name": "HBoxView",
      "box_style": "",
      "children": [
       "IPY_MODEL_0ce5185f55224489993e5c620260896e",
       "IPY_MODEL_84b1e9420621456eb2186b822d5f544d",
       "IPY_MODEL_5eaad42b2bae4eb3b9ba09c08af3f8cf"
      ],
      "layout": "IPY_MODEL_ee54d25c991440a69b3408f7e9341186"
     }
    },
    "078f8f75ef0d4edc863a6a912e4f61f4": {
     "model_module": "@jupyter-widgets/controls",
     "model_module_version": "1.5.0",
     "model_name": "FloatProgressModel",
     "state": {
      "_dom_classes": [],
      "_model_module": "@jupyter-widgets/controls",
      "_model_module_version": "1.5.0",
      "_model_name": "FloatProgressModel",
      "_view_count": null,
      "_view_module": "@jupyter-widgets/controls",
      "_view_module_version": "1.5.0",
      "_view_name": "ProgressView",
      "bar_style": "success",
      "description": "",
      "description_tooltip": null,
      "layout": "IPY_MODEL_86fc2c443073406b877322a00b47e3c9",
      "max": 466062,
      "min": 0,
      "orientation": "horizontal",
      "style": "IPY_MODEL_909ca6d093244297ae4226cc660b3651",
      "value": 466062
     }
    },
    "089939d53f3545379e14b7d85432a101": {
     "model_module": "@jupyter-widgets/controls",
     "model_module_version": "1.5.0",
     "model_name": "HTMLModel",
     "state": {
      "_dom_classes": [],
      "_model_module": "@jupyter-widgets/controls",
      "_model_module_version": "1.5.0",
      "_model_name": "HTMLModel",
      "_view_count": null,
      "_view_module": "@jupyter-widgets/controls",
      "_view_module_version": "1.5.0",
      "_view_name": "HTMLView",
      "description": "",
      "description_tooltip": null,
      "layout": "IPY_MODEL_c253395dbb554a1183807b67d30b2d2f",
      "placeholder": "​",
      "style": "IPY_MODEL_5dbac005337a4dc3ad1c1600f4365ad2",
      "value": "Downloading: 100%"
     }
    },
    "09d5b6409e3d4eaea5f5ce3edecf7624": {
     "model_module": "@jupyter-widgets/controls",
     "model_module_version": "1.5.0",
     "model_name": "HTMLModel",
     "state": {
      "_dom_classes": [],
      "_model_module": "@jupyter-widgets/controls",
      "_model_module_version": "1.5.0",
      "_model_name": "HTMLModel",
      "_view_count": null,
      "_view_module": "@jupyter-widgets/controls",
      "_view_module_version": "1.5.0",
      "_view_name": "HTMLView",
      "description": "",
      "description_tooltip": null,
      "layout": "IPY_MODEL_446ebfdc44824786a54980bec25d3920",
      "placeholder": "​",
      "style": "IPY_MODEL_4a5badb1f440486e92e5f027b78762b7",
      "value": " 28.0/28.0 [00:00&lt;00:00, 586B/s]"
     }
    },
    "0a25f2331da84eb482645fe79b6ed800": {
     "model_module": "@jupyter-widgets/controls",
     "model_module_version": "1.5.0",
     "model_name": "HBoxModel",
     "state": {
      "_dom_classes": [],
      "_model_module": "@jupyter-widgets/controls",
      "_model_module_version": "1.5.0",
      "_model_name": "HBoxModel",
      "_view_count": null,
      "_view_module": "@jupyter-widgets/controls",
      "_view_module_version": "1.5.0",
      "_view_name": "HBoxView",
      "box_style": "",
      "children": [
       "IPY_MODEL_73f91f85ca3e4cb1819827b283980ab4",
       "IPY_MODEL_fd575606edec48ebbd8f50af04e23c79",
       "IPY_MODEL_c2bd0088acd548dc98bdc0d8a9f37f51"
      ],
      "layout": "IPY_MODEL_4776a7e15cc3482d8027258731959ba5"
     }
    },
    "0c2fd0c43db64bddb841951dd3f91d53": {
     "model_module": "@jupyter-widgets/controls",
     "model_module_version": "1.5.0",
     "model_name": "HTMLModel",
     "state": {
      "_dom_classes": [],
      "_model_module": "@jupyter-widgets/controls",
      "_model_module_version": "1.5.0",
      "_model_name": "HTMLModel",
      "_view_count": null,
      "_view_module": "@jupyter-widgets/controls",
      "_view_module_version": "1.5.0",
      "_view_name": "HTMLView",
      "description": "",
      "description_tooltip": null,
      "layout": "IPY_MODEL_1d310d9326244d008ac955fd3447db89",
      "placeholder": "​",
      "style": "IPY_MODEL_e8d4eaf7f266472ab48be52082e4c687",
      "value": "Downloading: 100%"
     }
    },
    "0ce5185f55224489993e5c620260896e": {
     "model_module": "@jupyter-widgets/controls",
     "model_module_version": "1.5.0",
     "model_name": "HTMLModel",
     "state": {
      "_dom_classes": [],
      "_model_module": "@jupyter-widgets/controls",
      "_model_module_version": "1.5.0",
      "_model_name": "HTMLModel",
      "_view_count": null,
      "_view_module": "@jupyter-widgets/controls",
      "_view_module_version": "1.5.0",
      "_view_name": "HTMLView",
      "description": "",
      "description_tooltip": null,
      "layout": "IPY_MODEL_162145d978494978ada1ab48b75f946e",
      "placeholder": "​",
      "style": "IPY_MODEL_03525a73deaa4c25b0a2d36ebce22bfd",
      "value": "Downloading: 100%"
     }
    },
    "0ee4ead1c9644ca692a33893123b0f6b": {
     "model_module": "@jupyter-widgets/controls",
     "model_module_version": "1.5.0",
     "model_name": "HBoxModel",
     "state": {
      "_dom_classes": [],
      "_model_module": "@jupyter-widgets/controls",
      "_model_module_version": "1.5.0",
      "_model_name": "HBoxModel",
      "_view_count": null,
      "_view_module": "@jupyter-widgets/controls",
      "_view_module_version": "1.5.0",
      "_view_name": "HBoxView",
      "box_style": "",
      "children": [
       "IPY_MODEL_c9355cfc4f5b4391ad8db17441ab13e8",
       "IPY_MODEL_352bc958df554a72bfb43004de6f4827",
       "IPY_MODEL_9b7b29efef794f5d880c2239bda71b80"
      ],
      "layout": "IPY_MODEL_acfcdee2f2584c8f9a530aabee528d03"
     }
    },
    "0f48028c31dd4d71bc1cf31fece2a0bd": {
     "model_module": "@jupyter-widgets/base",
     "model_module_version": "1.2.0",
     "model_name": "LayoutModel",
     "state": {
      "_model_module": "@jupyter-widgets/base",
      "_model_module_version": "1.2.0",
      "_model_name": "LayoutModel",
      "_view_count": null,
      "_view_module": "@jupyter-widgets/base",
      "_view_module_version": "1.2.0",
      "_view_name": "LayoutView",
      "align_content": null,
      "align_items": null,
      "align_self": null,
      "border": null,
      "bottom": null,
      "display": null,
      "flex": null,
      "flex_flow": null,
      "grid_area": null,
      "grid_auto_columns": null,
      "grid_auto_flow": null,
      "grid_auto_rows": null,
      "grid_column": null,
      "grid_gap": null,
      "grid_row": null,
      "grid_template_areas": null,
      "grid_template_columns": null,
      "grid_template_rows": null,
      "height": null,
      "justify_content": null,
      "justify_items": null,
      "left": null,
      "margin": null,
      "max_height": null,
      "max_width": null,
      "min_height": null,
      "min_width": null,
      "object_fit": null,
      "object_position": null,
      "order": null,
      "overflow": null,
      "overflow_x": null,
      "overflow_y": null,
      "padding": null,
      "right": null,
      "top": null,
      "visibility": null,
      "width": null
     }
    },
    "0fd1ed170acd41f1b9084fbf2d7c5a8f": {
     "model_module": "@jupyter-widgets/base",
     "model_module_version": "1.2.0",
     "model_name": "LayoutModel",
     "state": {
      "_model_module": "@jupyter-widgets/base",
      "_model_module_version": "1.2.0",
      "_model_name": "LayoutModel",
      "_view_count": null,
      "_view_module": "@jupyter-widgets/base",
      "_view_module_version": "1.2.0",
      "_view_name": "LayoutView",
      "align_content": null,
      "align_items": null,
      "align_self": null,
      "border": null,
      "bottom": null,
      "display": null,
      "flex": null,
      "flex_flow": null,
      "grid_area": null,
      "grid_auto_columns": null,
      "grid_auto_flow": null,
      "grid_auto_rows": null,
      "grid_column": null,
      "grid_gap": null,
      "grid_row": null,
      "grid_template_areas": null,
      "grid_template_columns": null,
      "grid_template_rows": null,
      "height": null,
      "justify_content": null,
      "justify_items": null,
      "left": null,
      "margin": null,
      "max_height": null,
      "max_width": null,
      "min_height": null,
      "min_width": null,
      "object_fit": null,
      "object_position": null,
      "order": null,
      "overflow": null,
      "overflow_x": null,
      "overflow_y": null,
      "padding": null,
      "right": null,
      "top": null,
      "visibility": null,
      "width": null
     }
    },
    "1215def2e90e46f5813228ad2291ea82": {
     "model_module": "@jupyter-widgets/base",
     "model_module_version": "1.2.0",
     "model_name": "LayoutModel",
     "state": {
      "_model_module": "@jupyter-widgets/base",
      "_model_module_version": "1.2.0",
      "_model_name": "LayoutModel",
      "_view_count": null,
      "_view_module": "@jupyter-widgets/base",
      "_view_module_version": "1.2.0",
      "_view_name": "LayoutView",
      "align_content": null,
      "align_items": null,
      "align_self": null,
      "border": null,
      "bottom": null,
      "display": null,
      "flex": null,
      "flex_flow": null,
      "grid_area": null,
      "grid_auto_columns": null,
      "grid_auto_flow": null,
      "grid_auto_rows": null,
      "grid_column": null,
      "grid_gap": null,
      "grid_row": null,
      "grid_template_areas": null,
      "grid_template_columns": null,
      "grid_template_rows": null,
      "height": null,
      "justify_content": null,
      "justify_items": null,
      "left": null,
      "margin": null,
      "max_height": null,
      "max_width": null,
      "min_height": null,
      "min_width": null,
      "object_fit": null,
      "object_position": null,
      "order": null,
      "overflow": null,
      "overflow_x": null,
      "overflow_y": null,
      "padding": null,
      "right": null,
      "top": null,
      "visibility": null,
      "width": null
     }
    },
    "14125c57db91488ab35d87fcdf01f13e": {
     "model_module": "@jupyter-widgets/controls",
     "model_module_version": "1.5.0",
     "model_name": "DescriptionStyleModel",
     "state": {
      "_model_module": "@jupyter-widgets/controls",
      "_model_module_version": "1.5.0",
      "_model_name": "DescriptionStyleModel",
      "_view_count": null,
      "_view_module": "@jupyter-widgets/base",
      "_view_module_version": "1.2.0",
      "_view_name": "StyleView",
      "description_width": ""
     }
    },
    "162145d978494978ada1ab48b75f946e": {
     "model_module": "@jupyter-widgets/base",
     "model_module_version": "1.2.0",
     "model_name": "LayoutModel",
     "state": {
      "_model_module": "@jupyter-widgets/base",
      "_model_module_version": "1.2.0",
      "_model_name": "LayoutModel",
      "_view_count": null,
      "_view_module": "@jupyter-widgets/base",
      "_view_module_version": "1.2.0",
      "_view_name": "LayoutView",
      "align_content": null,
      "align_items": null,
      "align_self": null,
      "border": null,
      "bottom": null,
      "display": null,
      "flex": null,
      "flex_flow": null,
      "grid_area": null,
      "grid_auto_columns": null,
      "grid_auto_flow": null,
      "grid_auto_rows": null,
      "grid_column": null,
      "grid_gap": null,
      "grid_row": null,
      "grid_template_areas": null,
      "grid_template_columns": null,
      "grid_template_rows": null,
      "height": null,
      "justify_content": null,
      "justify_items": null,
      "left": null,
      "margin": null,
      "max_height": null,
      "max_width": null,
      "min_height": null,
      "min_width": null,
      "object_fit": null,
      "object_position": null,
      "order": null,
      "overflow": null,
      "overflow_x": null,
      "overflow_y": null,
      "padding": null,
      "right": null,
      "top": null,
      "visibility": null,
      "width": null
     }
    },
    "16d29d07dd4142298eb45b738772f90c": {
     "model_module": "@jupyter-widgets/controls",
     "model_module_version": "1.5.0",
     "model_name": "DescriptionStyleModel",
     "state": {
      "_model_module": "@jupyter-widgets/controls",
      "_model_module_version": "1.5.0",
      "_model_name": "DescriptionStyleModel",
      "_view_count": null,
      "_view_module": "@jupyter-widgets/base",
      "_view_module_version": "1.2.0",
      "_view_name": "StyleView",
      "description_width": ""
     }
    },
    "17d5885cc21c4e61984f5452a01b886d": {
     "model_module": "@jupyter-widgets/controls",
     "model_module_version": "1.5.0",
     "model_name": "HTMLModel",
     "state": {
      "_dom_classes": [],
      "_model_module": "@jupyter-widgets/controls",
      "_model_module_version": "1.5.0",
      "_model_name": "HTMLModel",
      "_view_count": null,
      "_view_module": "@jupyter-widgets/controls",
      "_view_module_version": "1.5.0",
      "_view_name": "HTMLView",
      "description": "",
      "description_tooltip": null,
      "layout": "IPY_MODEL_712d27777f7f46378193368396eafc29",
      "placeholder": "​",
      "style": "IPY_MODEL_20dcf981b8604fc28271fa8e0aab0d43",
      "value": "Downloading: 100%"
     }
    },
    "19d58ba36487454bae2feca5d040ee15": {
     "model_module": "@jupyter-widgets/controls",
     "model_module_version": "1.5.0",
     "model_name": "HTMLModel",
     "state": {
      "_dom_classes": [],
      "_model_module": "@jupyter-widgets/controls",
      "_model_module_version": "1.5.0",
      "_model_name": "HTMLModel",
      "_view_count": null,
      "_view_module": "@jupyter-widgets/controls",
      "_view_module_version": "1.5.0",
      "_view_name": "HTMLView",
      "description": "",
      "description_tooltip": null,
      "layout": "IPY_MODEL_a5980c30af224615903fe60cb46e33cd",
      "placeholder": "​",
      "style": "IPY_MODEL_04ccb92794934edfa03b901fee1f6679",
      "value": " 213k/213k [00:00&lt;00:00, 621kB/s]"
     }
    },
    "1a7f4b91974847f09c992798c17376bf": {
     "model_module": "@jupyter-widgets/controls",
     "model_module_version": "1.5.0",
     "model_name": "HTMLModel",
     "state": {
      "_dom_classes": [],
      "_model_module": "@jupyter-widgets/controls",
      "_model_module_version": "1.5.0",
      "_model_name": "HTMLModel",
      "_view_count": null,
      "_view_module": "@jupyter-widgets/controls",
      "_view_module_version": "1.5.0",
      "_view_name": "HTMLView",
      "description": "",
      "description_tooltip": null,
      "layout": "IPY_MODEL_eb747f0e48d84336b7b5aa16f76cd735",
      "placeholder": "​",
      "style": "IPY_MODEL_a01497aad5cb40a6a0ad321313924850",
      "value": "Downloading: 100%"
     }
    },
    "1cb5218973324ae4acd18998a8e9526b": {
     "model_module": "@jupyter-widgets/controls",
     "model_module_version": "1.5.0",
     "model_name": "HTMLModel",
     "state": {
      "_dom_classes": [],
      "_model_module": "@jupyter-widgets/controls",
      "_model_module_version": "1.5.0",
      "_model_name": "HTMLModel",
      "_view_count": null,
      "_view_module": "@jupyter-widgets/controls",
      "_view_module_version": "1.5.0",
      "_view_name": "HTMLView",
      "description": "",
      "description_tooltip": null,
      "layout": "IPY_MODEL_2ad9bfab36274bdbb2be34df4e73f4a4",
      "placeholder": "​",
      "style": "IPY_MODEL_16d29d07dd4142298eb45b738772f90c",
      "value": "Downloading: 100%"
     }
    },
    "1d310d9326244d008ac955fd3447db89": {
     "model_module": "@jupyter-widgets/base",
     "model_module_version": "1.2.0",
     "model_name": "LayoutModel",
     "state": {
      "_model_module": "@jupyter-widgets/base",
      "_model_module_version": "1.2.0",
      "_model_name": "LayoutModel",
      "_view_count": null,
      "_view_module": "@jupyter-widgets/base",
      "_view_module_version": "1.2.0",
      "_view_name": "LayoutView",
      "align_content": null,
      "align_items": null,
      "align_self": null,
      "border": null,
      "bottom": null,
      "display": null,
      "flex": null,
      "flex_flow": null,
      "grid_area": null,
      "grid_auto_columns": null,
      "grid_auto_flow": null,
      "grid_auto_rows": null,
      "grid_column": null,
      "grid_gap": null,
      "grid_row": null,
      "grid_template_areas": null,
      "grid_template_columns": null,
      "grid_template_rows": null,
      "height": null,
      "justify_content": null,
      "justify_items": null,
      "left": null,
      "margin": null,
      "max_height": null,
      "max_width": null,
      "min_height": null,
      "min_width": null,
      "object_fit": null,
      "object_position": null,
      "order": null,
      "overflow": null,
      "overflow_x": null,
      "overflow_y": null,
      "padding": null,
      "right": null,
      "top": null,
      "visibility": null,
      "width": null
     }
    },
    "20dcf981b8604fc28271fa8e0aab0d43": {
     "model_module": "@jupyter-widgets/controls",
     "model_module_version": "1.5.0",
     "model_name": "DescriptionStyleModel",
     "state": {
      "_model_module": "@jupyter-widgets/controls",
      "_model_module_version": "1.5.0",
      "_model_name": "DescriptionStyleModel",
      "_view_count": null,
      "_view_module": "@jupyter-widgets/base",
      "_view_module_version": "1.2.0",
      "_view_name": "StyleView",
      "description_width": ""
     }
    },
    "213980a23f6045bf9920d2dd7f63732c": {
     "model_module": "@jupyter-widgets/base",
     "model_module_version": "1.2.0",
     "model_name": "LayoutModel",
     "state": {
      "_model_module": "@jupyter-widgets/base",
      "_model_module_version": "1.2.0",
      "_model_name": "LayoutModel",
      "_view_count": null,
      "_view_module": "@jupyter-widgets/base",
      "_view_module_version": "1.2.0",
      "_view_name": "LayoutView",
      "align_content": null,
      "align_items": null,
      "align_self": null,
      "border": null,
      "bottom": null,
      "display": null,
      "flex": null,
      "flex_flow": null,
      "grid_area": null,
      "grid_auto_columns": null,
      "grid_auto_flow": null,
      "grid_auto_rows": null,
      "grid_column": null,
      "grid_gap": null,
      "grid_row": null,
      "grid_template_areas": null,
      "grid_template_columns": null,
      "grid_template_rows": null,
      "height": null,
      "justify_content": null,
      "justify_items": null,
      "left": null,
      "margin": null,
      "max_height": null,
      "max_width": null,
      "min_height": null,
      "min_width": null,
      "object_fit": null,
      "object_position": null,
      "order": null,
      "overflow": null,
      "overflow_x": null,
      "overflow_y": null,
      "padding": null,
      "right": null,
      "top": null,
      "visibility": null,
      "width": null
     }
    },
    "21529b4fd5b044d3a3020a329871f079": {
     "model_module": "@jupyter-widgets/controls",
     "model_module_version": "1.5.0",
     "model_name": "FloatProgressModel",
     "state": {
      "_dom_classes": [],
      "_model_module": "@jupyter-widgets/controls",
      "_model_module_version": "1.5.0",
      "_model_name": "FloatProgressModel",
      "_view_count": null,
      "_view_module": "@jupyter-widgets/controls",
      "_view_module_version": "1.5.0",
      "_view_name": "ProgressView",
      "bar_style": "success",
      "description": "",
      "description_tooltip": null,
      "layout": "IPY_MODEL_c2a9e367ca1843248f7cc8ecac6a32de",
      "max": 29,
      "min": 0,
      "orientation": "horizontal",
      "style": "IPY_MODEL_eea58682a9064d48a3b25f1fb8177c9e",
      "value": 29
     }
    },
    "225111f7cfe34a72b7015c9393b4b939": {
     "model_module": "@jupyter-widgets/controls",
     "model_module_version": "1.5.0",
     "model_name": "DescriptionStyleModel",
     "state": {
      "_model_module": "@jupyter-widgets/controls",
      "_model_module_version": "1.5.0",
      "_model_name": "DescriptionStyleModel",
      "_view_count": null,
      "_view_module": "@jupyter-widgets/base",
      "_view_module_version": "1.2.0",
      "_view_name": "StyleView",
      "description_width": ""
     }
    },
    "2390f764c9e04c5ba7cd765908f6a1d5": {
     "model_module": "@jupyter-widgets/base",
     "model_module_version": "1.2.0",
     "model_name": "LayoutModel",
     "state": {
      "_model_module": "@jupyter-widgets/base",
      "_model_module_version": "1.2.0",
      "_model_name": "LayoutModel",
      "_view_count": null,
      "_view_module": "@jupyter-widgets/base",
      "_view_module_version": "1.2.0",
      "_view_name": "LayoutView",
      "align_content": null,
      "align_items": null,
      "align_self": null,
      "border": null,
      "bottom": null,
      "display": null,
      "flex": null,
      "flex_flow": null,
      "grid_area": null,
      "grid_auto_columns": null,
      "grid_auto_flow": null,
      "grid_auto_rows": null,
      "grid_column": null,
      "grid_gap": null,
      "grid_row": null,
      "grid_template_areas": null,
      "grid_template_columns": null,
      "grid_template_rows": null,
      "height": null,
      "justify_content": null,
      "justify_items": null,
      "left": null,
      "margin": null,
      "max_height": null,
      "max_width": null,
      "min_height": null,
      "min_width": null,
      "object_fit": null,
      "object_position": null,
      "order": null,
      "overflow": null,
      "overflow_x": null,
      "overflow_y": null,
      "padding": null,
      "right": null,
      "top": null,
      "visibility": null,
      "width": null
     }
    },
    "270051e2e68f4b61b22f73a2396711b4": {
     "model_module": "@jupyter-widgets/controls",
     "model_module_version": "1.5.0",
     "model_name": "DescriptionStyleModel",
     "state": {
      "_model_module": "@jupyter-widgets/controls",
      "_model_module_version": "1.5.0",
      "_model_name": "DescriptionStyleModel",
      "_view_count": null,
      "_view_module": "@jupyter-widgets/base",
      "_view_module_version": "1.2.0",
      "_view_name": "StyleView",
      "description_width": ""
     }
    },
    "278518df99374dbe9077cf25b1e5e6bf": {
     "model_module": "@jupyter-widgets/base",
     "model_module_version": "1.2.0",
     "model_name": "LayoutModel",
     "state": {
      "_model_module": "@jupyter-widgets/base",
      "_model_module_version": "1.2.0",
      "_model_name": "LayoutModel",
      "_view_count": null,
      "_view_module": "@jupyter-widgets/base",
      "_view_module_version": "1.2.0",
      "_view_name": "LayoutView",
      "align_content": null,
      "align_items": null,
      "align_self": null,
      "border": null,
      "bottom": null,
      "display": null,
      "flex": null,
      "flex_flow": null,
      "grid_area": null,
      "grid_auto_columns": null,
      "grid_auto_flow": null,
      "grid_auto_rows": null,
      "grid_column": null,
      "grid_gap": null,
      "grid_row": null,
      "grid_template_areas": null,
      "grid_template_columns": null,
      "grid_template_rows": null,
      "height": null,
      "justify_content": null,
      "justify_items": null,
      "left": null,
      "margin": null,
      "max_height": null,
      "max_width": null,
      "min_height": null,
      "min_width": null,
      "object_fit": null,
      "object_position": null,
      "order": null,
      "overflow": null,
      "overflow_x": null,
      "overflow_y": null,
      "padding": null,
      "right": null,
      "top": null,
      "visibility": null,
      "width": null
     }
    },
    "28b3c84059944b349ed80b1cf92103f7": {
     "model_module": "@jupyter-widgets/base",
     "model_module_version": "1.2.0",
     "model_name": "LayoutModel",
     "state": {
      "_model_module": "@jupyter-widgets/base",
      "_model_module_version": "1.2.0",
      "_model_name": "LayoutModel",
      "_view_count": null,
      "_view_module": "@jupyter-widgets/base",
      "_view_module_version": "1.2.0",
      "_view_name": "LayoutView",
      "align_content": null,
      "align_items": null,
      "align_self": null,
      "border": null,
      "bottom": null,
      "display": null,
      "flex": null,
      "flex_flow": null,
      "grid_area": null,
      "grid_auto_columns": null,
      "grid_auto_flow": null,
      "grid_auto_rows": null,
      "grid_column": null,
      "grid_gap": null,
      "grid_row": null,
      "grid_template_areas": null,
      "grid_template_columns": null,
      "grid_template_rows": null,
      "height": null,
      "justify_content": null,
      "justify_items": null,
      "left": null,
      "margin": null,
      "max_height": null,
      "max_width": null,
      "min_height": null,
      "min_width": null,
      "object_fit": null,
      "object_position": null,
      "order": null,
      "overflow": null,
      "overflow_x": null,
      "overflow_y": null,
      "padding": null,
      "right": null,
      "top": null,
      "visibility": null,
      "width": null
     }
    },
    "28de33da6e3540f68bd867669172da3f": {
     "model_module": "@jupyter-widgets/base",
     "model_module_version": "1.2.0",
     "model_name": "LayoutModel",
     "state": {
      "_model_module": "@jupyter-widgets/base",
      "_model_module_version": "1.2.0",
      "_model_name": "LayoutModel",
      "_view_count": null,
      "_view_module": "@jupyter-widgets/base",
      "_view_module_version": "1.2.0",
      "_view_name": "LayoutView",
      "align_content": null,
      "align_items": null,
      "align_self": null,
      "border": null,
      "bottom": null,
      "display": null,
      "flex": null,
      "flex_flow": null,
      "grid_area": null,
      "grid_auto_columns": null,
      "grid_auto_flow": null,
      "grid_auto_rows": null,
      "grid_column": null,
      "grid_gap": null,
      "grid_row": null,
      "grid_template_areas": null,
      "grid_template_columns": null,
      "grid_template_rows": null,
      "height": null,
      "justify_content": null,
      "justify_items": null,
      "left": null,
      "margin": null,
      "max_height": null,
      "max_width": null,
      "min_height": null,
      "min_width": null,
      "object_fit": null,
      "object_position": null,
      "order": null,
      "overflow": null,
      "overflow_x": null,
      "overflow_y": null,
      "padding": null,
      "right": null,
      "top": null,
      "visibility": null,
      "width": null
     }
    },
    "2976e76c98db4ca3ad25d7de60c32178": {
     "model_module": "@jupyter-widgets/controls",
     "model_module_version": "1.5.0",
     "model_name": "ProgressStyleModel",
     "state": {
      "_model_module": "@jupyter-widgets/controls",
      "_model_module_version": "1.5.0",
      "_model_name": "ProgressStyleModel",
      "_view_count": null,
      "_view_module": "@jupyter-widgets/base",
      "_view_module_version": "1.2.0",
      "_view_name": "StyleView",
      "bar_color": null,
      "description_width": ""
     }
    },
    "2a6ea8f5d51942c993baaa70b71c63f1": {
     "model_module": "@jupyter-widgets/controls",
     "model_module_version": "1.5.0",
     "model_name": "HTMLModel",
     "state": {
      "_dom_classes": [],
      "_model_module": "@jupyter-widgets/controls",
      "_model_module_version": "1.5.0",
      "_model_name": "HTMLModel",
      "_view_count": null,
      "_view_module": "@jupyter-widgets/controls",
      "_view_module_version": "1.5.0",
      "_view_name": "HTMLView",
      "description": "",
      "description_tooltip": null,
      "layout": "IPY_MODEL_5d4c1e3f1dc34056b7c55b21c4177455",
      "placeholder": "​",
      "style": "IPY_MODEL_929f534bc97b4bcb9dd189c9f27cb6f9",
      "value": "Downloading: 100%"
     }
    },
    "2ad9bfab36274bdbb2be34df4e73f4a4": {
     "model_module": "@jupyter-widgets/base",
     "model_module_version": "1.2.0",
     "model_name": "LayoutModel",
     "state": {
      "_model_module": "@jupyter-widgets/base",
      "_model_module_version": "1.2.0",
      "_model_name": "LayoutModel",
      "_view_count": null,
      "_view_module": "@jupyter-widgets/base",
      "_view_module_version": "1.2.0",
      "_view_name": "LayoutView",
      "align_content": null,
      "align_items": null,
      "align_self": null,
      "border": null,
      "bottom": null,
      "display": null,
      "flex": null,
      "flex_flow": null,
      "grid_area": null,
      "grid_auto_columns": null,
      "grid_auto_flow": null,
      "grid_auto_rows": null,
      "grid_column": null,
      "grid_gap": null,
      "grid_row": null,
      "grid_template_areas": null,
      "grid_template_columns": null,
      "grid_template_rows": null,
      "height": null,
      "justify_content": null,
      "justify_items": null,
      "left": null,
      "margin": null,
      "max_height": null,
      "max_width": null,
      "min_height": null,
      "min_width": null,
      "object_fit": null,
      "object_position": null,
      "order": null,
      "overflow": null,
      "overflow_x": null,
      "overflow_y": null,
      "padding": null,
      "right": null,
      "top": null,
      "visibility": null,
      "width": null
     }
    },
    "2b92f1e0cb1341bc89f42117fcd9c21c": {
     "model_module": "@jupyter-widgets/base",
     "model_module_version": "1.2.0",
     "model_name": "LayoutModel",
     "state": {
      "_model_module": "@jupyter-widgets/base",
      "_model_module_version": "1.2.0",
      "_model_name": "LayoutModel",
      "_view_count": null,
      "_view_module": "@jupyter-widgets/base",
      "_view_module_version": "1.2.0",
      "_view_name": "LayoutView",
      "align_content": null,
      "align_items": null,
      "align_self": null,
      "border": null,
      "bottom": null,
      "display": null,
      "flex": null,
      "flex_flow": null,
      "grid_area": null,
      "grid_auto_columns": null,
      "grid_auto_flow": null,
      "grid_auto_rows": null,
      "grid_column": null,
      "grid_gap": null,
      "grid_row": null,
      "grid_template_areas": null,
      "grid_template_columns": null,
      "grid_template_rows": null,
      "height": null,
      "justify_content": null,
      "justify_items": null,
      "left": null,
      "margin": null,
      "max_height": null,
      "max_width": null,
      "min_height": null,
      "min_width": null,
      "object_fit": null,
      "object_position": null,
      "order": null,
      "overflow": null,
      "overflow_x": null,
      "overflow_y": null,
      "padding": null,
      "right": null,
      "top": null,
      "visibility": null,
      "width": null
     }
    },
    "33082cc58a93490bb1fd41b444e064de": {
     "model_module": "@jupyter-widgets/controls",
     "model_module_version": "1.5.0",
     "model_name": "HBoxModel",
     "state": {
      "_dom_classes": [],
      "_model_module": "@jupyter-widgets/controls",
      "_model_module_version": "1.5.0",
      "_model_name": "HBoxModel",
      "_view_count": null,
      "_view_module": "@jupyter-widgets/controls",
      "_view_module_version": "1.5.0",
      "_view_name": "HBoxView",
      "box_style": "",
      "children": [
       "IPY_MODEL_a5d2f283599a468f9cb4af1ba4f55768",
       "IPY_MODEL_4dd98e5a786e4d9599bc11f6a851fdf6",
       "IPY_MODEL_a11594d3965543788ae9e24505327bda"
      ],
      "layout": "IPY_MODEL_4eb3a49703c44696b246bc72549c3d41"
     }
    },
    "352bc958df554a72bfb43004de6f4827": {
     "model_module": "@jupyter-widgets/controls",
     "model_module_version": "1.5.0",
     "model_name": "FloatProgressModel",
     "state": {
      "_dom_classes": [],
      "_model_module": "@jupyter-widgets/controls",
      "_model_module_version": "1.5.0",
      "_model_name": "FloatProgressModel",
      "_view_count": null,
      "_view_module": "@jupyter-widgets/controls",
      "_view_module_version": "1.5.0",
      "_view_name": "ProgressView",
      "bar_style": "success",
      "description": "",
      "description_tooltip": null,
      "layout": "IPY_MODEL_479f64c7441f4c879d7d840a59756d1a",
      "max": 29,
      "min": 0,
      "orientation": "horizontal",
      "style": "IPY_MODEL_f365d24d3b274318bba22aea9e2868b3",
      "value": 29
     }
    },
    "3777c7c655e9448b97a1ed3c26854e8f": {
     "model_module": "@jupyter-widgets/base",
     "model_module_version": "1.2.0",
     "model_name": "LayoutModel",
     "state": {
      "_model_module": "@jupyter-widgets/base",
      "_model_module_version": "1.2.0",
      "_model_name": "LayoutModel",
      "_view_count": null,
      "_view_module": "@jupyter-widgets/base",
      "_view_module_version": "1.2.0",
      "_view_name": "LayoutView",
      "align_content": null,
      "align_items": null,
      "align_self": null,
      "border": null,
      "bottom": null,
      "display": null,
      "flex": null,
      "flex_flow": null,
      "grid_area": null,
      "grid_auto_columns": null,
      "grid_auto_flow": null,
      "grid_auto_rows": null,
      "grid_column": null,
      "grid_gap": null,
      "grid_row": null,
      "grid_template_areas": null,
      "grid_template_columns": null,
      "grid_template_rows": null,
      "height": null,
      "justify_content": null,
      "justify_items": null,
      "left": null,
      "margin": null,
      "max_height": null,
      "max_width": null,
      "min_height": null,
      "min_width": null,
      "object_fit": null,
      "object_position": null,
      "order": null,
      "overflow": null,
      "overflow_x": null,
      "overflow_y": null,
      "padding": null,
      "right": null,
      "top": null,
      "visibility": null,
      "width": null
     }
    },
    "38dc78a89f3b4932a4b5aedce9ce7aa8": {
     "model_module": "@jupyter-widgets/base",
     "model_module_version": "1.2.0",
     "model_name": "LayoutModel",
     "state": {
      "_model_module": "@jupyter-widgets/base",
      "_model_module_version": "1.2.0",
      "_model_name": "LayoutModel",
      "_view_count": null,
      "_view_module": "@jupyter-widgets/base",
      "_view_module_version": "1.2.0",
      "_view_name": "LayoutView",
      "align_content": null,
      "align_items": null,
      "align_self": null,
      "border": null,
      "bottom": null,
      "display": null,
      "flex": null,
      "flex_flow": null,
      "grid_area": null,
      "grid_auto_columns": null,
      "grid_auto_flow": null,
      "grid_auto_rows": null,
      "grid_column": null,
      "grid_gap": null,
      "grid_row": null,
      "grid_template_areas": null,
      "grid_template_columns": null,
      "grid_template_rows": null,
      "height": null,
      "justify_content": null,
      "justify_items": null,
      "left": null,
      "margin": null,
      "max_height": null,
      "max_width": null,
      "min_height": null,
      "min_width": null,
      "object_fit": null,
      "object_position": null,
      "order": null,
      "overflow": null,
      "overflow_x": null,
      "overflow_y": null,
      "padding": null,
      "right": null,
      "top": null,
      "visibility": null,
      "width": null
     }
    },
    "3a6ba1b878a4455589bc19e240250f74": {
     "model_module": "@jupyter-widgets/controls",
     "model_module_version": "1.5.0",
     "model_name": "DescriptionStyleModel",
     "state": {
      "_model_module": "@jupyter-widgets/controls",
      "_model_module_version": "1.5.0",
      "_model_name": "DescriptionStyleModel",
      "_view_count": null,
      "_view_module": "@jupyter-widgets/base",
      "_view_module_version": "1.2.0",
      "_view_name": "StyleView",
      "description_width": ""
     }
    },
    "3b8aa45fa8a04753a043a0e2e76d363b": {
     "model_module": "@jupyter-widgets/base",
     "model_module_version": "1.2.0",
     "model_name": "LayoutModel",
     "state": {
      "_model_module": "@jupyter-widgets/base",
      "_model_module_version": "1.2.0",
      "_model_name": "LayoutModel",
      "_view_count": null,
      "_view_module": "@jupyter-widgets/base",
      "_view_module_version": "1.2.0",
      "_view_name": "LayoutView",
      "align_content": null,
      "align_items": null,
      "align_self": null,
      "border": null,
      "bottom": null,
      "display": null,
      "flex": null,
      "flex_flow": null,
      "grid_area": null,
      "grid_auto_columns": null,
      "grid_auto_flow": null,
      "grid_auto_rows": null,
      "grid_column": null,
      "grid_gap": null,
      "grid_row": null,
      "grid_template_areas": null,
      "grid_template_columns": null,
      "grid_template_rows": null,
      "height": null,
      "justify_content": null,
      "justify_items": null,
      "left": null,
      "margin": null,
      "max_height": null,
      "max_width": null,
      "min_height": null,
      "min_width": null,
      "object_fit": null,
      "object_position": null,
      "order": null,
      "overflow": null,
      "overflow_x": null,
      "overflow_y": null,
      "padding": null,
      "right": null,
      "top": null,
      "visibility": null,
      "width": null
     }
    },
    "3d4ba0e919094d95888428075a15c05a": {
     "model_module": "@jupyter-widgets/base",
     "model_module_version": "1.2.0",
     "model_name": "LayoutModel",
     "state": {
      "_model_module": "@jupyter-widgets/base",
      "_model_module_version": "1.2.0",
      "_model_name": "LayoutModel",
      "_view_count": null,
      "_view_module": "@jupyter-widgets/base",
      "_view_module_version": "1.2.0",
      "_view_name": "LayoutView",
      "align_content": null,
      "align_items": null,
      "align_self": null,
      "border": null,
      "bottom": null,
      "display": null,
      "flex": null,
      "flex_flow": null,
      "grid_area": null,
      "grid_auto_columns": null,
      "grid_auto_flow": null,
      "grid_auto_rows": null,
      "grid_column": null,
      "grid_gap": null,
      "grid_row": null,
      "grid_template_areas": null,
      "grid_template_columns": null,
      "grid_template_rows": null,
      "height": null,
      "justify_content": null,
      "justify_items": null,
      "left": null,
      "margin": null,
      "max_height": null,
      "max_width": null,
      "min_height": null,
      "min_width": null,
      "object_fit": null,
      "object_position": null,
      "order": null,
      "overflow": null,
      "overflow_x": null,
      "overflow_y": null,
      "padding": null,
      "right": null,
      "top": null,
      "visibility": null,
      "width": null
     }
    },
    "3f215666efb04dd0b7cfafef710859a2": {
     "model_module": "@jupyter-widgets/base",
     "model_module_version": "1.2.0",
     "model_name": "LayoutModel",
     "state": {
      "_model_module": "@jupyter-widgets/base",
      "_model_module_version": "1.2.0",
      "_model_name": "LayoutModel",
      "_view_count": null,
      "_view_module": "@jupyter-widgets/base",
      "_view_module_version": "1.2.0",
      "_view_name": "LayoutView",
      "align_content": null,
      "align_items": null,
      "align_self": null,
      "border": null,
      "bottom": null,
      "display": null,
      "flex": null,
      "flex_flow": null,
      "grid_area": null,
      "grid_auto_columns": null,
      "grid_auto_flow": null,
      "grid_auto_rows": null,
      "grid_column": null,
      "grid_gap": null,
      "grid_row": null,
      "grid_template_areas": null,
      "grid_template_columns": null,
      "grid_template_rows": null,
      "height": null,
      "justify_content": null,
      "justify_items": null,
      "left": null,
      "margin": null,
      "max_height": null,
      "max_width": null,
      "min_height": null,
      "min_width": null,
      "object_fit": null,
      "object_position": null,
      "order": null,
      "overflow": null,
      "overflow_x": null,
      "overflow_y": null,
      "padding": null,
      "right": null,
      "top": null,
      "visibility": null,
      "width": null
     }
    },
    "421e99bbd73c4d0497a070eafd80f968": {
     "model_module": "@jupyter-widgets/controls",
     "model_module_version": "1.5.0",
     "model_name": "HTMLModel",
     "state": {
      "_dom_classes": [],
      "_model_module": "@jupyter-widgets/controls",
      "_model_module_version": "1.5.0",
      "_model_name": "HTMLModel",
      "_view_count": null,
      "_view_module": "@jupyter-widgets/controls",
      "_view_module_version": "1.5.0",
      "_view_name": "HTMLView",
      "description": "",
      "description_tooltip": null,
      "layout": "IPY_MODEL_3777c7c655e9448b97a1ed3c26854e8f",
      "placeholder": "​",
      "style": "IPY_MODEL_e1c2ab8d41484839921bbad490c06673",
      "value": " 232k/232k [00:00&lt;00:00, 736kB/s]"
     }
    },
    "42bef8d35aa842ccadd29804c3536ba7": {
     "model_module": "@jupyter-widgets/controls",
     "model_module_version": "1.5.0",
     "model_name": "HTMLModel",
     "state": {
      "_dom_classes": [],
      "_model_module": "@jupyter-widgets/controls",
      "_model_module_version": "1.5.0",
      "_model_name": "HTMLModel",
      "_view_count": null,
      "_view_module": "@jupyter-widgets/controls",
      "_view_module_version": "1.5.0",
      "_view_name": "HTMLView",
      "description": "",
      "description_tooltip": null,
      "layout": "IPY_MODEL_86b142f04d7345d49e87a6dc5312798e",
      "placeholder": "​",
      "style": "IPY_MODEL_942c34793e1c480092d7208fc1e49497",
      "value": " 232k/232k [00:00&lt;00:00, 674kB/s]"
     }
    },
    "433ee6e0eac34111a852ba279ba5c716": {
     "model_module": "@jupyter-widgets/controls",
     "model_module_version": "1.5.0",
     "model_name": "FloatProgressModel",
     "state": {
      "_dom_classes": [],
      "_model_module": "@jupyter-widgets/controls",
      "_model_module_version": "1.5.0",
      "_model_name": "FloatProgressModel",
      "_view_count": null,
      "_view_module": "@jupyter-widgets/controls",
      "_view_module_version": "1.5.0",
      "_view_name": "ProgressView",
      "bar_style": "success",
      "description": "",
      "description_tooltip": null,
      "layout": "IPY_MODEL_e518864b3f4b4b679ec28281713a1311",
      "max": 54466044,
      "min": 0,
      "orientation": "horizontal",
      "style": "IPY_MODEL_c18a89051e4e46b2b758f03c211d254f",
      "value": 54466044
     }
    },
    "444bcd561486406f84b85e220ddd417a": {
     "model_module": "@jupyter-widgets/base",
     "model_module_version": "1.2.0",
     "model_name": "LayoutModel",
     "state": {
      "_model_module": "@jupyter-widgets/base",
      "_model_module_version": "1.2.0",
      "_model_name": "LayoutModel",
      "_view_count": null,
      "_view_module": "@jupyter-widgets/base",
      "_view_module_version": "1.2.0",
      "_view_name": "LayoutView",
      "align_content": null,
      "align_items": null,
      "align_self": null,
      "border": null,
      "bottom": null,
      "display": null,
      "flex": null,
      "flex_flow": null,
      "grid_area": null,
      "grid_auto_columns": null,
      "grid_auto_flow": null,
      "grid_auto_rows": null,
      "grid_column": null,
      "grid_gap": null,
      "grid_row": null,
      "grid_template_areas": null,
      "grid_template_columns": null,
      "grid_template_rows": null,
      "height": null,
      "justify_content": null,
      "justify_items": null,
      "left": null,
      "margin": null,
      "max_height": null,
      "max_width": null,
      "min_height": null,
      "min_width": null,
      "object_fit": null,
      "object_position": null,
      "order": null,
      "overflow": null,
      "overflow_x": null,
      "overflow_y": null,
      "padding": null,
      "right": null,
      "top": null,
      "visibility": null,
      "width": null
     }
    },
    "446ebfdc44824786a54980bec25d3920": {
     "model_module": "@jupyter-widgets/base",
     "model_module_version": "1.2.0",
     "model_name": "LayoutModel",
     "state": {
      "_model_module": "@jupyter-widgets/base",
      "_model_module_version": "1.2.0",
      "_model_name": "LayoutModel",
      "_view_count": null,
      "_view_module": "@jupyter-widgets/base",
      "_view_module_version": "1.2.0",
      "_view_name": "LayoutView",
      "align_content": null,
      "align_items": null,
      "align_self": null,
      "border": null,
      "bottom": null,
      "display": null,
      "flex": null,
      "flex_flow": null,
      "grid_area": null,
      "grid_auto_columns": null,
      "grid_auto_flow": null,
      "grid_auto_rows": null,
      "grid_column": null,
      "grid_gap": null,
      "grid_row": null,
      "grid_template_areas": null,
      "grid_template_columns": null,
      "grid_template_rows": null,
      "height": null,
      "justify_content": null,
      "justify_items": null,
      "left": null,
      "margin": null,
      "max_height": null,
      "max_width": null,
      "min_height": null,
      "min_width": null,
      "object_fit": null,
      "object_position": null,
      "order": null,
      "overflow": null,
      "overflow_x": null,
      "overflow_y": null,
      "padding": null,
      "right": null,
      "top": null,
      "visibility": null,
      "width": null
     }
    },
    "472c0f6b0c4a46ccb3e34f75fdbd66cc": {
     "model_module": "@jupyter-widgets/controls",
     "model_module_version": "1.5.0",
     "model_name": "FloatProgressModel",
     "state": {
      "_dom_classes": [],
      "_model_module": "@jupyter-widgets/controls",
      "_model_module_version": "1.5.0",
      "_model_name": "FloatProgressModel",
      "_view_count": null,
      "_view_module": "@jupyter-widgets/controls",
      "_view_module_version": "1.5.0",
      "_view_name": "ProgressView",
      "bar_style": "success",
      "description": "",
      "description_tooltip": null,
      "layout": "IPY_MODEL_bc4ba82ace384bdeb2da8fb5f581702b",
      "max": 442,
      "min": 0,
      "orientation": "horizontal",
      "style": "IPY_MODEL_6f79b4cb7a024de988e13f72bb982e8a",
      "value": 442
     }
    },
    "4776a7e15cc3482d8027258731959ba5": {
     "model_module": "@jupyter-widgets/base",
     "model_module_version": "1.2.0",
     "model_name": "LayoutModel",
     "state": {
      "_model_module": "@jupyter-widgets/base",
      "_model_module_version": "1.2.0",
      "_model_name": "LayoutModel",
      "_view_count": null,
      "_view_module": "@jupyter-widgets/base",
      "_view_module_version": "1.2.0",
      "_view_name": "LayoutView",
      "align_content": null,
      "align_items": null,
      "align_self": null,
      "border": null,
      "bottom": null,
      "display": null,
      "flex": null,
      "flex_flow": null,
      "grid_area": null,
      "grid_auto_columns": null,
      "grid_auto_flow": null,
      "grid_auto_rows": null,
      "grid_column": null,
      "grid_gap": null,
      "grid_row": null,
      "grid_template_areas": null,
      "grid_template_columns": null,
      "grid_template_rows": null,
      "height": null,
      "justify_content": null,
      "justify_items": null,
      "left": null,
      "margin": null,
      "max_height": null,
      "max_width": null,
      "min_height": null,
      "min_width": null,
      "object_fit": null,
      "object_position": null,
      "order": null,
      "overflow": null,
      "overflow_x": null,
      "overflow_y": null,
      "padding": null,
      "right": null,
      "top": null,
      "visibility": null,
      "width": null
     }
    },
    "479f64c7441f4c879d7d840a59756d1a": {
     "model_module": "@jupyter-widgets/base",
     "model_module_version": "1.2.0",
     "model_name": "LayoutModel",
     "state": {
      "_model_module": "@jupyter-widgets/base",
      "_model_module_version": "1.2.0",
      "_model_name": "LayoutModel",
      "_view_count": null,
      "_view_module": "@jupyter-widgets/base",
      "_view_module_version": "1.2.0",
      "_view_name": "LayoutView",
      "align_content": null,
      "align_items": null,
      "align_self": null,
      "border": null,
      "bottom": null,
      "display": null,
      "flex": null,
      "flex_flow": null,
      "grid_area": null,
      "grid_auto_columns": null,
      "grid_auto_flow": null,
      "grid_auto_rows": null,
      "grid_column": null,
      "grid_gap": null,
      "grid_row": null,
      "grid_template_areas": null,
      "grid_template_columns": null,
      "grid_template_rows": null,
      "height": null,
      "justify_content": null,
      "justify_items": null,
      "left": null,
      "margin": null,
      "max_height": null,
      "max_width": null,
      "min_height": null,
      "min_width": null,
      "object_fit": null,
      "object_position": null,
      "order": null,
      "overflow": null,
      "overflow_x": null,
      "overflow_y": null,
      "padding": null,
      "right": null,
      "top": null,
      "visibility": null,
      "width": null
     }
    },
    "48663d2ed45a4b208b4215c80acb907f": {
     "model_module": "@jupyter-widgets/controls",
     "model_module_version": "1.5.0",
     "model_name": "HTMLModel",
     "state": {
      "_dom_classes": [],
      "_model_module": "@jupyter-widgets/controls",
      "_model_module_version": "1.5.0",
      "_model_name": "HTMLModel",
      "_view_count": null,
      "_view_module": "@jupyter-widgets/controls",
      "_view_module_version": "1.5.0",
      "_view_name": "HTMLView",
      "description": "",
      "description_tooltip": null,
      "layout": "IPY_MODEL_aca8fcfdda3848cca252f20b8eed074f",
      "placeholder": "​",
      "style": "IPY_MODEL_14125c57db91488ab35d87fcdf01f13e",
      "value": " 527M/527M [00:15&lt;00:00, 34.2MB/s]"
     }
    },
    "492f7945da974cf0a9606925004af369": {
     "model_module": "@jupyter-widgets/controls",
     "model_module_version": "1.5.0",
     "model_name": "DescriptionStyleModel",
     "state": {
      "_model_module": "@jupyter-widgets/controls",
      "_model_module_version": "1.5.0",
      "_model_name": "DescriptionStyleModel",
      "_view_count": null,
      "_view_module": "@jupyter-widgets/base",
      "_view_module_version": "1.2.0",
      "_view_name": "StyleView",
      "description_width": ""
     }
    },
    "4a5badb1f440486e92e5f027b78762b7": {
     "model_module": "@jupyter-widgets/controls",
     "model_module_version": "1.5.0",
     "model_name": "DescriptionStyleModel",
     "state": {
      "_model_module": "@jupyter-widgets/controls",
      "_model_module_version": "1.5.0",
      "_model_name": "DescriptionStyleModel",
      "_view_count": null,
      "_view_module": "@jupyter-widgets/base",
      "_view_module_version": "1.2.0",
      "_view_name": "StyleView",
      "description_width": ""
     }
    },
    "4c11e033c94c48858d9387027e7f7ed4": {
     "model_module": "@jupyter-widgets/controls",
     "model_module_version": "1.5.0",
     "model_name": "HBoxModel",
     "state": {
      "_dom_classes": [],
      "_model_module": "@jupyter-widgets/controls",
      "_model_module_version": "1.5.0",
      "_model_name": "HBoxModel",
      "_view_count": null,
      "_view_module": "@jupyter-widgets/controls",
      "_view_module_version": "1.5.0",
      "_view_name": "HBoxView",
      "box_style": "",
      "children": [
       "IPY_MODEL_c344d5a34aea4d79b81792908a5d77de",
       "IPY_MODEL_078f8f75ef0d4edc863a6a912e4f61f4",
       "IPY_MODEL_c5a609f506124d5ab6d215a18d3725cd"
      ],
      "layout": "IPY_MODEL_3d4ba0e919094d95888428075a15c05a"
     }
    },
    "4cd983643cc8445a9260bcbb6cc1dce8": {
     "model_module": "@jupyter-widgets/base",
     "model_module_version": "1.2.0",
     "model_name": "LayoutModel",
     "state": {
      "_model_module": "@jupyter-widgets/base",
      "_model_module_version": "1.2.0",
      "_model_name": "LayoutModel",
      "_view_count": null,
      "_view_module": "@jupyter-widgets/base",
      "_view_module_version": "1.2.0",
      "_view_name": "LayoutView",
      "align_content": null,
      "align_items": null,
      "align_self": null,
      "border": null,
      "bottom": null,
      "display": null,
      "flex": null,
      "flex_flow": null,
      "grid_area": null,
      "grid_auto_columns": null,
      "grid_auto_flow": null,
      "grid_auto_rows": null,
      "grid_column": null,
      "grid_gap": null,
      "grid_row": null,
      "grid_template_areas": null,
      "grid_template_columns": null,
      "grid_template_rows": null,
      "height": null,
      "justify_content": null,
      "justify_items": null,
      "left": null,
      "margin": null,
      "max_height": null,
      "max_width": null,
      "min_height": null,
      "min_width": null,
      "object_fit": null,
      "object_position": null,
      "order": null,
      "overflow": null,
      "overflow_x": null,
      "overflow_y": null,
      "padding": null,
      "right": null,
      "top": null,
      "visibility": null,
      "width": null
     }
    },
    "4dd98e5a786e4d9599bc11f6a851fdf6": {
     "model_module": "@jupyter-widgets/controls",
     "model_module_version": "1.5.0",
     "model_name": "FloatProgressModel",
     "state": {
      "_dom_classes": [],
      "_model_module": "@jupyter-widgets/controls",
      "_model_module_version": "1.5.0",
      "_model_name": "FloatProgressModel",
      "_view_count": null,
      "_view_module": "@jupyter-widgets/controls",
      "_view_module_version": "1.5.0",
      "_view_name": "ProgressView",
      "bar_style": "success",
      "description": "",
      "description_tooltip": null,
      "layout": "IPY_MODEL_3b8aa45fa8a04753a043a0e2e76d363b",
      "max": 435797,
      "min": 0,
      "orientation": "horizontal",
      "style": "IPY_MODEL_f7581b322d3f47a9bf79c13172ed0925",
      "value": 435797
     }
    },
    "4eb3a49703c44696b246bc72549c3d41": {
     "model_module": "@jupyter-widgets/base",
     "model_module_version": "1.2.0",
     "model_name": "LayoutModel",
     "state": {
      "_model_module": "@jupyter-widgets/base",
      "_model_module_version": "1.2.0",
      "_model_name": "LayoutModel",
      "_view_count": null,
      "_view_module": "@jupyter-widgets/base",
      "_view_module_version": "1.2.0",
      "_view_name": "LayoutView",
      "align_content": null,
      "align_items": null,
      "align_self": null,
      "border": null,
      "bottom": null,
      "display": null,
      "flex": null,
      "flex_flow": null,
      "grid_area": null,
      "grid_auto_columns": null,
      "grid_auto_flow": null,
      "grid_auto_rows": null,
      "grid_column": null,
      "grid_gap": null,
      "grid_row": null,
      "grid_template_areas": null,
      "grid_template_columns": null,
      "grid_template_rows": null,
      "height": null,
      "justify_content": null,
      "justify_items": null,
      "left": null,
      "margin": null,
      "max_height": null,
      "max_width": null,
      "min_height": null,
      "min_width": null,
      "object_fit": null,
      "object_position": null,
      "order": null,
      "overflow": null,
      "overflow_x": null,
      "overflow_y": null,
      "padding": null,
      "right": null,
      "top": null,
      "visibility": null,
      "width": null
     }
    },
    "4f2c9c89ab9442bdaf9581878bbda9a3": {
     "model_module": "@jupyter-widgets/base",
     "model_module_version": "1.2.0",
     "model_name": "LayoutModel",
     "state": {
      "_model_module": "@jupyter-widgets/base",
      "_model_module_version": "1.2.0",
      "_model_name": "LayoutModel",
      "_view_count": null,
      "_view_module": "@jupyter-widgets/base",
      "_view_module_version": "1.2.0",
      "_view_name": "LayoutView",
      "align_content": null,
      "align_items": null,
      "align_self": null,
      "border": null,
      "bottom": null,
      "display": null,
      "flex": null,
      "flex_flow": null,
      "grid_area": null,
      "grid_auto_columns": null,
      "grid_auto_flow": null,
      "grid_auto_rows": null,
      "grid_column": null,
      "grid_gap": null,
      "grid_row": null,
      "grid_template_areas": null,
      "grid_template_columns": null,
      "grid_template_rows": null,
      "height": null,
      "justify_content": null,
      "justify_items": null,
      "left": null,
      "margin": null,
      "max_height": null,
      "max_width": null,
      "min_height": null,
      "min_width": null,
      "object_fit": null,
      "object_position": null,
      "order": null,
      "overflow": null,
      "overflow_x": null,
      "overflow_y": null,
      "padding": null,
      "right": null,
      "top": null,
      "visibility": null,
      "width": null
     }
    },
    "4fa398a00e3e42f7bacc9122269d0bc4": {
     "model_module": "@jupyter-widgets/base",
     "model_module_version": "1.2.0",
     "model_name": "LayoutModel",
     "state": {
      "_model_module": "@jupyter-widgets/base",
      "_model_module_version": "1.2.0",
      "_model_name": "LayoutModel",
      "_view_count": null,
      "_view_module": "@jupyter-widgets/base",
      "_view_module_version": "1.2.0",
      "_view_name": "LayoutView",
      "align_content": null,
      "align_items": null,
      "align_self": null,
      "border": null,
      "bottom": null,
      "display": null,
      "flex": null,
      "flex_flow": null,
      "grid_area": null,
      "grid_auto_columns": null,
      "grid_auto_flow": null,
      "grid_auto_rows": null,
      "grid_column": null,
      "grid_gap": null,
      "grid_row": null,
      "grid_template_areas": null,
      "grid_template_columns": null,
      "grid_template_rows": null,
      "height": null,
      "justify_content": null,
      "justify_items": null,
      "left": null,
      "margin": null,
      "max_height": null,
      "max_width": null,
      "min_height": null,
      "min_width": null,
      "object_fit": null,
      "object_position": null,
      "order": null,
      "overflow": null,
      "overflow_x": null,
      "overflow_y": null,
      "padding": null,
      "right": null,
      "top": null,
      "visibility": null,
      "width": null
     }
    },
    "5461ef94e2924cb8a48326e5216455ef": {
     "model_module": "@jupyter-widgets/base",
     "model_module_version": "1.2.0",
     "model_name": "LayoutModel",
     "state": {
      "_model_module": "@jupyter-widgets/base",
      "_model_module_version": "1.2.0",
      "_model_name": "LayoutModel",
      "_view_count": null,
      "_view_module": "@jupyter-widgets/base",
      "_view_module_version": "1.2.0",
      "_view_name": "LayoutView",
      "align_content": null,
      "align_items": null,
      "align_self": null,
      "border": null,
      "bottom": null,
      "display": null,
      "flex": null,
      "flex_flow": null,
      "grid_area": null,
      "grid_auto_columns": null,
      "grid_auto_flow": null,
      "grid_auto_rows": null,
      "grid_column": null,
      "grid_gap": null,
      "grid_row": null,
      "grid_template_areas": null,
      "grid_template_columns": null,
      "grid_template_rows": null,
      "height": null,
      "justify_content": null,
      "justify_items": null,
      "left": null,
      "margin": null,
      "max_height": null,
      "max_width": null,
      "min_height": null,
      "min_width": null,
      "object_fit": null,
      "object_position": null,
      "order": null,
      "overflow": null,
      "overflow_x": null,
      "overflow_y": null,
      "padding": null,
      "right": null,
      "top": null,
      "visibility": null,
      "width": null
     }
    },
    "555ea89429044c4a87ef7d6d792c98bb": {
     "model_module": "@jupyter-widgets/controls",
     "model_module_version": "1.5.0",
     "model_name": "FloatProgressModel",
     "state": {
      "_dom_classes": [],
      "_model_module": "@jupyter-widgets/controls",
      "_model_module_version": "1.5.0",
      "_model_name": "FloatProgressModel",
      "_view_count": null,
      "_view_module": "@jupyter-widgets/controls",
      "_view_module_version": "1.5.0",
      "_view_name": "ProgressView",
      "bar_style": "success",
      "description": "",
      "description_tooltip": null,
      "layout": "IPY_MODEL_e095c92e43794ad5885a5fdad210343e",
      "max": 481,
      "min": 0,
      "orientation": "horizontal",
      "style": "IPY_MODEL_aa335d025b864f7a932083faef09c0dc",
      "value": 481
     }
    },
    "5ae7cd70327e405182382077d3b595b6": {
     "model_module": "@jupyter-widgets/controls",
     "model_module_version": "1.5.0",
     "model_name": "HTMLModel",
     "state": {
      "_dom_classes": [],
      "_model_module": "@jupyter-widgets/controls",
      "_model_module_version": "1.5.0",
      "_model_name": "HTMLModel",
      "_view_count": null,
      "_view_module": "@jupyter-widgets/controls",
      "_view_module_version": "1.5.0",
      "_view_name": "HTMLView",
      "description": "",
      "description_tooltip": null,
      "layout": "IPY_MODEL_3f215666efb04dd0b7cfafef710859a2",
      "placeholder": "​",
      "style": "IPY_MODEL_5afc9fb4d3a047a5a98e8c74574ebe63",
      "value": " 442/442 [00:00&lt;00:00, 11.2kB/s]"
     }
    },
    "5afc9fb4d3a047a5a98e8c74574ebe63": {
     "model_module": "@jupyter-widgets/controls",
     "model_module_version": "1.5.0",
     "model_name": "DescriptionStyleModel",
     "state": {
      "_model_module": "@jupyter-widgets/controls",
      "_model_module_version": "1.5.0",
      "_model_name": "DescriptionStyleModel",
      "_view_count": null,
      "_view_module": "@jupyter-widgets/base",
      "_view_module_version": "1.2.0",
      "_view_name": "StyleView",
      "description_width": ""
     }
    },
    "5bf7b3487755463cabc4b789d406ac27": {
     "model_module": "@jupyter-widgets/controls",
     "model_module_version": "1.5.0",
     "model_name": "DescriptionStyleModel",
     "state": {
      "_model_module": "@jupyter-widgets/controls",
      "_model_module_version": "1.5.0",
      "_model_name": "DescriptionStyleModel",
      "_view_count": null,
      "_view_module": "@jupyter-widgets/base",
      "_view_module_version": "1.2.0",
      "_view_name": "StyleView",
      "description_width": ""
     }
    },
    "5d4c1e3f1dc34056b7c55b21c4177455": {
     "model_module": "@jupyter-widgets/base",
     "model_module_version": "1.2.0",
     "model_name": "LayoutModel",
     "state": {
      "_model_module": "@jupyter-widgets/base",
      "_model_module_version": "1.2.0",
      "_model_name": "LayoutModel",
      "_view_count": null,
      "_view_module": "@jupyter-widgets/base",
      "_view_module_version": "1.2.0",
      "_view_name": "LayoutView",
      "align_content": null,
      "align_items": null,
      "align_self": null,
      "border": null,
      "bottom": null,
      "display": null,
      "flex": null,
      "flex_flow": null,
      "grid_area": null,
      "grid_auto_columns": null,
      "grid_auto_flow": null,
      "grid_auto_rows": null,
      "grid_column": null,
      "grid_gap": null,
      "grid_row": null,
      "grid_template_areas": null,
      "grid_template_columns": null,
      "grid_template_rows": null,
      "height": null,
      "justify_content": null,
      "justify_items": null,
      "left": null,
      "margin": null,
      "max_height": null,
      "max_width": null,
      "min_height": null,
      "min_width": null,
      "object_fit": null,
      "object_position": null,
      "order": null,
      "overflow": null,
      "overflow_x": null,
      "overflow_y": null,
      "padding": null,
      "right": null,
      "top": null,
      "visibility": null,
      "width": null
     }
    },
    "5dbac005337a4dc3ad1c1600f4365ad2": {
     "model_module": "@jupyter-widgets/controls",
     "model_module_version": "1.5.0",
     "model_name": "DescriptionStyleModel",
     "state": {
      "_model_module": "@jupyter-widgets/controls",
      "_model_module_version": "1.5.0",
      "_model_name": "DescriptionStyleModel",
      "_view_count": null,
      "_view_module": "@jupyter-widgets/base",
      "_view_module_version": "1.2.0",
      "_view_name": "StyleView",
      "description_width": ""
     }
    },
    "5eaad42b2bae4eb3b9ba09c08af3f8cf": {
     "model_module": "@jupyter-widgets/controls",
     "model_module_version": "1.5.0",
     "model_name": "HTMLModel",
     "state": {
      "_dom_classes": [],
      "_model_module": "@jupyter-widgets/controls",
      "_model_module_version": "1.5.0",
      "_model_name": "HTMLModel",
      "_view_count": null,
      "_view_module": "@jupyter-widgets/controls",
      "_view_module_version": "1.5.0",
      "_view_name": "HTMLView",
      "description": "",
      "description_tooltip": null,
      "layout": "IPY_MODEL_b0bab1172d2b46deb2c2ff2dc5222611",
      "placeholder": "​",
      "style": "IPY_MODEL_cf2e91d62baf4382823111e457329aad",
      "value": " 899k/899k [00:00&lt;00:00, 2.29MB/s]"
     }
    },
    "5fbab134950b43b28c04add00d11a137": {
     "model_module": "@jupyter-widgets/controls",
     "model_module_version": "1.5.0",
     "model_name": "HBoxModel",
     "state": {
      "_dom_classes": [],
      "_model_module": "@jupyter-widgets/controls",
      "_model_module_version": "1.5.0",
      "_model_name": "HBoxModel",
      "_view_count": null,
      "_view_module": "@jupyter-widgets/controls",
      "_view_module_version": "1.5.0",
      "_view_name": "HBoxView",
      "box_style": "",
      "children": [
       "IPY_MODEL_089939d53f3545379e14b7d85432a101",
       "IPY_MODEL_8ede7d3ccd0d4c8291f54b976b7cbb82",
       "IPY_MODEL_ad5a711be8834a1798dc1971330dd1cf"
      ],
      "layout": "IPY_MODEL_4fa398a00e3e42f7bacc9122269d0bc4"
     }
    },
    "6164e28ba0f24ca1bf22e0af8efac9bb": {
     "model_module": "@jupyter-widgets/controls",
     "model_module_version": "1.5.0",
     "model_name": "ProgressStyleModel",
     "state": {
      "_model_module": "@jupyter-widgets/controls",
      "_model_module_version": "1.5.0",
      "_model_name": "ProgressStyleModel",
      "_view_count": null,
      "_view_module": "@jupyter-widgets/base",
      "_view_module_version": "1.2.0",
      "_view_name": "StyleView",
      "bar_color": null,
      "description_width": ""
     }
    },
    "639f5e3564664e03b4b1cf94814b515f": {
     "model_module": "@jupyter-widgets/controls",
     "model_module_version": "1.5.0",
     "model_name": "HTMLModel",
     "state": {
      "_dom_classes": [],
      "_model_module": "@jupyter-widgets/controls",
      "_model_module_version": "1.5.0",
      "_model_name": "HTMLModel",
      "_view_count": null,
      "_view_module": "@jupyter-widgets/controls",
      "_view_module_version": "1.5.0",
      "_view_name": "HTMLView",
      "description": "",
      "description_tooltip": null,
      "layout": "IPY_MODEL_919b8d2a47d84d35bd4ba11a0f1fe0f0",
      "placeholder": "​",
      "style": "IPY_MODEL_7de9de7f64e04dbd9058f5ba9fd30043",
      "value": " 54.5M/54.5M [00:02&lt;00:00, 35.1MB/s]"
     }
    },
    "63a72a34d55d4e68ba84f34de7747d67": {
     "model_module": "@jupyter-widgets/controls",
     "model_module_version": "1.5.0",
     "model_name": "FloatProgressModel",
     "state": {
      "_dom_classes": [],
      "_model_module": "@jupyter-widgets/controls",
      "_model_module_version": "1.5.0",
      "_model_name": "FloatProgressModel",
      "_view_count": null,
      "_view_module": "@jupyter-widgets/controls",
      "_view_module_version": "1.5.0",
      "_view_name": "ProgressView",
      "bar_style": "success",
      "description": "",
      "description_tooltip": null,
      "layout": "IPY_MODEL_6e5f82d9a23c4f158a7e4a79906b3a2a",
      "max": 213450,
      "min": 0,
      "orientation": "horizontal",
      "style": "IPY_MODEL_8f3bc12b22984a53b15761c394837f81",
      "value": 213450
     }
    },
    "66422d79ee5f44ba81cf91857b12305f": {
     "model_module": "@jupyter-widgets/controls",
     "model_module_version": "1.5.0",
     "model_name": "FloatProgressModel",
     "state": {
      "_dom_classes": [],
      "_model_module": "@jupyter-widgets/controls",
      "_model_module_version": "1.5.0",
      "_model_name": "FloatProgressModel",
      "_view_count": null,
      "_view_module": "@jupyter-widgets/controls",
      "_view_module_version": "1.5.0",
      "_view_name": "ProgressView",
      "bar_style": "success",
      "description": "",
      "description_tooltip": null,
      "layout": "IPY_MODEL_baa9d6312ce747d8ac6bbc2628a17e84",
      "max": 570,
      "min": 0,
      "orientation": "horizontal",
      "style": "IPY_MODEL_734229e56230406dba8888279182fda0",
      "value": 570
     }
    },
    "6656c1976e2e496c900dfcd0437d6d79": {
     "model_module": "@jupyter-widgets/controls",
     "model_module_version": "1.5.0",
     "model_name": "HTMLModel",
     "state": {
      "_dom_classes": [],
      "_model_module": "@jupyter-widgets/controls",
      "_model_module_version": "1.5.0",
      "_model_name": "HTMLModel",
      "_view_count": null,
      "_view_module": "@jupyter-widgets/controls",
      "_view_module_version": "1.5.0",
      "_view_name": "HTMLView",
      "description": "",
      "description_tooltip": null,
      "layout": "IPY_MODEL_b48db49dc9ed4da1bbd9f1607b65fdd3",
      "placeholder": "​",
      "style": "IPY_MODEL_fd2b879139364195be86b7451f9862fd",
      "value": "Downloading: 100%"
     }
    },
    "66a7fa3085a3458d94f1dd7c71baa6a2": {
     "model_module": "@jupyter-widgets/base",
     "model_module_version": "1.2.0",
     "model_name": "LayoutModel",
     "state": {
      "_model_module": "@jupyter-widgets/base",
      "_model_module_version": "1.2.0",
      "_model_name": "LayoutModel",
      "_view_count": null,
      "_view_module": "@jupyter-widgets/base",
      "_view_module_version": "1.2.0",
      "_view_name": "LayoutView",
      "align_content": null,
      "align_items": null,
      "align_self": null,
      "border": null,
      "bottom": null,
      "display": null,
      "flex": null,
      "flex_flow": null,
      "grid_area": null,
      "grid_auto_columns": null,
      "grid_auto_flow": null,
      "grid_auto_rows": null,
      "grid_column": null,
      "grid_gap": null,
      "grid_row": null,
      "grid_template_areas": null,
      "grid_template_columns": null,
      "grid_template_rows": null,
      "height": null,
      "justify_content": null,
      "justify_items": null,
      "left": null,
      "margin": null,
      "max_height": null,
      "max_width": null,
      "min_height": null,
      "min_width": null,
      "object_fit": null,
      "object_position": null,
      "order": null,
      "overflow": null,
      "overflow_x": null,
      "overflow_y": null,
      "padding": null,
      "right": null,
      "top": null,
      "visibility": null,
      "width": null
     }
    },
    "69981049f997451bbee23989897f1b6f": {
     "model_module": "@jupyter-widgets/controls",
     "model_module_version": "1.5.0",
     "model_name": "HBoxModel",
     "state": {
      "_dom_classes": [],
      "_model_module": "@jupyter-widgets/controls",
      "_model_module_version": "1.5.0",
      "_model_name": "HBoxModel",
      "_view_count": null,
      "_view_module": "@jupyter-widgets/controls",
      "_view_module_version": "1.5.0",
      "_view_name": "HBoxView",
      "box_style": "",
      "children": [
       "IPY_MODEL_0c2fd0c43db64bddb841951dd3f91d53",
       "IPY_MODEL_93726e754ba04052904e68d9feaf5969",
       "IPY_MODEL_421e99bbd73c4d0497a070eafd80f968"
      ],
      "layout": "IPY_MODEL_66a7fa3085a3458d94f1dd7c71baa6a2"
     }
    },
    "6a3ba8ce3fc448849a81dea6d33859b6": {
     "model_module": "@jupyter-widgets/base",
     "model_module_version": "1.2.0",
     "model_name": "LayoutModel",
     "state": {
      "_model_module": "@jupyter-widgets/base",
      "_model_module_version": "1.2.0",
      "_model_name": "LayoutModel",
      "_view_count": null,
      "_view_module": "@jupyter-widgets/base",
      "_view_module_version": "1.2.0",
      "_view_name": "LayoutView",
      "align_content": null,
      "align_items": null,
      "align_self": null,
      "border": null,
      "bottom": null,
      "display": null,
      "flex": null,
      "flex_flow": null,
      "grid_area": null,
      "grid_auto_columns": null,
      "grid_auto_flow": null,
      "grid_auto_rows": null,
      "grid_column": null,
      "grid_gap": null,
      "grid_row": null,
      "grid_template_areas": null,
      "grid_template_columns": null,
      "grid_template_rows": null,
      "height": null,
      "justify_content": null,
      "justify_items": null,
      "left": null,
      "margin": null,
      "max_height": null,
      "max_width": null,
      "min_height": null,
      "min_width": null,
      "object_fit": null,
      "object_position": null,
      "order": null,
      "overflow": null,
      "overflow_x": null,
      "overflow_y": null,
      "padding": null,
      "right": null,
      "top": null,
      "visibility": null,
      "width": null
     }
    },
    "6c3bcb44ce4e47638379c3fd8926cd65": {
     "model_module": "@jupyter-widgets/base",
     "model_module_version": "1.2.0",
     "model_name": "LayoutModel",
     "state": {
      "_model_module": "@jupyter-widgets/base",
      "_model_module_version": "1.2.0",
      "_model_name": "LayoutModel",
      "_view_count": null,
      "_view_module": "@jupyter-widgets/base",
      "_view_module_version": "1.2.0",
      "_view_name": "LayoutView",
      "align_content": null,
      "align_items": null,
      "align_self": null,
      "border": null,
      "bottom": null,
      "display": null,
      "flex": null,
      "flex_flow": null,
      "grid_area": null,
      "grid_auto_columns": null,
      "grid_auto_flow": null,
      "grid_auto_rows": null,
      "grid_column": null,
      "grid_gap": null,
      "grid_row": null,
      "grid_template_areas": null,
      "grid_template_columns": null,
      "grid_template_rows": null,
      "height": null,
      "justify_content": null,
      "justify_items": null,
      "left": null,
      "margin": null,
      "max_height": null,
      "max_width": null,
      "min_height": null,
      "min_width": null,
      "object_fit": null,
      "object_position": null,
      "order": null,
      "overflow": null,
      "overflow_x": null,
      "overflow_y": null,
      "padding": null,
      "right": null,
      "top": null,
      "visibility": null,
      "width": null
     }
    },
    "6e5f82d9a23c4f158a7e4a79906b3a2a": {
     "model_module": "@jupyter-widgets/base",
     "model_module_version": "1.2.0",
     "model_name": "LayoutModel",
     "state": {
      "_model_module": "@jupyter-widgets/base",
      "_model_module_version": "1.2.0",
      "_model_name": "LayoutModel",
      "_view_count": null,
      "_view_module": "@jupyter-widgets/base",
      "_view_module_version": "1.2.0",
      "_view_name": "LayoutView",
      "align_content": null,
      "align_items": null,
      "align_self": null,
      "border": null,
      "bottom": null,
      "display": null,
      "flex": null,
      "flex_flow": null,
      "grid_area": null,
      "grid_auto_columns": null,
      "grid_auto_flow": null,
      "grid_auto_rows": null,
      "grid_column": null,
      "grid_gap": null,
      "grid_row": null,
      "grid_template_areas": null,
      "grid_template_columns": null,
      "grid_template_rows": null,
      "height": null,
      "justify_content": null,
      "justify_items": null,
      "left": null,
      "margin": null,
      "max_height": null,
      "max_width": null,
      "min_height": null,
      "min_width": null,
      "object_fit": null,
      "object_position": null,
      "order": null,
      "overflow": null,
      "overflow_x": null,
      "overflow_y": null,
      "padding": null,
      "right": null,
      "top": null,
      "visibility": null,
      "width": null
     }
    },
    "6f79b4cb7a024de988e13f72bb982e8a": {
     "model_module": "@jupyter-widgets/controls",
     "model_module_version": "1.5.0",
     "model_name": "ProgressStyleModel",
     "state": {
      "_model_module": "@jupyter-widgets/controls",
      "_model_module_version": "1.5.0",
      "_model_name": "ProgressStyleModel",
      "_view_count": null,
      "_view_module": "@jupyter-widgets/base",
      "_view_module_version": "1.2.0",
      "_view_name": "StyleView",
      "bar_color": null,
      "description_width": ""
     }
    },
    "712d27777f7f46378193368396eafc29": {
     "model_module": "@jupyter-widgets/base",
     "model_module_version": "1.2.0",
     "model_name": "LayoutModel",
     "state": {
      "_model_module": "@jupyter-widgets/base",
      "_model_module_version": "1.2.0",
      "_model_name": "LayoutModel",
      "_view_count": null,
      "_view_module": "@jupyter-widgets/base",
      "_view_module_version": "1.2.0",
      "_view_name": "LayoutView",
      "align_content": null,
      "align_items": null,
      "align_self": null,
      "border": null,
      "bottom": null,
      "display": null,
      "flex": null,
      "flex_flow": null,
      "grid_area": null,
      "grid_auto_columns": null,
      "grid_auto_flow": null,
      "grid_auto_rows": null,
      "grid_column": null,
      "grid_gap": null,
      "grid_row": null,
      "grid_template_areas": null,
      "grid_template_columns": null,
      "grid_template_rows": null,
      "height": null,
      "justify_content": null,
      "justify_items": null,
      "left": null,
      "margin": null,
      "max_height": null,
      "max_width": null,
      "min_height": null,
      "min_width": null,
      "object_fit": null,
      "object_position": null,
      "order": null,
      "overflow": null,
      "overflow_x": null,
      "overflow_y": null,
      "padding": null,
      "right": null,
      "top": null,
      "visibility": null,
      "width": null
     }
    },
    "71fc5cf77add46d9981ffe63d3d993c2": {
     "model_module": "@jupyter-widgets/controls",
     "model_module_version": "1.5.0",
     "model_name": "ProgressStyleModel",
     "state": {
      "_model_module": "@jupyter-widgets/controls",
      "_model_module_version": "1.5.0",
      "_model_name": "ProgressStyleModel",
      "_view_count": null,
      "_view_module": "@jupyter-widgets/base",
      "_view_module_version": "1.2.0",
      "_view_name": "StyleView",
      "bar_color": null,
      "description_width": ""
     }
    },
    "734229e56230406dba8888279182fda0": {
     "model_module": "@jupyter-widgets/controls",
     "model_module_version": "1.5.0",
     "model_name": "ProgressStyleModel",
     "state": {
      "_model_module": "@jupyter-widgets/controls",
      "_model_module_version": "1.5.0",
      "_model_name": "ProgressStyleModel",
      "_view_count": null,
      "_view_module": "@jupyter-widgets/base",
      "_view_module_version": "1.2.0",
      "_view_name": "StyleView",
      "bar_color": null,
      "description_width": ""
     }
    },
    "73f91f85ca3e4cb1819827b283980ab4": {
     "model_module": "@jupyter-widgets/controls",
     "model_module_version": "1.5.0",
     "model_name": "HTMLModel",
     "state": {
      "_dom_classes": [],
      "_model_module": "@jupyter-widgets/controls",
      "_model_module_version": "1.5.0",
      "_model_name": "HTMLModel",
      "_view_count": null,
      "_view_module": "@jupyter-widgets/controls",
      "_view_module_version": "1.5.0",
      "_view_name": "HTMLView",
      "description": "",
      "description_tooltip": null,
      "layout": "IPY_MODEL_0fd1ed170acd41f1b9084fbf2d7c5a8f",
      "placeholder": "​",
      "style": "IPY_MODEL_ea93d7fd0a6d482e988f4aef157a7243",
      "value": "Downloading: 100%"
     }
    },
    "77c824a6926e4af587a71595e85aa798": {
     "model_module": "@jupyter-widgets/controls",
     "model_module_version": "1.5.0",
     "model_name": "ProgressStyleModel",
     "state": {
      "_model_module": "@jupyter-widgets/controls",
      "_model_module_version": "1.5.0",
      "_model_name": "ProgressStyleModel",
      "_view_count": null,
      "_view_module": "@jupyter-widgets/base",
      "_view_module_version": "1.2.0",
      "_view_name": "StyleView",
      "bar_color": null,
      "description_width": ""
     }
    },
    "7de9de7f64e04dbd9058f5ba9fd30043": {
     "model_module": "@jupyter-widgets/controls",
     "model_module_version": "1.5.0",
     "model_name": "DescriptionStyleModel",
     "state": {
      "_model_module": "@jupyter-widgets/controls",
      "_model_module_version": "1.5.0",
      "_model_name": "DescriptionStyleModel",
      "_view_count": null,
      "_view_module": "@jupyter-widgets/base",
      "_view_module_version": "1.2.0",
      "_view_name": "StyleView",
      "description_width": ""
     }
    },
    "7fbbd6b8d7984a818ca044d9f672d722": {
     "model_module": "@jupyter-widgets/base",
     "model_module_version": "1.2.0",
     "model_name": "LayoutModel",
     "state": {
      "_model_module": "@jupyter-widgets/base",
      "_model_module_version": "1.2.0",
      "_model_name": "LayoutModel",
      "_view_count": null,
      "_view_module": "@jupyter-widgets/base",
      "_view_module_version": "1.2.0",
      "_view_name": "LayoutView",
      "align_content": null,
      "align_items": null,
      "align_self": null,
      "border": null,
      "bottom": null,
      "display": null,
      "flex": null,
      "flex_flow": null,
      "grid_area": null,
      "grid_auto_columns": null,
      "grid_auto_flow": null,
      "grid_auto_rows": null,
      "grid_column": null,
      "grid_gap": null,
      "grid_row": null,
      "grid_template_areas": null,
      "grid_template_columns": null,
      "grid_template_rows": null,
      "height": null,
      "justify_content": null,
      "justify_items": null,
      "left": null,
      "margin": null,
      "max_height": null,
      "max_width": null,
      "min_height": null,
      "min_width": null,
      "object_fit": null,
      "object_position": null,
      "order": null,
      "overflow": null,
      "overflow_x": null,
      "overflow_y": null,
      "padding": null,
      "right": null,
      "top": null,
      "visibility": null,
      "width": null
     }
    },
    "817d1eb354bd4621a8e589f874b3389a": {
     "model_module": "@jupyter-widgets/controls",
     "model_module_version": "1.5.0",
     "model_name": "HBoxModel",
     "state": {
      "_dom_classes": [],
      "_model_module": "@jupyter-widgets/controls",
      "_model_module_version": "1.5.0",
      "_model_name": "HBoxModel",
      "_view_count": null,
      "_view_module": "@jupyter-widgets/controls",
      "_view_module_version": "1.5.0",
      "_view_name": "HBoxView",
      "box_style": "",
      "children": [
       "IPY_MODEL_a2248335926241678be9c2ef856302e0",
       "IPY_MODEL_555ea89429044c4a87ef7d6d792c98bb",
       "IPY_MODEL_8303ae76db26468c9687f251ef18f0ba"
      ],
      "layout": "IPY_MODEL_a1971a34f0714b4ea755f57b52bb2486"
     }
    },
    "8303ae76db26468c9687f251ef18f0ba": {
     "model_module": "@jupyter-widgets/controls",
     "model_module_version": "1.5.0",
     "model_name": "HTMLModel",
     "state": {
      "_dom_classes": [],
      "_model_module": "@jupyter-widgets/controls",
      "_model_module_version": "1.5.0",
      "_model_name": "HTMLModel",
      "_view_count": null,
      "_view_module": "@jupyter-widgets/controls",
      "_view_module_version": "1.5.0",
      "_view_name": "HTMLView",
      "description": "",
      "description_tooltip": null,
      "layout": "IPY_MODEL_c8428787d7994b638b52c41fe3a483bf",
      "placeholder": "​",
      "style": "IPY_MODEL_225111f7cfe34a72b7015c9393b4b939",
      "value": " 481/481 [00:00&lt;00:00, 9.68kB/s]"
     }
    },
    "84b1e9420621456eb2186b822d5f544d": {
     "model_module": "@jupyter-widgets/controls",
     "model_module_version": "1.5.0",
     "model_name": "FloatProgressModel",
     "state": {
      "_dom_classes": [],
      "_model_module": "@jupyter-widgets/controls",
      "_model_module_version": "1.5.0",
      "_model_name": "FloatProgressModel",
      "_view_count": null,
      "_view_module": "@jupyter-widgets/controls",
      "_view_module_version": "1.5.0",
      "_view_name": "ProgressView",
      "bar_style": "success",
      "description": "",
      "description_tooltip": null,
      "layout": "IPY_MODEL_5461ef94e2924cb8a48326e5216455ef",
      "max": 898823,
      "min": 0,
      "orientation": "horizontal",
      "style": "IPY_MODEL_6164e28ba0f24ca1bf22e0af8efac9bb",
      "value": 898823
     }
    },
    "8660b0db375348e7b535961ce7a5fac8": {
     "model_module": "@jupyter-widgets/controls",
     "model_module_version": "1.5.0",
     "model_name": "DescriptionStyleModel",
     "state": {
      "_model_module": "@jupyter-widgets/controls",
      "_model_module_version": "1.5.0",
      "_model_name": "DescriptionStyleModel",
      "_view_count": null,
      "_view_module": "@jupyter-widgets/base",
      "_view_module_version": "1.2.0",
      "_view_name": "StyleView",
      "description_width": ""
     }
    },
    "86b142f04d7345d49e87a6dc5312798e": {
     "model_module": "@jupyter-widgets/base",
     "model_module_version": "1.2.0",
     "model_name": "LayoutModel",
     "state": {
      "_model_module": "@jupyter-widgets/base",
      "_model_module_version": "1.2.0",
      "_model_name": "LayoutModel",
      "_view_count": null,
      "_view_module": "@jupyter-widgets/base",
      "_view_module_version": "1.2.0",
      "_view_name": "LayoutView",
      "align_content": null,
      "align_items": null,
      "align_self": null,
      "border": null,
      "bottom": null,
      "display": null,
      "flex": null,
      "flex_flow": null,
      "grid_area": null,
      "grid_auto_columns": null,
      "grid_auto_flow": null,
      "grid_auto_rows": null,
      "grid_column": null,
      "grid_gap": null,
      "grid_row": null,
      "grid_template_areas": null,
      "grid_template_columns": null,
      "grid_template_rows": null,
      "height": null,
      "justify_content": null,
      "justify_items": null,
      "left": null,
      "margin": null,
      "max_height": null,
      "max_width": null,
      "min_height": null,
      "min_width": null,
      "object_fit": null,
      "object_position": null,
      "order": null,
      "overflow": null,
      "overflow_x": null,
      "overflow_y": null,
      "padding": null,
      "right": null,
      "top": null,
      "visibility": null,
      "width": null
     }
    },
    "86fc2c443073406b877322a00b47e3c9": {
     "model_module": "@jupyter-widgets/base",
     "model_module_version": "1.2.0",
     "model_name": "LayoutModel",
     "state": {
      "_model_module": "@jupyter-widgets/base",
      "_model_module_version": "1.2.0",
      "_model_name": "LayoutModel",
      "_view_count": null,
      "_view_module": "@jupyter-widgets/base",
      "_view_module_version": "1.2.0",
      "_view_name": "LayoutView",
      "align_content": null,
      "align_items": null,
      "align_self": null,
      "border": null,
      "bottom": null,
      "display": null,
      "flex": null,
      "flex_flow": null,
      "grid_area": null,
      "grid_auto_columns": null,
      "grid_auto_flow": null,
      "grid_auto_rows": null,
      "grid_column": null,
      "grid_gap": null,
      "grid_row": null,
      "grid_template_areas": null,
      "grid_template_columns": null,
      "grid_template_rows": null,
      "height": null,
      "justify_content": null,
      "justify_items": null,
      "left": null,
      "margin": null,
      "max_height": null,
      "max_width": null,
      "min_height": null,
      "min_width": null,
      "object_fit": null,
      "object_position": null,
      "order": null,
      "overflow": null,
      "overflow_x": null,
      "overflow_y": null,
      "padding": null,
      "right": null,
      "top": null,
      "visibility": null,
      "width": null
     }
    },
    "870834f3b49a4e1988d22d55be33768f": {
     "model_module": "@jupyter-widgets/controls",
     "model_module_version": "1.5.0",
     "model_name": "DescriptionStyleModel",
     "state": {
      "_model_module": "@jupyter-widgets/controls",
      "_model_module_version": "1.5.0",
      "_model_name": "DescriptionStyleModel",
      "_view_count": null,
      "_view_module": "@jupyter-widgets/base",
      "_view_module_version": "1.2.0",
      "_view_name": "StyleView",
      "description_width": ""
     }
    },
    "8c0600bcd8f54af4a664b6f18c7cb497": {
     "model_module": "@jupyter-widgets/controls",
     "model_module_version": "1.5.0",
     "model_name": "HTMLModel",
     "state": {
      "_dom_classes": [],
      "_model_module": "@jupyter-widgets/controls",
      "_model_module_version": "1.5.0",
      "_model_name": "HTMLModel",
      "_view_count": null,
      "_view_module": "@jupyter-widgets/controls",
      "_view_module_version": "1.5.0",
      "_view_name": "HTMLView",
      "description": "",
      "description_tooltip": null,
      "layout": "IPY_MODEL_b5a0b7fc84304d0d841b18ac1d7d6c3e",
      "placeholder": "​",
      "style": "IPY_MODEL_870834f3b49a4e1988d22d55be33768f",
      "value": " 363M/363M [00:10&lt;00:00, 35.1MB/s]"
     }
    },
    "8c76a4ec044b4f0fb36cd72a190bb0e3": {
     "model_module": "@jupyter-widgets/controls",
     "model_module_version": "1.5.0",
     "model_name": "HTMLModel",
     "state": {
      "_dom_classes": [],
      "_model_module": "@jupyter-widgets/controls",
      "_model_module_version": "1.5.0",
      "_model_name": "HTMLModel",
      "_view_count": null,
      "_view_module": "@jupyter-widgets/controls",
      "_view_module_version": "1.5.0",
      "_view_name": "HTMLView",
      "description": "",
      "description_tooltip": null,
      "layout": "IPY_MODEL_002e5d13d7de48efa0a2dcf424b957ec",
      "placeholder": "​",
      "style": "IPY_MODEL_5bf7b3487755463cabc4b789d406ac27",
      "value": " 456k/456k [00:00&lt;00:00, 668kB/s]"
     }
    },
    "8e7b72a451c84966b99be0a1275ccf4f": {
     "model_module": "@jupyter-widgets/base",
     "model_module_version": "1.2.0",
     "model_name": "LayoutModel",
     "state": {
      "_model_module": "@jupyter-widgets/base",
      "_model_module_version": "1.2.0",
      "_model_name": "LayoutModel",
      "_view_count": null,
      "_view_module": "@jupyter-widgets/base",
      "_view_module_version": "1.2.0",
      "_view_name": "LayoutView",
      "align_content": null,
      "align_items": null,
      "align_self": null,
      "border": null,
      "bottom": null,
      "display": null,
      "flex": null,
      "flex_flow": null,
      "grid_area": null,
      "grid_auto_columns": null,
      "grid_auto_flow": null,
      "grid_auto_rows": null,
      "grid_column": null,
      "grid_gap": null,
      "grid_row": null,
      "grid_template_areas": null,
      "grid_template_columns": null,
      "grid_template_rows": null,
      "height": null,
      "justify_content": null,
      "justify_items": null,
      "left": null,
      "margin": null,
      "max_height": null,
      "max_width": null,
      "min_height": null,
      "min_width": null,
      "object_fit": null,
      "object_position": null,
      "order": null,
      "overflow": null,
      "overflow_x": null,
      "overflow_y": null,
      "padding": null,
      "right": null,
      "top": null,
      "visibility": null,
      "width": null
     }
    },
    "8ede7d3ccd0d4c8291f54b976b7cbb82": {
     "model_module": "@jupyter-widgets/controls",
     "model_module_version": "1.5.0",
     "model_name": "FloatProgressModel",
     "state": {
      "_dom_classes": [],
      "_model_module": "@jupyter-widgets/controls",
      "_model_module_version": "1.5.0",
      "_model_name": "FloatProgressModel",
      "_view_count": null,
      "_view_module": "@jupyter-widgets/controls",
      "_view_module_version": "1.5.0",
      "_view_name": "ProgressView",
      "bar_style": "success",
      "description": "",
      "description_tooltip": null,
      "layout": "IPY_MODEL_a8d9cda4e25e4368b0c2e05a2f58e51b",
      "max": 466062,
      "min": 0,
      "orientation": "horizontal",
      "style": "IPY_MODEL_dde4c352aa8f4f4e92c64943e9382e00",
      "value": 466062
     }
    },
    "8ee620465ea248d79adbc817c923b0e7": {
     "model_module": "@jupyter-widgets/base",
     "model_module_version": "1.2.0",
     "model_name": "LayoutModel",
     "state": {
      "_model_module": "@jupyter-widgets/base",
      "_model_module_version": "1.2.0",
      "_model_name": "LayoutModel",
      "_view_count": null,
      "_view_module": "@jupyter-widgets/base",
      "_view_module_version": "1.2.0",
      "_view_name": "LayoutView",
      "align_content": null,
      "align_items": null,
      "align_self": null,
      "border": null,
      "bottom": null,
      "display": null,
      "flex": null,
      "flex_flow": null,
      "grid_area": null,
      "grid_auto_columns": null,
      "grid_auto_flow": null,
      "grid_auto_rows": null,
      "grid_column": null,
      "grid_gap": null,
      "grid_row": null,
      "grid_template_areas": null,
      "grid_template_columns": null,
      "grid_template_rows": null,
      "height": null,
      "justify_content": null,
      "justify_items": null,
      "left": null,
      "margin": null,
      "max_height": null,
      "max_width": null,
      "min_height": null,
      "min_width": null,
      "object_fit": null,
      "object_position": null,
      "order": null,
      "overflow": null,
      "overflow_x": null,
      "overflow_y": null,
      "padding": null,
      "right": null,
      "top": null,
      "visibility": null,
      "width": null
     }
    },
    "8f3bc12b22984a53b15761c394837f81": {
     "model_module": "@jupyter-widgets/controls",
     "model_module_version": "1.5.0",
     "model_name": "ProgressStyleModel",
     "state": {
      "_model_module": "@jupyter-widgets/controls",
      "_model_module_version": "1.5.0",
      "_model_name": "ProgressStyleModel",
      "_view_count": null,
      "_view_module": "@jupyter-widgets/base",
      "_view_module_version": "1.2.0",
      "_view_name": "StyleView",
      "bar_color": null,
      "description_width": ""
     }
    },
    "8f88ae3b18424b7abc2a5bd1fe1c7fcf": {
     "model_module": "@jupyter-widgets/base",
     "model_module_version": "1.2.0",
     "model_name": "LayoutModel",
     "state": {
      "_model_module": "@jupyter-widgets/base",
      "_model_module_version": "1.2.0",
      "_model_name": "LayoutModel",
      "_view_count": null,
      "_view_module": "@jupyter-widgets/base",
      "_view_module_version": "1.2.0",
      "_view_name": "LayoutView",
      "align_content": null,
      "align_items": null,
      "align_self": null,
      "border": null,
      "bottom": null,
      "display": null,
      "flex": null,
      "flex_flow": null,
      "grid_area": null,
      "grid_auto_columns": null,
      "grid_auto_flow": null,
      "grid_auto_rows": null,
      "grid_column": null,
      "grid_gap": null,
      "grid_row": null,
      "grid_template_areas": null,
      "grid_template_columns": null,
      "grid_template_rows": null,
      "height": null,
      "justify_content": null,
      "justify_items": null,
      "left": null,
      "margin": null,
      "max_height": null,
      "max_width": null,
      "min_height": null,
      "min_width": null,
      "object_fit": null,
      "object_position": null,
      "order": null,
      "overflow": null,
      "overflow_x": null,
      "overflow_y": null,
      "padding": null,
      "right": null,
      "top": null,
      "visibility": null,
      "width": null
     }
    },
    "909ca6d093244297ae4226cc660b3651": {
     "model_module": "@jupyter-widgets/controls",
     "model_module_version": "1.5.0",
     "model_name": "ProgressStyleModel",
     "state": {
      "_model_module": "@jupyter-widgets/controls",
      "_model_module_version": "1.5.0",
      "_model_name": "ProgressStyleModel",
      "_view_count": null,
      "_view_module": "@jupyter-widgets/base",
      "_view_module_version": "1.2.0",
      "_view_name": "StyleView",
      "bar_color": null,
      "description_width": ""
     }
    },
    "90e6d72da4f344519a470799201e50c7": {
     "model_module": "@jupyter-widgets/controls",
     "model_module_version": "1.5.0",
     "model_name": "HTMLModel",
     "state": {
      "_dom_classes": [],
      "_model_module": "@jupyter-widgets/controls",
      "_model_module_version": "1.5.0",
      "_model_name": "HTMLModel",
      "_view_count": null,
      "_view_module": "@jupyter-widgets/controls",
      "_view_module_version": "1.5.0",
      "_view_name": "HTMLView",
      "description": "",
      "description_tooltip": null,
      "layout": "IPY_MODEL_91939593e38c452fb897d29662b11f28",
      "placeholder": "​",
      "style": "IPY_MODEL_9f236c9d71f04a3eb6d345d66297fb52",
      "value": "Downloading: 100%"
     }
    },
    "9158968ec951419b98dae7195d7c9a31": {
     "model_module": "@jupyter-widgets/controls",
     "model_module_version": "1.5.0",
     "model_name": "HTMLModel",
     "state": {
      "_dom_classes": [],
      "_model_module": "@jupyter-widgets/controls",
      "_model_module_version": "1.5.0",
      "_model_name": "HTMLModel",
      "_view_count": null,
      "_view_module": "@jupyter-widgets/controls",
      "_view_module_version": "1.5.0",
      "_view_name": "HTMLView",
      "description": "",
      "description_tooltip": null,
      "layout": "IPY_MODEL_b3a74014586e456b85b2ec5dfadeb2c0",
      "placeholder": "​",
      "style": "IPY_MODEL_f9acf05dcacc4e8087332621ee6a0c6f",
      "value": " 570/570 [00:00&lt;00:00, 14.6kB/s]"
     }
    },
    "91939593e38c452fb897d29662b11f28": {
     "model_module": "@jupyter-widgets/base",
     "model_module_version": "1.2.0",
     "model_name": "LayoutModel",
     "state": {
      "_model_module": "@jupyter-widgets/base",
      "_model_module_version": "1.2.0",
      "_model_name": "LayoutModel",
      "_view_count": null,
      "_view_module": "@jupyter-widgets/base",
      "_view_module_version": "1.2.0",
      "_view_name": "LayoutView",
      "align_content": null,
      "align_items": null,
      "align_self": null,
      "border": null,
      "bottom": null,
      "display": null,
      "flex": null,
      "flex_flow": null,
      "grid_area": null,
      "grid_auto_columns": null,
      "grid_auto_flow": null,
      "grid_auto_rows": null,
      "grid_column": null,
      "grid_gap": null,
      "grid_row": null,
      "grid_template_areas": null,
      "grid_template_columns": null,
      "grid_template_rows": null,
      "height": null,
      "justify_content": null,
      "justify_items": null,
      "left": null,
      "margin": null,
      "max_height": null,
      "max_width": null,
      "min_height": null,
      "min_width": null,
      "object_fit": null,
      "object_position": null,
      "order": null,
      "overflow": null,
      "overflow_x": null,
      "overflow_y": null,
      "padding": null,
      "right": null,
      "top": null,
      "visibility": null,
      "width": null
     }
    },
    "919b8d2a47d84d35bd4ba11a0f1fe0f0": {
     "model_module": "@jupyter-widgets/base",
     "model_module_version": "1.2.0",
     "model_name": "LayoutModel",
     "state": {
      "_model_module": "@jupyter-widgets/base",
      "_model_module_version": "1.2.0",
      "_model_name": "LayoutModel",
      "_view_count": null,
      "_view_module": "@jupyter-widgets/base",
      "_view_module_version": "1.2.0",
      "_view_name": "LayoutView",
      "align_content": null,
      "align_items": null,
      "align_self": null,
      "border": null,
      "bottom": null,
      "display": null,
      "flex": null,
      "flex_flow": null,
      "grid_area": null,
      "grid_auto_columns": null,
      "grid_auto_flow": null,
      "grid_auto_rows": null,
      "grid_column": null,
      "grid_gap": null,
      "grid_row": null,
      "grid_template_areas": null,
      "grid_template_columns": null,
      "grid_template_rows": null,
      "height": null,
      "justify_content": null,
      "justify_items": null,
      "left": null,
      "margin": null,
      "max_height": null,
      "max_width": null,
      "min_height": null,
      "min_width": null,
      "object_fit": null,
      "object_position": null,
      "order": null,
      "overflow": null,
      "overflow_x": null,
      "overflow_y": null,
      "padding": null,
      "right": null,
      "top": null,
      "visibility": null,
      "width": null
     }
    },
    "9209b64ad0e64ae5931c78d297d9886a": {
     "model_module": "@jupyter-widgets/base",
     "model_module_version": "1.2.0",
     "model_name": "LayoutModel",
     "state": {
      "_model_module": "@jupyter-widgets/base",
      "_model_module_version": "1.2.0",
      "_model_name": "LayoutModel",
      "_view_count": null,
      "_view_module": "@jupyter-widgets/base",
      "_view_module_version": "1.2.0",
      "_view_name": "LayoutView",
      "align_content": null,
      "align_items": null,
      "align_self": null,
      "border": null,
      "bottom": null,
      "display": null,
      "flex": null,
      "flex_flow": null,
      "grid_area": null,
      "grid_auto_columns": null,
      "grid_auto_flow": null,
      "grid_auto_rows": null,
      "grid_column": null,
      "grid_gap": null,
      "grid_row": null,
      "grid_template_areas": null,
      "grid_template_columns": null,
      "grid_template_rows": null,
      "height": null,
      "justify_content": null,
      "justify_items": null,
      "left": null,
      "margin": null,
      "max_height": null,
      "max_width": null,
      "min_height": null,
      "min_width": null,
      "object_fit": null,
      "object_position": null,
      "order": null,
      "overflow": null,
      "overflow_x": null,
      "overflow_y": null,
      "padding": null,
      "right": null,
      "top": null,
      "visibility": null,
      "width": null
     }
    },
    "929f534bc97b4bcb9dd189c9f27cb6f9": {
     "model_module": "@jupyter-widgets/controls",
     "model_module_version": "1.5.0",
     "model_name": "DescriptionStyleModel",
     "state": {
      "_model_module": "@jupyter-widgets/controls",
      "_model_module_version": "1.5.0",
      "_model_name": "DescriptionStyleModel",
      "_view_count": null,
      "_view_module": "@jupyter-widgets/base",
      "_view_module_version": "1.2.0",
      "_view_name": "StyleView",
      "description_width": ""
     }
    },
    "92ca8608535146148a09fa2607d8eec6": {
     "model_module": "@jupyter-widgets/base",
     "model_module_version": "1.2.0",
     "model_name": "LayoutModel",
     "state": {
      "_model_module": "@jupyter-widgets/base",
      "_model_module_version": "1.2.0",
      "_model_name": "LayoutModel",
      "_view_count": null,
      "_view_module": "@jupyter-widgets/base",
      "_view_module_version": "1.2.0",
      "_view_name": "LayoutView",
      "align_content": null,
      "align_items": null,
      "align_self": null,
      "border": null,
      "bottom": null,
      "display": null,
      "flex": null,
      "flex_flow": null,
      "grid_area": null,
      "grid_auto_columns": null,
      "grid_auto_flow": null,
      "grid_auto_rows": null,
      "grid_column": null,
      "grid_gap": null,
      "grid_row": null,
      "grid_template_areas": null,
      "grid_template_columns": null,
      "grid_template_rows": null,
      "height": null,
      "justify_content": null,
      "justify_items": null,
      "left": null,
      "margin": null,
      "max_height": null,
      "max_width": null,
      "min_height": null,
      "min_width": null,
      "object_fit": null,
      "object_position": null,
      "order": null,
      "overflow": null,
      "overflow_x": null,
      "overflow_y": null,
      "padding": null,
      "right": null,
      "top": null,
      "visibility": null,
      "width": null
     }
    },
    "93726e754ba04052904e68d9feaf5969": {
     "model_module": "@jupyter-widgets/controls",
     "model_module_version": "1.5.0",
     "model_name": "FloatProgressModel",
     "state": {
      "_dom_classes": [],
      "_model_module": "@jupyter-widgets/controls",
      "_model_module_version": "1.5.0",
      "_model_name": "FloatProgressModel",
      "_view_count": null,
      "_view_module": "@jupyter-widgets/controls",
      "_view_module_version": "1.5.0",
      "_view_name": "ProgressView",
      "bar_style": "success",
      "description": "",
      "description_tooltip": null,
      "layout": "IPY_MODEL_278518df99374dbe9077cf25b1e5e6bf",
      "max": 231508,
      "min": 0,
      "orientation": "horizontal",
      "style": "IPY_MODEL_02ebcf06150d490f9247f9e8b691678d",
      "value": 231508
     }
    },
    "93ece2980b204d9bb32b61c50c8a0ccd": {
     "model_module": "@jupyter-widgets/base",
     "model_module_version": "1.2.0",
     "model_name": "LayoutModel",
     "state": {
      "_model_module": "@jupyter-widgets/base",
      "_model_module_version": "1.2.0",
      "_model_name": "LayoutModel",
      "_view_count": null,
      "_view_module": "@jupyter-widgets/base",
      "_view_module_version": "1.2.0",
      "_view_name": "LayoutView",
      "align_content": null,
      "align_items": null,
      "align_self": null,
      "border": null,
      "bottom": null,
      "display": null,
      "flex": null,
      "flex_flow": null,
      "grid_area": null,
      "grid_auto_columns": null,
      "grid_auto_flow": null,
      "grid_auto_rows": null,
      "grid_column": null,
      "grid_gap": null,
      "grid_row": null,
      "grid_template_areas": null,
      "grid_template_columns": null,
      "grid_template_rows": null,
      "height": null,
      "justify_content": null,
      "justify_items": null,
      "left": null,
      "margin": null,
      "max_height": null,
      "max_width": null,
      "min_height": null,
      "min_width": null,
      "object_fit": null,
      "object_position": null,
      "order": null,
      "overflow": null,
      "overflow_x": null,
      "overflow_y": null,
      "padding": null,
      "right": null,
      "top": null,
      "visibility": null,
      "width": null
     }
    },
    "942c34793e1c480092d7208fc1e49497": {
     "model_module": "@jupyter-widgets/controls",
     "model_module_version": "1.5.0",
     "model_name": "DescriptionStyleModel",
     "state": {
      "_model_module": "@jupyter-widgets/controls",
      "_model_module_version": "1.5.0",
      "_model_name": "DescriptionStyleModel",
      "_view_count": null,
      "_view_module": "@jupyter-widgets/base",
      "_view_module_version": "1.2.0",
      "_view_name": "StyleView",
      "description_width": ""
     }
    },
    "95c910b385e54dab8669d12ad6c86ac8": {
     "model_module": "@jupyter-widgets/controls",
     "model_module_version": "1.5.0",
     "model_name": "DescriptionStyleModel",
     "state": {
      "_model_module": "@jupyter-widgets/controls",
      "_model_module_version": "1.5.0",
      "_model_name": "DescriptionStyleModel",
      "_view_count": null,
      "_view_module": "@jupyter-widgets/base",
      "_view_module_version": "1.2.0",
      "_view_name": "StyleView",
      "description_width": ""
     }
    },
    "9646bdcba69e48639fcc86561e1d3ee9": {
     "model_module": "@jupyter-widgets/controls",
     "model_module_version": "1.5.0",
     "model_name": "HBoxModel",
     "state": {
      "_dom_classes": [],
      "_model_module": "@jupyter-widgets/controls",
      "_model_module_version": "1.5.0",
      "_model_name": "HBoxModel",
      "_view_count": null,
      "_view_module": "@jupyter-widgets/controls",
      "_view_module_version": "1.5.0",
      "_view_name": "HBoxView",
      "box_style": "",
      "children": [
       "IPY_MODEL_6656c1976e2e496c900dfcd0437d6d79",
       "IPY_MODEL_a1408ad2ad64476bade0409ccda1e562",
       "IPY_MODEL_09d5b6409e3d4eaea5f5ce3edecf7624"
      ],
      "layout": "IPY_MODEL_c87eff8f2db0474e9ab1a64f98271a0d"
     }
    },
    "966a8f8c61924391bee495ed01fd3db0": {
     "model_module": "@jupyter-widgets/controls",
     "model_module_version": "1.5.0",
     "model_name": "ProgressStyleModel",
     "state": {
      "_model_module": "@jupyter-widgets/controls",
      "_model_module_version": "1.5.0",
      "_model_name": "ProgressStyleModel",
      "_view_count": null,
      "_view_module": "@jupyter-widgets/base",
      "_view_module_version": "1.2.0",
      "_view_name": "StyleView",
      "bar_color": null,
      "description_width": ""
     }
    },
    "999cebfcbd5649f8855c936dc0a14870": {
     "model_module": "@jupyter-widgets/controls",
     "model_module_version": "1.5.0",
     "model_name": "DescriptionStyleModel",
     "state": {
      "_model_module": "@jupyter-widgets/controls",
      "_model_module_version": "1.5.0",
      "_model_name": "DescriptionStyleModel",
      "_view_count": null,
      "_view_module": "@jupyter-widgets/base",
      "_view_module_version": "1.2.0",
      "_view_name": "StyleView",
      "description_width": ""
     }
    },
    "9b7b29efef794f5d880c2239bda71b80": {
     "model_module": "@jupyter-widgets/controls",
     "model_module_version": "1.5.0",
     "model_name": "HTMLModel",
     "state": {
      "_dom_classes": [],
      "_model_module": "@jupyter-widgets/controls",
      "_model_module_version": "1.5.0",
      "_model_name": "HTMLModel",
      "_view_count": null,
      "_view_module": "@jupyter-widgets/controls",
      "_view_module_version": "1.5.0",
      "_view_name": "HTMLView",
      "description": "",
      "description_tooltip": null,
      "layout": "IPY_MODEL_28de33da6e3540f68bd867669172da3f",
      "placeholder": "​",
      "style": "IPY_MODEL_f6eda69bb28349bdb7046efd75eaecb3",
      "value": " 29.0/29.0 [00:00&lt;00:00, 723B/s]"
     }
    },
    "9bba8d6e420c471fa213dbfc9e0efa31": {
     "model_module": "@jupyter-widgets/controls",
     "model_module_version": "1.5.0",
     "model_name": "HTMLModel",
     "state": {
      "_dom_classes": [],
      "_model_module": "@jupyter-widgets/controls",
      "_model_module_version": "1.5.0",
      "_model_name": "HTMLModel",
      "_view_count": null,
      "_view_module": "@jupyter-widgets/controls",
      "_view_module_version": "1.5.0",
      "_view_name": "HTMLView",
      "description": "",
      "description_tooltip": null,
      "layout": "IPY_MODEL_f31ad66973004efa932c6179df955678",
      "placeholder": "​",
      "style": "IPY_MODEL_b5ff6c772fab4a6981a2e88add532db3",
      "value": "Downloading: 100%"
     }
    },
    "9ec089082d624bdabc5413652a9e07fc": {
     "model_module": "@jupyter-widgets/base",
     "model_module_version": "1.2.0",
     "model_name": "LayoutModel",
     "state": {
      "_model_module": "@jupyter-widgets/base",
      "_model_module_version": "1.2.0",
      "_model_name": "LayoutModel",
      "_view_count": null,
      "_view_module": "@jupyter-widgets/base",
      "_view_module_version": "1.2.0",
      "_view_name": "LayoutView",
      "align_content": null,
      "align_items": null,
      "align_self": null,
      "border": null,
      "bottom": null,
      "display": null,
      "flex": null,
      "flex_flow": null,
      "grid_area": null,
      "grid_auto_columns": null,
      "grid_auto_flow": null,
      "grid_auto_rows": null,
      "grid_column": null,
      "grid_gap": null,
      "grid_row": null,
      "grid_template_areas": null,
      "grid_template_columns": null,
      "grid_template_rows": null,
      "height": null,
      "justify_content": null,
      "justify_items": null,
      "left": null,
      "margin": null,
      "max_height": null,
      "max_width": null,
      "min_height": null,
      "min_width": null,
      "object_fit": null,
      "object_position": null,
      "order": null,
      "overflow": null,
      "overflow_x": null,
      "overflow_y": null,
      "padding": null,
      "right": null,
      "top": null,
      "visibility": null,
      "width": null
     }
    },
    "9f236c9d71f04a3eb6d345d66297fb52": {
     "model_module": "@jupyter-widgets/controls",
     "model_module_version": "1.5.0",
     "model_name": "DescriptionStyleModel",
     "state": {
      "_model_module": "@jupyter-widgets/controls",
      "_model_module_version": "1.5.0",
      "_model_name": "DescriptionStyleModel",
      "_view_count": null,
      "_view_module": "@jupyter-widgets/base",
      "_view_module_version": "1.2.0",
      "_view_name": "StyleView",
      "description_width": ""
     }
    },
    "9f46700e5efa4c4295e770bfb0469705": {
     "model_module": "@jupyter-widgets/controls",
     "model_module_version": "1.5.0",
     "model_name": "FloatProgressModel",
     "state": {
      "_dom_classes": [],
      "_model_module": "@jupyter-widgets/controls",
      "_model_module_version": "1.5.0",
      "_model_name": "FloatProgressModel",
      "_view_count": null,
      "_view_module": "@jupyter-widgets/controls",
      "_view_module_version": "1.5.0",
      "_view_name": "ProgressView",
      "bar_style": "success",
      "description": "",
      "description_tooltip": null,
      "layout": "IPY_MODEL_ec0c54deef63444d98ffe42290717c41",
      "max": 363423424,
      "min": 0,
      "orientation": "horizontal",
      "style": "IPY_MODEL_a870dbb47bde4225bf6f61ab882bc99b",
      "value": 363423424
     }
    },
    "9f789506ab4245d780ee7a8ddad71f59": {
     "model_module": "@jupyter-widgets/controls",
     "model_module_version": "1.5.0",
     "model_name": "HTMLModel",
     "state": {
      "_dom_classes": [],
      "_model_module": "@jupyter-widgets/controls",
      "_model_module_version": "1.5.0",
      "_model_name": "HTMLModel",
      "_view_count": null,
      "_view_module": "@jupyter-widgets/controls",
      "_view_module_version": "1.5.0",
      "_view_name": "HTMLView",
      "description": "",
      "description_tooltip": null,
      "layout": "IPY_MODEL_1215def2e90e46f5813228ad2291ea82",
      "placeholder": "​",
      "style": "IPY_MODEL_c5792638a5e44f42b748a933a330ded0",
      "value": "Downloading: 100%"
     }
    },
    "9ffd8a91d47843ad8ad4606a3bfcf2b5": {
     "model_module": "@jupyter-widgets/controls",
     "model_module_version": "1.5.0",
     "model_name": "ProgressStyleModel",
     "state": {
      "_model_module": "@jupyter-widgets/controls",
      "_model_module_version": "1.5.0",
      "_model_name": "ProgressStyleModel",
      "_view_count": null,
      "_view_module": "@jupyter-widgets/base",
      "_view_module_version": "1.2.0",
      "_view_name": "StyleView",
      "bar_color": null,
      "description_width": ""
     }
    },
    "a01497aad5cb40a6a0ad321313924850": {
     "model_module": "@jupyter-widgets/controls",
     "model_module_version": "1.5.0",
     "model_name": "DescriptionStyleModel",
     "state": {
      "_model_module": "@jupyter-widgets/controls",
      "_model_module_version": "1.5.0",
      "_model_name": "DescriptionStyleModel",
      "_view_count": null,
      "_view_module": "@jupyter-widgets/base",
      "_view_module_version": "1.2.0",
      "_view_name": "StyleView",
      "description_width": ""
     }
    },
    "a0421322b42d4ca580977d72bce50d4a": {
     "model_module": "@jupyter-widgets/base",
     "model_module_version": "1.2.0",
     "model_name": "LayoutModel",
     "state": {
      "_model_module": "@jupyter-widgets/base",
      "_model_module_version": "1.2.0",
      "_model_name": "LayoutModel",
      "_view_count": null,
      "_view_module": "@jupyter-widgets/base",
      "_view_module_version": "1.2.0",
      "_view_name": "LayoutView",
      "align_content": null,
      "align_items": null,
      "align_self": null,
      "border": null,
      "bottom": null,
      "display": null,
      "flex": null,
      "flex_flow": null,
      "grid_area": null,
      "grid_auto_columns": null,
      "grid_auto_flow": null,
      "grid_auto_rows": null,
      "grid_column": null,
      "grid_gap": null,
      "grid_row": null,
      "grid_template_areas": null,
      "grid_template_columns": null,
      "grid_template_rows": null,
      "height": null,
      "justify_content": null,
      "justify_items": null,
      "left": null,
      "margin": null,
      "max_height": null,
      "max_width": null,
      "min_height": null,
      "min_width": null,
      "object_fit": null,
      "object_position": null,
      "order": null,
      "overflow": null,
      "overflow_x": null,
      "overflow_y": null,
      "padding": null,
      "right": null,
      "top": null,
      "visibility": null,
      "width": null
     }
    },
    "a0b94d86fd5c4b638d401787477f944b": {
     "model_module": "@jupyter-widgets/base",
     "model_module_version": "1.2.0",
     "model_name": "LayoutModel",
     "state": {
      "_model_module": "@jupyter-widgets/base",
      "_model_module_version": "1.2.0",
      "_model_name": "LayoutModel",
      "_view_count": null,
      "_view_module": "@jupyter-widgets/base",
      "_view_module_version": "1.2.0",
      "_view_name": "LayoutView",
      "align_content": null,
      "align_items": null,
      "align_self": null,
      "border": null,
      "bottom": null,
      "display": null,
      "flex": null,
      "flex_flow": null,
      "grid_area": null,
      "grid_auto_columns": null,
      "grid_auto_flow": null,
      "grid_auto_rows": null,
      "grid_column": null,
      "grid_gap": null,
      "grid_row": null,
      "grid_template_areas": null,
      "grid_template_columns": null,
      "grid_template_rows": null,
      "height": null,
      "justify_content": null,
      "justify_items": null,
      "left": null,
      "margin": null,
      "max_height": null,
      "max_width": null,
      "min_height": null,
      "min_width": null,
      "object_fit": null,
      "object_position": null,
      "order": null,
      "overflow": null,
      "overflow_x": null,
      "overflow_y": null,
      "padding": null,
      "right": null,
      "top": null,
      "visibility": null,
      "width": null
     }
    },
    "a11594d3965543788ae9e24505327bda": {
     "model_module": "@jupyter-widgets/controls",
     "model_module_version": "1.5.0",
     "model_name": "HTMLModel",
     "state": {
      "_dom_classes": [],
      "_model_module": "@jupyter-widgets/controls",
      "_model_module_version": "1.5.0",
      "_model_name": "HTMLModel",
      "_view_count": null,
      "_view_module": "@jupyter-widgets/controls",
      "_view_module_version": "1.5.0",
      "_view_name": "HTMLView",
      "description": "",
      "description_tooltip": null,
      "layout": "IPY_MODEL_0f48028c31dd4d71bc1cf31fece2a0bd",
      "placeholder": "​",
      "style": "IPY_MODEL_999cebfcbd5649f8855c936dc0a14870",
      "value": " 436k/436k [00:00&lt;00:00, 551kB/s]"
     }
    },
    "a13ede328b904c85bc19985a4f844cdc": {
     "model_module": "@jupyter-widgets/base",
     "model_module_version": "1.2.0",
     "model_name": "LayoutModel",
     "state": {
      "_model_module": "@jupyter-widgets/base",
      "_model_module_version": "1.2.0",
      "_model_name": "LayoutModel",
      "_view_count": null,
      "_view_module": "@jupyter-widgets/base",
      "_view_module_version": "1.2.0",
      "_view_name": "LayoutView",
      "align_content": null,
      "align_items": null,
      "align_self": null,
      "border": null,
      "bottom": null,
      "display": null,
      "flex": null,
      "flex_flow": null,
      "grid_area": null,
      "grid_auto_columns": null,
      "grid_auto_flow": null,
      "grid_auto_rows": null,
      "grid_column": null,
      "grid_gap": null,
      "grid_row": null,
      "grid_template_areas": null,
      "grid_template_columns": null,
      "grid_template_rows": null,
      "height": null,
      "justify_content": null,
      "justify_items": null,
      "left": null,
      "margin": null,
      "max_height": null,
      "max_width": null,
      "min_height": null,
      "min_width": null,
      "object_fit": null,
      "object_position": null,
      "order": null,
      "overflow": null,
      "overflow_x": null,
      "overflow_y": null,
      "padding": null,
      "right": null,
      "top": null,
      "visibility": null,
      "width": null
     }
    },
    "a1408ad2ad64476bade0409ccda1e562": {
     "model_module": "@jupyter-widgets/controls",
     "model_module_version": "1.5.0",
     "model_name": "FloatProgressModel",
     "state": {
      "_dom_classes": [],
      "_model_module": "@jupyter-widgets/controls",
      "_model_module_version": "1.5.0",
      "_model_name": "FloatProgressModel",
      "_view_count": null,
      "_view_module": "@jupyter-widgets/controls",
      "_view_module_version": "1.5.0",
      "_view_name": "ProgressView",
      "bar_style": "success",
      "description": "",
      "description_tooltip": null,
      "layout": "IPY_MODEL_4cd983643cc8445a9260bcbb6cc1dce8",
      "max": 28,
      "min": 0,
      "orientation": "horizontal",
      "style": "IPY_MODEL_d8e5b218b6f0488caeda92c178601db6",
      "value": 28
     }
    },
    "a1971a34f0714b4ea755f57b52bb2486": {
     "model_module": "@jupyter-widgets/base",
     "model_module_version": "1.2.0",
     "model_name": "LayoutModel",
     "state": {
      "_model_module": "@jupyter-widgets/base",
      "_model_module_version": "1.2.0",
      "_model_name": "LayoutModel",
      "_view_count": null,
      "_view_module": "@jupyter-widgets/base",
      "_view_module_version": "1.2.0",
      "_view_name": "LayoutView",
      "align_content": null,
      "align_items": null,
      "align_self": null,
      "border": null,
      "bottom": null,
      "display": null,
      "flex": null,
      "flex_flow": null,
      "grid_area": null,
      "grid_auto_columns": null,
      "grid_auto_flow": null,
      "grid_auto_rows": null,
      "grid_column": null,
      "grid_gap": null,
      "grid_row": null,
      "grid_template_areas": null,
      "grid_template_columns": null,
      "grid_template_rows": null,
      "height": null,
      "justify_content": null,
      "justify_items": null,
      "left": null,
      "margin": null,
      "max_height": null,
      "max_width": null,
      "min_height": null,
      "min_width": null,
      "object_fit": null,
      "object_position": null,
      "order": null,
      "overflow": null,
      "overflow_x": null,
      "overflow_y": null,
      "padding": null,
      "right": null,
      "top": null,
      "visibility": null,
      "width": null
     }
    },
    "a2248335926241678be9c2ef856302e0": {
     "model_module": "@jupyter-widgets/controls",
     "model_module_version": "1.5.0",
     "model_name": "HTMLModel",
     "state": {
      "_dom_classes": [],
      "_model_module": "@jupyter-widgets/controls",
      "_model_module_version": "1.5.0",
      "_model_name": "HTMLModel",
      "_view_count": null,
      "_view_module": "@jupyter-widgets/controls",
      "_view_module_version": "1.5.0",
      "_view_name": "HTMLView",
      "description": "",
      "description_tooltip": null,
      "layout": "IPY_MODEL_bbb689beb492446d97b8ae98537272c9",
      "placeholder": "​",
      "style": "IPY_MODEL_270051e2e68f4b61b22f73a2396711b4",
      "value": "Downloading: 100%"
     }
    },
    "a22e79b802614fa2be5f23b7e385a2ba": {
     "model_module": "@jupyter-widgets/base",
     "model_module_version": "1.2.0",
     "model_name": "LayoutModel",
     "state": {
      "_model_module": "@jupyter-widgets/base",
      "_model_module_version": "1.2.0",
      "_model_name": "LayoutModel",
      "_view_count": null,
      "_view_module": "@jupyter-widgets/base",
      "_view_module_version": "1.2.0",
      "_view_name": "LayoutView",
      "align_content": null,
      "align_items": null,
      "align_self": null,
      "border": null,
      "bottom": null,
      "display": null,
      "flex": null,
      "flex_flow": null,
      "grid_area": null,
      "grid_auto_columns": null,
      "grid_auto_flow": null,
      "grid_auto_rows": null,
      "grid_column": null,
      "grid_gap": null,
      "grid_row": null,
      "grid_template_areas": null,
      "grid_template_columns": null,
      "grid_template_rows": null,
      "height": null,
      "justify_content": null,
      "justify_items": null,
      "left": null,
      "margin": null,
      "max_height": null,
      "max_width": null,
      "min_height": null,
      "min_width": null,
      "object_fit": null,
      "object_position": null,
      "order": null,
      "overflow": null,
      "overflow_x": null,
      "overflow_y": null,
      "padding": null,
      "right": null,
      "top": null,
      "visibility": null,
      "width": null
     }
    },
    "a5980c30af224615903fe60cb46e33cd": {
     "model_module": "@jupyter-widgets/base",
     "model_module_version": "1.2.0",
     "model_name": "LayoutModel",
     "state": {
      "_model_module": "@jupyter-widgets/base",
      "_model_module_version": "1.2.0",
      "_model_name": "LayoutModel",
      "_view_count": null,
      "_view_module": "@jupyter-widgets/base",
      "_view_module_version": "1.2.0",
      "_view_name": "LayoutView",
      "align_content": null,
      "align_items": null,
      "align_self": null,
      "border": null,
      "bottom": null,
      "display": null,
      "flex": null,
      "flex_flow": null,
      "grid_area": null,
      "grid_auto_columns": null,
      "grid_auto_flow": null,
      "grid_auto_rows": null,
      "grid_column": null,
      "grid_gap": null,
      "grid_row": null,
      "grid_template_areas": null,
      "grid_template_columns": null,
      "grid_template_rows": null,
      "height": null,
      "justify_content": null,
      "justify_items": null,
      "left": null,
      "margin": null,
      "max_height": null,
      "max_width": null,
      "min_height": null,
      "min_width": null,
      "object_fit": null,
      "object_position": null,
      "order": null,
      "overflow": null,
      "overflow_x": null,
      "overflow_y": null,
      "padding": null,
      "right": null,
      "top": null,
      "visibility": null,
      "width": null
     }
    },
    "a5d2f283599a468f9cb4af1ba4f55768": {
     "model_module": "@jupyter-widgets/controls",
     "model_module_version": "1.5.0",
     "model_name": "HTMLModel",
     "state": {
      "_dom_classes": [],
      "_model_module": "@jupyter-widgets/controls",
      "_model_module_version": "1.5.0",
      "_model_name": "HTMLModel",
      "_view_count": null,
      "_view_module": "@jupyter-widgets/controls",
      "_view_module_version": "1.5.0",
      "_view_name": "HTMLView",
      "description": "",
      "description_tooltip": null,
      "layout": "IPY_MODEL_d2723be284c4466a8812e8824f4192d8",
      "placeholder": "​",
      "style": "IPY_MODEL_c2e5183b78c94b778fcc9c820033880c",
      "value": "Downloading: 100%"
     }
    },
    "a870dbb47bde4225bf6f61ab882bc99b": {
     "model_module": "@jupyter-widgets/controls",
     "model_module_version": "1.5.0",
     "model_name": "ProgressStyleModel",
     "state": {
      "_model_module": "@jupyter-widgets/controls",
      "_model_module_version": "1.5.0",
      "_model_name": "ProgressStyleModel",
      "_view_count": null,
      "_view_module": "@jupyter-widgets/base",
      "_view_module_version": "1.2.0",
      "_view_name": "StyleView",
      "bar_color": null,
      "description_width": ""
     }
    },
    "a8d9cda4e25e4368b0c2e05a2f58e51b": {
     "model_module": "@jupyter-widgets/base",
     "model_module_version": "1.2.0",
     "model_name": "LayoutModel",
     "state": {
      "_model_module": "@jupyter-widgets/base",
      "_model_module_version": "1.2.0",
      "_model_name": "LayoutModel",
      "_view_count": null,
      "_view_module": "@jupyter-widgets/base",
      "_view_module_version": "1.2.0",
      "_view_name": "LayoutView",
      "align_content": null,
      "align_items": null,
      "align_self": null,
      "border": null,
      "bottom": null,
      "display": null,
      "flex": null,
      "flex_flow": null,
      "grid_area": null,
      "grid_auto_columns": null,
      "grid_auto_flow": null,
      "grid_auto_rows": null,
      "grid_column": null,
      "grid_gap": null,
      "grid_row": null,
      "grid_template_areas": null,
      "grid_template_columns": null,
      "grid_template_rows": null,
      "height": null,
      "justify_content": null,
      "justify_items": null,
      "left": null,
      "margin": null,
      "max_height": null,
      "max_width": null,
      "min_height": null,
      "min_width": null,
      "object_fit": null,
      "object_position": null,
      "order": null,
      "overflow": null,
      "overflow_x": null,
      "overflow_y": null,
      "padding": null,
      "right": null,
      "top": null,
      "visibility": null,
      "width": null
     }
    },
    "aa335d025b864f7a932083faef09c0dc": {
     "model_module": "@jupyter-widgets/controls",
     "model_module_version": "1.5.0",
     "model_name": "ProgressStyleModel",
     "state": {
      "_model_module": "@jupyter-widgets/controls",
      "_model_module_version": "1.5.0",
      "_model_name": "ProgressStyleModel",
      "_view_count": null,
      "_view_module": "@jupyter-widgets/base",
      "_view_module_version": "1.2.0",
      "_view_name": "StyleView",
      "bar_color": null,
      "description_width": ""
     }
    },
    "aca8fcfdda3848cca252f20b8eed074f": {
     "model_module": "@jupyter-widgets/base",
     "model_module_version": "1.2.0",
     "model_name": "LayoutModel",
     "state": {
      "_model_module": "@jupyter-widgets/base",
      "_model_module_version": "1.2.0",
      "_model_name": "LayoutModel",
      "_view_count": null,
      "_view_module": "@jupyter-widgets/base",
      "_view_module_version": "1.2.0",
      "_view_name": "LayoutView",
      "align_content": null,
      "align_items": null,
      "align_self": null,
      "border": null,
      "bottom": null,
      "display": null,
      "flex": null,
      "flex_flow": null,
      "grid_area": null,
      "grid_auto_columns": null,
      "grid_auto_flow": null,
      "grid_auto_rows": null,
      "grid_column": null,
      "grid_gap": null,
      "grid_row": null,
      "grid_template_areas": null,
      "grid_template_columns": null,
      "grid_template_rows": null,
      "height": null,
      "justify_content": null,
      "justify_items": null,
      "left": null,
      "margin": null,
      "max_height": null,
      "max_width": null,
      "min_height": null,
      "min_width": null,
      "object_fit": null,
      "object_position": null,
      "order": null,
      "overflow": null,
      "overflow_x": null,
      "overflow_y": null,
      "padding": null,
      "right": null,
      "top": null,
      "visibility": null,
      "width": null
     }
    },
    "acfcdee2f2584c8f9a530aabee528d03": {
     "model_module": "@jupyter-widgets/base",
     "model_module_version": "1.2.0",
     "model_name": "LayoutModel",
     "state": {
      "_model_module": "@jupyter-widgets/base",
      "_model_module_version": "1.2.0",
      "_model_name": "LayoutModel",
      "_view_count": null,
      "_view_module": "@jupyter-widgets/base",
      "_view_module_version": "1.2.0",
      "_view_name": "LayoutView",
      "align_content": null,
      "align_items": null,
      "align_self": null,
      "border": null,
      "bottom": null,
      "display": null,
      "flex": null,
      "flex_flow": null,
      "grid_area": null,
      "grid_auto_columns": null,
      "grid_auto_flow": null,
      "grid_auto_rows": null,
      "grid_column": null,
      "grid_gap": null,
      "grid_row": null,
      "grid_template_areas": null,
      "grid_template_columns": null,
      "grid_template_rows": null,
      "height": null,
      "justify_content": null,
      "justify_items": null,
      "left": null,
      "margin": null,
      "max_height": null,
      "max_width": null,
      "min_height": null,
      "min_width": null,
      "object_fit": null,
      "object_position": null,
      "order": null,
      "overflow": null,
      "overflow_x": null,
      "overflow_y": null,
      "padding": null,
      "right": null,
      "top": null,
      "visibility": null,
      "width": null
     }
    },
    "ad5a711be8834a1798dc1971330dd1cf": {
     "model_module": "@jupyter-widgets/controls",
     "model_module_version": "1.5.0",
     "model_name": "HTMLModel",
     "state": {
      "_dom_classes": [],
      "_model_module": "@jupyter-widgets/controls",
      "_model_module_version": "1.5.0",
      "_model_name": "HTMLModel",
      "_view_count": null,
      "_view_module": "@jupyter-widgets/controls",
      "_view_module_version": "1.5.0",
      "_view_name": "HTMLView",
      "description": "",
      "description_tooltip": null,
      "layout": "IPY_MODEL_2390f764c9e04c5ba7cd765908f6a1d5",
      "placeholder": "​",
      "style": "IPY_MODEL_b550e3906a184a71bff24dc7bb7a200a",
      "value": " 466k/466k [00:00&lt;00:00, 664kB/s]"
     }
    },
    "afbac40479b6413e8bb39c6007d95384": {
     "model_module": "@jupyter-widgets/controls",
     "model_module_version": "1.5.0",
     "model_name": "HBoxModel",
     "state": {
      "_dom_classes": [],
      "_model_module": "@jupyter-widgets/controls",
      "_model_module_version": "1.5.0",
      "_model_name": "HBoxModel",
      "_view_count": null,
      "_view_module": "@jupyter-widgets/controls",
      "_view_module_version": "1.5.0",
      "_view_name": "HBoxView",
      "box_style": "",
      "children": [
       "IPY_MODEL_1cb5218973324ae4acd18998a8e9526b",
       "IPY_MODEL_66422d79ee5f44ba81cf91857b12305f",
       "IPY_MODEL_9158968ec951419b98dae7195d7c9a31"
      ],
      "layout": "IPY_MODEL_6a3ba8ce3fc448849a81dea6d33859b6"
     }
    },
    "b0bab1172d2b46deb2c2ff2dc5222611": {
     "model_module": "@jupyter-widgets/base",
     "model_module_version": "1.2.0",
     "model_name": "LayoutModel",
     "state": {
      "_model_module": "@jupyter-widgets/base",
      "_model_module_version": "1.2.0",
      "_model_name": "LayoutModel",
      "_view_count": null,
      "_view_module": "@jupyter-widgets/base",
      "_view_module_version": "1.2.0",
      "_view_name": "LayoutView",
      "align_content": null,
      "align_items": null,
      "align_self": null,
      "border": null,
      "bottom": null,
      "display": null,
      "flex": null,
      "flex_flow": null,
      "grid_area": null,
      "grid_auto_columns": null,
      "grid_auto_flow": null,
      "grid_auto_rows": null,
      "grid_column": null,
      "grid_gap": null,
      "grid_row": null,
      "grid_template_areas": null,
      "grid_template_columns": null,
      "grid_template_rows": null,
      "height": null,
      "justify_content": null,
      "justify_items": null,
      "left": null,
      "margin": null,
      "max_height": null,
      "max_width": null,
      "min_height": null,
      "min_width": null,
      "object_fit": null,
      "object_position": null,
      "order": null,
      "overflow": null,
      "overflow_x": null,
      "overflow_y": null,
      "padding": null,
      "right": null,
      "top": null,
      "visibility": null,
      "width": null
     }
    },
    "b3a74014586e456b85b2ec5dfadeb2c0": {
     "model_module": "@jupyter-widgets/base",
     "model_module_version": "1.2.0",
     "model_name": "LayoutModel",
     "state": {
      "_model_module": "@jupyter-widgets/base",
      "_model_module_version": "1.2.0",
      "_model_name": "LayoutModel",
      "_view_count": null,
      "_view_module": "@jupyter-widgets/base",
      "_view_module_version": "1.2.0",
      "_view_name": "LayoutView",
      "align_content": null,
      "align_items": null,
      "align_self": null,
      "border": null,
      "bottom": null,
      "display": null,
      "flex": null,
      "flex_flow": null,
      "grid_area": null,
      "grid_auto_columns": null,
      "grid_auto_flow": null,
      "grid_auto_rows": null,
      "grid_column": null,
      "grid_gap": null,
      "grid_row": null,
      "grid_template_areas": null,
      "grid_template_columns": null,
      "grid_template_rows": null,
      "height": null,
      "justify_content": null,
      "justify_items": null,
      "left": null,
      "margin": null,
      "max_height": null,
      "max_width": null,
      "min_height": null,
      "min_width": null,
      "object_fit": null,
      "object_position": null,
      "order": null,
      "overflow": null,
      "overflow_x": null,
      "overflow_y": null,
      "padding": null,
      "right": null,
      "top": null,
      "visibility": null,
      "width": null
     }
    },
    "b48db49dc9ed4da1bbd9f1607b65fdd3": {
     "model_module": "@jupyter-widgets/base",
     "model_module_version": "1.2.0",
     "model_name": "LayoutModel",
     "state": {
      "_model_module": "@jupyter-widgets/base",
      "_model_module_version": "1.2.0",
      "_model_name": "LayoutModel",
      "_view_count": null,
      "_view_module": "@jupyter-widgets/base",
      "_view_module_version": "1.2.0",
      "_view_name": "LayoutView",
      "align_content": null,
      "align_items": null,
      "align_self": null,
      "border": null,
      "bottom": null,
      "display": null,
      "flex": null,
      "flex_flow": null,
      "grid_area": null,
      "grid_auto_columns": null,
      "grid_auto_flow": null,
      "grid_auto_rows": null,
      "grid_column": null,
      "grid_gap": null,
      "grid_row": null,
      "grid_template_areas": null,
      "grid_template_columns": null,
      "grid_template_rows": null,
      "height": null,
      "justify_content": null,
      "justify_items": null,
      "left": null,
      "margin": null,
      "max_height": null,
      "max_width": null,
      "min_height": null,
      "min_width": null,
      "object_fit": null,
      "object_position": null,
      "order": null,
      "overflow": null,
      "overflow_x": null,
      "overflow_y": null,
      "padding": null,
      "right": null,
      "top": null,
      "visibility": null,
      "width": null
     }
    },
    "b550e3906a184a71bff24dc7bb7a200a": {
     "model_module": "@jupyter-widgets/controls",
     "model_module_version": "1.5.0",
     "model_name": "DescriptionStyleModel",
     "state": {
      "_model_module": "@jupyter-widgets/controls",
      "_model_module_version": "1.5.0",
      "_model_name": "DescriptionStyleModel",
      "_view_count": null,
      "_view_module": "@jupyter-widgets/base",
      "_view_module_version": "1.2.0",
      "_view_name": "StyleView",
      "description_width": ""
     }
    },
    "b5a0b7fc84304d0d841b18ac1d7d6c3e": {
     "model_module": "@jupyter-widgets/base",
     "model_module_version": "1.2.0",
     "model_name": "LayoutModel",
     "state": {
      "_model_module": "@jupyter-widgets/base",
      "_model_module_version": "1.2.0",
      "_model_name": "LayoutModel",
      "_view_count": null,
      "_view_module": "@jupyter-widgets/base",
      "_view_module_version": "1.2.0",
      "_view_name": "LayoutView",
      "align_content": null,
      "align_items": null,
      "align_self": null,
      "border": null,
      "bottom": null,
      "display": null,
      "flex": null,
      "flex_flow": null,
      "grid_area": null,
      "grid_auto_columns": null,
      "grid_auto_flow": null,
      "grid_auto_rows": null,
      "grid_column": null,
      "grid_gap": null,
      "grid_row": null,
      "grid_template_areas": null,
      "grid_template_columns": null,
      "grid_template_rows": null,
      "height": null,
      "justify_content": null,
      "justify_items": null,
      "left": null,
      "margin": null,
      "max_height": null,
      "max_width": null,
      "min_height": null,
      "min_width": null,
      "object_fit": null,
      "object_position": null,
      "order": null,
      "overflow": null,
      "overflow_x": null,
      "overflow_y": null,
      "padding": null,
      "right": null,
      "top": null,
      "visibility": null,
      "width": null
     }
    },
    "b5ff6c772fab4a6981a2e88add532db3": {
     "model_module": "@jupyter-widgets/controls",
     "model_module_version": "1.5.0",
     "model_name": "DescriptionStyleModel",
     "state": {
      "_model_module": "@jupyter-widgets/controls",
      "_model_module_version": "1.5.0",
      "_model_name": "DescriptionStyleModel",
      "_view_count": null,
      "_view_module": "@jupyter-widgets/base",
      "_view_module_version": "1.2.0",
      "_view_name": "StyleView",
      "description_width": ""
     }
    },
    "baa9d6312ce747d8ac6bbc2628a17e84": {
     "model_module": "@jupyter-widgets/base",
     "model_module_version": "1.2.0",
     "model_name": "LayoutModel",
     "state": {
      "_model_module": "@jupyter-widgets/base",
      "_model_module_version": "1.2.0",
      "_model_name": "LayoutModel",
      "_view_count": null,
      "_view_module": "@jupyter-widgets/base",
      "_view_module_version": "1.2.0",
      "_view_name": "LayoutView",
      "align_content": null,
      "align_items": null,
      "align_self": null,
      "border": null,
      "bottom": null,
      "display": null,
      "flex": null,
      "flex_flow": null,
      "grid_area": null,
      "grid_auto_columns": null,
      "grid_auto_flow": null,
      "grid_auto_rows": null,
      "grid_column": null,
      "grid_gap": null,
      "grid_row": null,
      "grid_template_areas": null,
      "grid_template_columns": null,
      "grid_template_rows": null,
      "height": null,
      "justify_content": null,
      "justify_items": null,
      "left": null,
      "margin": null,
      "max_height": null,
      "max_width": null,
      "min_height": null,
      "min_width": null,
      "object_fit": null,
      "object_position": null,
      "order": null,
      "overflow": null,
      "overflow_x": null,
      "overflow_y": null,
      "padding": null,
      "right": null,
      "top": null,
      "visibility": null,
      "width": null
     }
    },
    "bb9cd5e26a2f4822aee881dd2b2a232c": {
     "model_module": "@jupyter-widgets/controls",
     "model_module_version": "1.5.0",
     "model_name": "HBoxModel",
     "state": {
      "_dom_classes": [],
      "_model_module": "@jupyter-widgets/controls",
      "_model_module_version": "1.5.0",
      "_model_name": "HBoxModel",
      "_view_count": null,
      "_view_module": "@jupyter-widgets/controls",
      "_view_module_version": "1.5.0",
      "_view_name": "HBoxView",
      "box_style": "",
      "children": [
       "IPY_MODEL_17d5885cc21c4e61984f5452a01b886d",
       "IPY_MODEL_9f46700e5efa4c4295e770bfb0469705",
       "IPY_MODEL_8c0600bcd8f54af4a664b6f18c7cb497"
      ],
      "layout": "IPY_MODEL_ebdfabea591546e99ca228698183e538"
     }
    },
    "bbb689beb492446d97b8ae98537272c9": {
     "model_module": "@jupyter-widgets/base",
     "model_module_version": "1.2.0",
     "model_name": "LayoutModel",
     "state": {
      "_model_module": "@jupyter-widgets/base",
      "_model_module_version": "1.2.0",
      "_model_name": "LayoutModel",
      "_view_count": null,
      "_view_module": "@jupyter-widgets/base",
      "_view_module_version": "1.2.0",
      "_view_name": "LayoutView",
      "align_content": null,
      "align_items": null,
      "align_self": null,
      "border": null,
      "bottom": null,
      "display": null,
      "flex": null,
      "flex_flow": null,
      "grid_area": null,
      "grid_auto_columns": null,
      "grid_auto_flow": null,
      "grid_auto_rows": null,
      "grid_column": null,
      "grid_gap": null,
      "grid_row": null,
      "grid_template_areas": null,
      "grid_template_columns": null,
      "grid_template_rows": null,
      "height": null,
      "justify_content": null,
      "justify_items": null,
      "left": null,
      "margin": null,
      "max_height": null,
      "max_width": null,
      "min_height": null,
      "min_width": null,
      "object_fit": null,
      "object_position": null,
      "order": null,
      "overflow": null,
      "overflow_x": null,
      "overflow_y": null,
      "padding": null,
      "right": null,
      "top": null,
      "visibility": null,
      "width": null
     }
    },
    "bc4ba82ace384bdeb2da8fb5f581702b": {
     "model_module": "@jupyter-widgets/base",
     "model_module_version": "1.2.0",
     "model_name": "LayoutModel",
     "state": {
      "_model_module": "@jupyter-widgets/base",
      "_model_module_version": "1.2.0",
      "_model_name": "LayoutModel",
      "_view_count": null,
      "_view_module": "@jupyter-widgets/base",
      "_view_module_version": "1.2.0",
      "_view_name": "LayoutView",
      "align_content": null,
      "align_items": null,
      "align_self": null,
      "border": null,
      "bottom": null,
      "display": null,
      "flex": null,
      "flex_flow": null,
      "grid_area": null,
      "grid_auto_columns": null,
      "grid_auto_flow": null,
      "grid_auto_rows": null,
      "grid_column": null,
      "grid_gap": null,
      "grid_row": null,
      "grid_template_areas": null,
      "grid_template_columns": null,
      "grid_template_rows": null,
      "height": null,
      "justify_content": null,
      "justify_items": null,
      "left": null,
      "margin": null,
      "max_height": null,
      "max_width": null,
      "min_height": null,
      "min_width": null,
      "object_fit": null,
      "object_position": null,
      "order": null,
      "overflow": null,
      "overflow_x": null,
      "overflow_y": null,
      "padding": null,
      "right": null,
      "top": null,
      "visibility": null,
      "width": null
     }
    },
    "be6c39162de844689c1b9bcd33da3cd9": {
     "model_module": "@jupyter-widgets/controls",
     "model_module_version": "1.5.0",
     "model_name": "HBoxModel",
     "state": {
      "_dom_classes": [],
      "_model_module": "@jupyter-widgets/controls",
      "_model_module_version": "1.5.0",
      "_model_name": "HBoxModel",
      "_view_count": null,
      "_view_module": "@jupyter-widgets/controls",
      "_view_module_version": "1.5.0",
      "_view_name": "HBoxView",
      "box_style": "",
      "children": [
       "IPY_MODEL_9f789506ab4245d780ee7a8ddad71f59",
       "IPY_MODEL_f5e010e8b419439d963fb76ce5f3f326",
       "IPY_MODEL_48663d2ed45a4b208b4215c80acb907f"
      ],
      "layout": "IPY_MODEL_2b92f1e0cb1341bc89f42117fcd9c21c"
     }
    },
    "bfeab23a522a405fb0f5a3bb575bef84": {
     "model_module": "@jupyter-widgets/base",
     "model_module_version": "1.2.0",
     "model_name": "LayoutModel",
     "state": {
      "_model_module": "@jupyter-widgets/base",
      "_model_module_version": "1.2.0",
      "_model_name": "LayoutModel",
      "_view_count": null,
      "_view_module": "@jupyter-widgets/base",
      "_view_module_version": "1.2.0",
      "_view_name": "LayoutView",
      "align_content": null,
      "align_items": null,
      "align_self": null,
      "border": null,
      "bottom": null,
      "display": null,
      "flex": null,
      "flex_flow": null,
      "grid_area": null,
      "grid_auto_columns": null,
      "grid_auto_flow": null,
      "grid_auto_rows": null,
      "grid_column": null,
      "grid_gap": null,
      "grid_row": null,
      "grid_template_areas": null,
      "grid_template_columns": null,
      "grid_template_rows": null,
      "height": null,
      "justify_content": null,
      "justify_items": null,
      "left": null,
      "margin": null,
      "max_height": null,
      "max_width": null,
      "min_height": null,
      "min_width": null,
      "object_fit": null,
      "object_position": null,
      "order": null,
      "overflow": null,
      "overflow_x": null,
      "overflow_y": null,
      "padding": null,
      "right": null,
      "top": null,
      "visibility": null,
      "width": null
     }
    },
    "c18a89051e4e46b2b758f03c211d254f": {
     "model_module": "@jupyter-widgets/controls",
     "model_module_version": "1.5.0",
     "model_name": "ProgressStyleModel",
     "state": {
      "_model_module": "@jupyter-widgets/controls",
      "_model_module_version": "1.5.0",
      "_model_name": "ProgressStyleModel",
      "_view_count": null,
      "_view_module": "@jupyter-widgets/base",
      "_view_module_version": "1.2.0",
      "_view_name": "StyleView",
      "bar_color": null,
      "description_width": ""
     }
    },
    "c1de9773c48e443fa06cbd67b469e13d": {
     "model_module": "@jupyter-widgets/controls",
     "model_module_version": "1.5.0",
     "model_name": "DescriptionStyleModel",
     "state": {
      "_model_module": "@jupyter-widgets/controls",
      "_model_module_version": "1.5.0",
      "_model_name": "DescriptionStyleModel",
      "_view_count": null,
      "_view_module": "@jupyter-widgets/base",
      "_view_module_version": "1.2.0",
      "_view_name": "StyleView",
      "description_width": ""
     }
    },
    "c253395dbb554a1183807b67d30b2d2f": {
     "model_module": "@jupyter-widgets/base",
     "model_module_version": "1.2.0",
     "model_name": "LayoutModel",
     "state": {
      "_model_module": "@jupyter-widgets/base",
      "_model_module_version": "1.2.0",
      "_model_name": "LayoutModel",
      "_view_count": null,
      "_view_module": "@jupyter-widgets/base",
      "_view_module_version": "1.2.0",
      "_view_name": "LayoutView",
      "align_content": null,
      "align_items": null,
      "align_self": null,
      "border": null,
      "bottom": null,
      "display": null,
      "flex": null,
      "flex_flow": null,
      "grid_area": null,
      "grid_auto_columns": null,
      "grid_auto_flow": null,
      "grid_auto_rows": null,
      "grid_column": null,
      "grid_gap": null,
      "grid_row": null,
      "grid_template_areas": null,
      "grid_template_columns": null,
      "grid_template_rows": null,
      "height": null,
      "justify_content": null,
      "justify_items": null,
      "left": null,
      "margin": null,
      "max_height": null,
      "max_width": null,
      "min_height": null,
      "min_width": null,
      "object_fit": null,
      "object_position": null,
      "order": null,
      "overflow": null,
      "overflow_x": null,
      "overflow_y": null,
      "padding": null,
      "right": null,
      "top": null,
      "visibility": null,
      "width": null
     }
    },
    "c2a9e367ca1843248f7cc8ecac6a32de": {
     "model_module": "@jupyter-widgets/base",
     "model_module_version": "1.2.0",
     "model_name": "LayoutModel",
     "state": {
      "_model_module": "@jupyter-widgets/base",
      "_model_module_version": "1.2.0",
      "_model_name": "LayoutModel",
      "_view_count": null,
      "_view_module": "@jupyter-widgets/base",
      "_view_module_version": "1.2.0",
      "_view_name": "LayoutView",
      "align_content": null,
      "align_items": null,
      "align_self": null,
      "border": null,
      "bottom": null,
      "display": null,
      "flex": null,
      "flex_flow": null,
      "grid_area": null,
      "grid_auto_columns": null,
      "grid_auto_flow": null,
      "grid_auto_rows": null,
      "grid_column": null,
      "grid_gap": null,
      "grid_row": null,
      "grid_template_areas": null,
      "grid_template_columns": null,
      "grid_template_rows": null,
      "height": null,
      "justify_content": null,
      "justify_items": null,
      "left": null,
      "margin": null,
      "max_height": null,
      "max_width": null,
      "min_height": null,
      "min_width": null,
      "object_fit": null,
      "object_position": null,
      "order": null,
      "overflow": null,
      "overflow_x": null,
      "overflow_y": null,
      "padding": null,
      "right": null,
      "top": null,
      "visibility": null,
      "width": null
     }
    },
    "c2bd0088acd548dc98bdc0d8a9f37f51": {
     "model_module": "@jupyter-widgets/controls",
     "model_module_version": "1.5.0",
     "model_name": "HTMLModel",
     "state": {
      "_dom_classes": [],
      "_model_module": "@jupyter-widgets/controls",
      "_model_module_version": "1.5.0",
      "_model_name": "HTMLModel",
      "_view_count": null,
      "_view_module": "@jupyter-widgets/controls",
      "_view_module_version": "1.5.0",
      "_view_name": "HTMLView",
      "description": "",
      "description_tooltip": null,
      "layout": "IPY_MODEL_f35bb323d2c64d279cb14f9beac892d6",
      "placeholder": "​",
      "style": "IPY_MODEL_3a6ba1b878a4455589bc19e240250f74",
      "value": " 665/665 [00:00&lt;00:00, 17.2kB/s]"
     }
    },
    "c2e5183b78c94b778fcc9c820033880c": {
     "model_module": "@jupyter-widgets/controls",
     "model_module_version": "1.5.0",
     "model_name": "DescriptionStyleModel",
     "state": {
      "_model_module": "@jupyter-widgets/controls",
      "_model_module_version": "1.5.0",
      "_model_name": "DescriptionStyleModel",
      "_view_count": null,
      "_view_module": "@jupyter-widgets/base",
      "_view_module_version": "1.2.0",
      "_view_name": "StyleView",
      "description_width": ""
     }
    },
    "c344d5a34aea4d79b81792908a5d77de": {
     "model_module": "@jupyter-widgets/controls",
     "model_module_version": "1.5.0",
     "model_name": "HTMLModel",
     "state": {
      "_dom_classes": [],
      "_model_module": "@jupyter-widgets/controls",
      "_model_module_version": "1.5.0",
      "_model_name": "HTMLModel",
      "_view_count": null,
      "_view_module": "@jupyter-widgets/controls",
      "_view_module_version": "1.5.0",
      "_view_name": "HTMLView",
      "description": "",
      "description_tooltip": null,
      "layout": "IPY_MODEL_d46bc3e69e784042bc65252fe309925f",
      "placeholder": "​",
      "style": "IPY_MODEL_f2c26f72cc9d4fe48ac880db321b0fea",
      "value": "Downloading: 100%"
     }
    },
    "c3a4f925137c42478a2a68dad6ffcfaa": {
     "model_module": "@jupyter-widgets/controls",
     "model_module_version": "1.5.0",
     "model_name": "HTMLModel",
     "state": {
      "_dom_classes": [],
      "_model_module": "@jupyter-widgets/controls",
      "_model_module_version": "1.5.0",
      "_model_name": "HTMLModel",
      "_view_count": null,
      "_view_module": "@jupyter-widgets/controls",
      "_view_module_version": "1.5.0",
      "_view_name": "HTMLView",
      "description": "",
      "description_tooltip": null,
      "layout": "IPY_MODEL_9209b64ad0e64ae5931c78d297d9886a",
      "placeholder": "​",
      "style": "IPY_MODEL_c1de9773c48e443fa06cbd67b469e13d",
      "value": "Downloading: 100%"
     }
    },
    "c5792638a5e44f42b748a933a330ded0": {
     "model_module": "@jupyter-widgets/controls",
     "model_module_version": "1.5.0",
     "model_name": "DescriptionStyleModel",
     "state": {
      "_model_module": "@jupyter-widgets/controls",
      "_model_module_version": "1.5.0",
      "_model_name": "DescriptionStyleModel",
      "_view_count": null,
      "_view_module": "@jupyter-widgets/base",
      "_view_module_version": "1.2.0",
      "_view_name": "StyleView",
      "description_width": ""
     }
    },
    "c5a609f506124d5ab6d215a18d3725cd": {
     "model_module": "@jupyter-widgets/controls",
     "model_module_version": "1.5.0",
     "model_name": "HTMLModel",
     "state": {
      "_dom_classes": [],
      "_model_module": "@jupyter-widgets/controls",
      "_model_module_version": "1.5.0",
      "_model_name": "HTMLModel",
      "_view_count": null,
      "_view_module": "@jupyter-widgets/controls",
      "_view_module_version": "1.5.0",
      "_view_name": "HTMLView",
      "description": "",
      "description_tooltip": null,
      "layout": "IPY_MODEL_a0b94d86fd5c4b638d401787477f944b",
      "placeholder": "​",
      "style": "IPY_MODEL_95c910b385e54dab8669d12ad6c86ac8",
      "value": " 466k/466k [00:00&lt;00:00, 1.32MB/s]"
     }
    },
    "c73f385fe55144cda406044664154d32": {
     "model_module": "@jupyter-widgets/controls",
     "model_module_version": "1.5.0",
     "model_name": "DescriptionStyleModel",
     "state": {
      "_model_module": "@jupyter-widgets/controls",
      "_model_module_version": "1.5.0",
      "_model_name": "DescriptionStyleModel",
      "_view_count": null,
      "_view_module": "@jupyter-widgets/base",
      "_view_module_version": "1.2.0",
      "_view_name": "StyleView",
      "description_width": ""
     }
    },
    "c8428787d7994b638b52c41fe3a483bf": {
     "model_module": "@jupyter-widgets/base",
     "model_module_version": "1.2.0",
     "model_name": "LayoutModel",
     "state": {
      "_model_module": "@jupyter-widgets/base",
      "_model_module_version": "1.2.0",
      "_model_name": "LayoutModel",
      "_view_count": null,
      "_view_module": "@jupyter-widgets/base",
      "_view_module_version": "1.2.0",
      "_view_name": "LayoutView",
      "align_content": null,
      "align_items": null,
      "align_self": null,
      "border": null,
      "bottom": null,
      "display": null,
      "flex": null,
      "flex_flow": null,
      "grid_area": null,
      "grid_auto_columns": null,
      "grid_auto_flow": null,
      "grid_auto_rows": null,
      "grid_column": null,
      "grid_gap": null,
      "grid_row": null,
      "grid_template_areas": null,
      "grid_template_columns": null,
      "grid_template_rows": null,
      "height": null,
      "justify_content": null,
      "justify_items": null,
      "left": null,
      "margin": null,
      "max_height": null,
      "max_width": null,
      "min_height": null,
      "min_width": null,
      "object_fit": null,
      "object_position": null,
      "order": null,
      "overflow": null,
      "overflow_x": null,
      "overflow_y": null,
      "padding": null,
      "right": null,
      "top": null,
      "visibility": null,
      "width": null
     }
    },
    "c87eff8f2db0474e9ab1a64f98271a0d": {
     "model_module": "@jupyter-widgets/base",
     "model_module_version": "1.2.0",
     "model_name": "LayoutModel",
     "state": {
      "_model_module": "@jupyter-widgets/base",
      "_model_module_version": "1.2.0",
      "_model_name": "LayoutModel",
      "_view_count": null,
      "_view_module": "@jupyter-widgets/base",
      "_view_module_version": "1.2.0",
      "_view_name": "LayoutView",
      "align_content": null,
      "align_items": null,
      "align_self": null,
      "border": null,
      "bottom": null,
      "display": null,
      "flex": null,
      "flex_flow": null,
      "grid_area": null,
      "grid_auto_columns": null,
      "grid_auto_flow": null,
      "grid_auto_rows": null,
      "grid_column": null,
      "grid_gap": null,
      "grid_row": null,
      "grid_template_areas": null,
      "grid_template_columns": null,
      "grid_template_rows": null,
      "height": null,
      "justify_content": null,
      "justify_items": null,
      "left": null,
      "margin": null,
      "max_height": null,
      "max_width": null,
      "min_height": null,
      "min_width": null,
      "object_fit": null,
      "object_position": null,
      "order": null,
      "overflow": null,
      "overflow_x": null,
      "overflow_y": null,
      "padding": null,
      "right": null,
      "top": null,
      "visibility": null,
      "width": null
     }
    },
    "c9355cfc4f5b4391ad8db17441ab13e8": {
     "model_module": "@jupyter-widgets/controls",
     "model_module_version": "1.5.0",
     "model_name": "HTMLModel",
     "state": {
      "_dom_classes": [],
      "_model_module": "@jupyter-widgets/controls",
      "_model_module_version": "1.5.0",
      "_model_name": "HTMLModel",
      "_view_count": null,
      "_view_module": "@jupyter-widgets/controls",
      "_view_module_version": "1.5.0",
      "_view_name": "HTMLView",
      "description": "",
      "description_tooltip": null,
      "layout": "IPY_MODEL_4f2c9c89ab9442bdaf9581878bbda9a3",
      "placeholder": "​",
      "style": "IPY_MODEL_8660b0db375348e7b535961ce7a5fac8",
      "value": "Downloading: 100%"
     }
    },
    "ca19fb7d5d8c4707bfdcd1135f8e3621": {
     "model_module": "@jupyter-widgets/base",
     "model_module_version": "1.2.0",
     "model_name": "LayoutModel",
     "state": {
      "_model_module": "@jupyter-widgets/base",
      "_model_module_version": "1.2.0",
      "_model_name": "LayoutModel",
      "_view_count": null,
      "_view_module": "@jupyter-widgets/base",
      "_view_module_version": "1.2.0",
      "_view_name": "LayoutView",
      "align_content": null,
      "align_items": null,
      "align_self": null,
      "border": null,
      "bottom": null,
      "display": null,
      "flex": null,
      "flex_flow": null,
      "grid_area": null,
      "grid_auto_columns": null,
      "grid_auto_flow": null,
      "grid_auto_rows": null,
      "grid_column": null,
      "grid_gap": null,
      "grid_row": null,
      "grid_template_areas": null,
      "grid_template_columns": null,
      "grid_template_rows": null,
      "height": null,
      "justify_content": null,
      "justify_items": null,
      "left": null,
      "margin": null,
      "max_height": null,
      "max_width": null,
      "min_height": null,
      "min_width": null,
      "object_fit": null,
      "object_position": null,
      "order": null,
      "overflow": null,
      "overflow_x": null,
      "overflow_y": null,
      "padding": null,
      "right": null,
      "top": null,
      "visibility": null,
      "width": null
     }
    },
    "cb8c48c21b3044d89439982f03f0eb91": {
     "model_module": "@jupyter-widgets/controls",
     "model_module_version": "1.5.0",
     "model_name": "HTMLModel",
     "state": {
      "_dom_classes": [],
      "_model_module": "@jupyter-widgets/controls",
      "_model_module_version": "1.5.0",
      "_model_name": "HTMLModel",
      "_view_count": null,
      "_view_module": "@jupyter-widgets/controls",
      "_view_module_version": "1.5.0",
      "_view_name": "HTMLView",
      "description": "",
      "description_tooltip": null,
      "layout": "IPY_MODEL_92ca8608535146148a09fa2607d8eec6",
      "placeholder": "​",
      "style": "IPY_MODEL_dc5c362dcfac4f2eb73942c87d2235db",
      "value": "Downloading: 100%"
     }
    },
    "cd2e28fee4f343d08dbefeb6be42c8b0": {
     "model_module": "@jupyter-widgets/controls",
     "model_module_version": "1.5.0",
     "model_name": "DescriptionStyleModel",
     "state": {
      "_model_module": "@jupyter-widgets/controls",
      "_model_module_version": "1.5.0",
      "_model_name": "DescriptionStyleModel",
      "_view_count": null,
      "_view_module": "@jupyter-widgets/base",
      "_view_module_version": "1.2.0",
      "_view_name": "StyleView",
      "description_width": ""
     }
    },
    "ce271fbcf48f474495f4a07f8ac605ef": {
     "model_module": "@jupyter-widgets/controls",
     "model_module_version": "1.5.0",
     "model_name": "HBoxModel",
     "state": {
      "_dom_classes": [],
      "_model_module": "@jupyter-widgets/controls",
      "_model_module_version": "1.5.0",
      "_model_name": "HBoxModel",
      "_view_count": null,
      "_view_module": "@jupyter-widgets/controls",
      "_view_module_version": "1.5.0",
      "_view_name": "HBoxView",
      "box_style": "",
      "children": [
       "IPY_MODEL_cb8c48c21b3044d89439982f03f0eb91",
       "IPY_MODEL_e41c010d717243bd8d1078f37ee1d080",
       "IPY_MODEL_e110aab14fec437a9b2254ee3104222a"
      ],
      "layout": "IPY_MODEL_6c3bcb44ce4e47638379c3fd8926cd65"
     }
    },
    "cf2e91d62baf4382823111e457329aad": {
     "model_module": "@jupyter-widgets/controls",
     "model_module_version": "1.5.0",
     "model_name": "DescriptionStyleModel",
     "state": {
      "_model_module": "@jupyter-widgets/controls",
      "_model_module_version": "1.5.0",
      "_model_name": "DescriptionStyleModel",
      "_view_count": null,
      "_view_module": "@jupyter-widgets/base",
      "_view_module_version": "1.2.0",
      "_view_name": "StyleView",
      "description_width": ""
     }
    },
    "d14104b57d6f44f98980c1bd78a63104": {
     "model_module": "@jupyter-widgets/controls",
     "model_module_version": "1.5.0",
     "model_name": "HBoxModel",
     "state": {
      "_dom_classes": [],
      "_model_module": "@jupyter-widgets/controls",
      "_model_module_version": "1.5.0",
      "_model_name": "HBoxModel",
      "_view_count": null,
      "_view_module": "@jupyter-widgets/controls",
      "_view_module_version": "1.5.0",
      "_view_name": "HBoxView",
      "box_style": "",
      "children": [
       "IPY_MODEL_90e6d72da4f344519a470799201e50c7",
       "IPY_MODEL_e0329104d8ca4d16abf598107e0c1602",
       "IPY_MODEL_42bef8d35aa842ccadd29804c3536ba7"
      ],
      "layout": "IPY_MODEL_93ece2980b204d9bb32b61c50c8a0ccd"
     }
    },
    "d1843e32a58747988a1bc8b861f05e2a": {
     "model_module": "@jupyter-widgets/controls",
     "model_module_version": "1.5.0",
     "model_name": "HBoxModel",
     "state": {
      "_dom_classes": [],
      "_model_module": "@jupyter-widgets/controls",
      "_model_module_version": "1.5.0",
      "_model_name": "HBoxModel",
      "_view_count": null,
      "_view_module": "@jupyter-widgets/controls",
      "_view_module_version": "1.5.0",
      "_view_name": "HBoxView",
      "box_style": "",
      "children": [
       "IPY_MODEL_2a6ea8f5d51942c993baaa70b71c63f1",
       "IPY_MODEL_21529b4fd5b044d3a3020a329871f079",
       "IPY_MODEL_e9b80ac1c1c846b484ded4905a0ce559"
      ],
      "layout": "IPY_MODEL_8f88ae3b18424b7abc2a5bd1fe1c7fcf"
     }
    },
    "d23723ac9c354857b838e86fd5a4effb": {
     "model_module": "@jupyter-widgets/base",
     "model_module_version": "1.2.0",
     "model_name": "LayoutModel",
     "state": {
      "_model_module": "@jupyter-widgets/base",
      "_model_module_version": "1.2.0",
      "_model_name": "LayoutModel",
      "_view_count": null,
      "_view_module": "@jupyter-widgets/base",
      "_view_module_version": "1.2.0",
      "_view_name": "LayoutView",
      "align_content": null,
      "align_items": null,
      "align_self": null,
      "border": null,
      "bottom": null,
      "display": null,
      "flex": null,
      "flex_flow": null,
      "grid_area": null,
      "grid_auto_columns": null,
      "grid_auto_flow": null,
      "grid_auto_rows": null,
      "grid_column": null,
      "grid_gap": null,
      "grid_row": null,
      "grid_template_areas": null,
      "grid_template_columns": null,
      "grid_template_rows": null,
      "height": null,
      "justify_content": null,
      "justify_items": null,
      "left": null,
      "margin": null,
      "max_height": null,
      "max_width": null,
      "min_height": null,
      "min_width": null,
      "object_fit": null,
      "object_position": null,
      "order": null,
      "overflow": null,
      "overflow_x": null,
      "overflow_y": null,
      "padding": null,
      "right": null,
      "top": null,
      "visibility": null,
      "width": null
     }
    },
    "d2723be284c4466a8812e8824f4192d8": {
     "model_module": "@jupyter-widgets/base",
     "model_module_version": "1.2.0",
     "model_name": "LayoutModel",
     "state": {
      "_model_module": "@jupyter-widgets/base",
      "_model_module_version": "1.2.0",
      "_model_name": "LayoutModel",
      "_view_count": null,
      "_view_module": "@jupyter-widgets/base",
      "_view_module_version": "1.2.0",
      "_view_name": "LayoutView",
      "align_content": null,
      "align_items": null,
      "align_self": null,
      "border": null,
      "bottom": null,
      "display": null,
      "flex": null,
      "flex_flow": null,
      "grid_area": null,
      "grid_auto_columns": null,
      "grid_auto_flow": null,
      "grid_auto_rows": null,
      "grid_column": null,
      "grid_gap": null,
      "grid_row": null,
      "grid_template_areas": null,
      "grid_template_columns": null,
      "grid_template_rows": null,
      "height": null,
      "justify_content": null,
      "justify_items": null,
      "left": null,
      "margin": null,
      "max_height": null,
      "max_width": null,
      "min_height": null,
      "min_width": null,
      "object_fit": null,
      "object_position": null,
      "order": null,
      "overflow": null,
      "overflow_x": null,
      "overflow_y": null,
      "padding": null,
      "right": null,
      "top": null,
      "visibility": null,
      "width": null
     }
    },
    "d46bc3e69e784042bc65252fe309925f": {
     "model_module": "@jupyter-widgets/base",
     "model_module_version": "1.2.0",
     "model_name": "LayoutModel",
     "state": {
      "_model_module": "@jupyter-widgets/base",
      "_model_module_version": "1.2.0",
      "_model_name": "LayoutModel",
      "_view_count": null,
      "_view_module": "@jupyter-widgets/base",
      "_view_module_version": "1.2.0",
      "_view_name": "LayoutView",
      "align_content": null,
      "align_items": null,
      "align_self": null,
      "border": null,
      "bottom": null,
      "display": null,
      "flex": null,
      "flex_flow": null,
      "grid_area": null,
      "grid_auto_columns": null,
      "grid_auto_flow": null,
      "grid_auto_rows": null,
      "grid_column": null,
      "grid_gap": null,
      "grid_row": null,
      "grid_template_areas": null,
      "grid_template_columns": null,
      "grid_template_rows": null,
      "height": null,
      "justify_content": null,
      "justify_items": null,
      "left": null,
      "margin": null,
      "max_height": null,
      "max_width": null,
      "min_height": null,
      "min_width": null,
      "object_fit": null,
      "object_position": null,
      "order": null,
      "overflow": null,
      "overflow_x": null,
      "overflow_y": null,
      "padding": null,
      "right": null,
      "top": null,
      "visibility": null,
      "width": null
     }
    },
    "d48aaed90cc34a3db2d786776dcacf4d": {
     "model_module": "@jupyter-widgets/controls",
     "model_module_version": "1.5.0",
     "model_name": "FloatProgressModel",
     "state": {
      "_dom_classes": [],
      "_model_module": "@jupyter-widgets/controls",
      "_model_module_version": "1.5.0",
      "_model_name": "FloatProgressModel",
      "_view_count": null,
      "_view_module": "@jupyter-widgets/controls",
      "_view_module_version": "1.5.0",
      "_view_name": "ProgressView",
      "bar_style": "success",
      "description": "",
      "description_tooltip": null,
      "layout": "IPY_MODEL_28b3c84059944b349ed80b1cf92103f7",
      "max": 456318,
      "min": 0,
      "orientation": "horizontal",
      "style": "IPY_MODEL_9ffd8a91d47843ad8ad4606a3bfcf2b5",
      "value": 456318
     }
    },
    "d8e5b218b6f0488caeda92c178601db6": {
     "model_module": "@jupyter-widgets/controls",
     "model_module_version": "1.5.0",
     "model_name": "ProgressStyleModel",
     "state": {
      "_model_module": "@jupyter-widgets/controls",
      "_model_module_version": "1.5.0",
      "_model_name": "ProgressStyleModel",
      "_view_count": null,
      "_view_module": "@jupyter-widgets/base",
      "_view_module_version": "1.2.0",
      "_view_name": "StyleView",
      "bar_color": null,
      "description_width": ""
     }
    },
    "da8d130566f544d5882f9a7d3407c12f": {
     "model_module": "@jupyter-widgets/controls",
     "model_module_version": "1.5.0",
     "model_name": "HTMLModel",
     "state": {
      "_dom_classes": [],
      "_model_module": "@jupyter-widgets/controls",
      "_model_module_version": "1.5.0",
      "_model_name": "HTMLModel",
      "_view_count": null,
      "_view_module": "@jupyter-widgets/controls",
      "_view_module_version": "1.5.0",
      "_view_name": "HTMLView",
      "description": "",
      "description_tooltip": null,
      "layout": "IPY_MODEL_7fbbd6b8d7984a818ca044d9f672d722",
      "placeholder": "​",
      "style": "IPY_MODEL_ded9f57f553f45bf9e006ede2963abe3",
      "value": "Downloading: 100%"
     }
    },
    "dc5c362dcfac4f2eb73942c87d2235db": {
     "model_module": "@jupyter-widgets/controls",
     "model_module_version": "1.5.0",
     "model_name": "DescriptionStyleModel",
     "state": {
      "_model_module": "@jupyter-widgets/controls",
      "_model_module_version": "1.5.0",
      "_model_name": "DescriptionStyleModel",
      "_view_count": null,
      "_view_module": "@jupyter-widgets/base",
      "_view_module_version": "1.2.0",
      "_view_name": "StyleView",
      "description_width": ""
     }
    },
    "dde4c352aa8f4f4e92c64943e9382e00": {
     "model_module": "@jupyter-widgets/controls",
     "model_module_version": "1.5.0",
     "model_name": "ProgressStyleModel",
     "state": {
      "_model_module": "@jupyter-widgets/controls",
      "_model_module_version": "1.5.0",
      "_model_name": "ProgressStyleModel",
      "_view_count": null,
      "_view_module": "@jupyter-widgets/base",
      "_view_module_version": "1.2.0",
      "_view_name": "StyleView",
      "bar_color": null,
      "description_width": ""
     }
    },
    "ded9f57f553f45bf9e006ede2963abe3": {
     "model_module": "@jupyter-widgets/controls",
     "model_module_version": "1.5.0",
     "model_name": "DescriptionStyleModel",
     "state": {
      "_model_module": "@jupyter-widgets/controls",
      "_model_module_version": "1.5.0",
      "_model_name": "DescriptionStyleModel",
      "_view_count": null,
      "_view_module": "@jupyter-widgets/base",
      "_view_module_version": "1.2.0",
      "_view_name": "StyleView",
      "description_width": ""
     }
    },
    "e0329104d8ca4d16abf598107e0c1602": {
     "model_module": "@jupyter-widgets/controls",
     "model_module_version": "1.5.0",
     "model_name": "FloatProgressModel",
     "state": {
      "_dom_classes": [],
      "_model_module": "@jupyter-widgets/controls",
      "_model_module_version": "1.5.0",
      "_model_name": "FloatProgressModel",
      "_view_count": null,
      "_view_module": "@jupyter-widgets/controls",
      "_view_module_version": "1.5.0",
      "_view_name": "ProgressView",
      "bar_style": "success",
      "description": "",
      "description_tooltip": null,
      "layout": "IPY_MODEL_e900742be1a840689690b0d7b26ce6e2",
      "max": 231508,
      "min": 0,
      "orientation": "horizontal",
      "style": "IPY_MODEL_fde642c3002845d5a29062c3865f4206",
      "value": 231508
     }
    },
    "e095c92e43794ad5885a5fdad210343e": {
     "model_module": "@jupyter-widgets/base",
     "model_module_version": "1.2.0",
     "model_name": "LayoutModel",
     "state": {
      "_model_module": "@jupyter-widgets/base",
      "_model_module_version": "1.2.0",
      "_model_name": "LayoutModel",
      "_view_count": null,
      "_view_module": "@jupyter-widgets/base",
      "_view_module_version": "1.2.0",
      "_view_name": "LayoutView",
      "align_content": null,
      "align_items": null,
      "align_self": null,
      "border": null,
      "bottom": null,
      "display": null,
      "flex": null,
      "flex_flow": null,
      "grid_area": null,
      "grid_auto_columns": null,
      "grid_auto_flow": null,
      "grid_auto_rows": null,
      "grid_column": null,
      "grid_gap": null,
      "grid_row": null,
      "grid_template_areas": null,
      "grid_template_columns": null,
      "grid_template_rows": null,
      "height": null,
      "justify_content": null,
      "justify_items": null,
      "left": null,
      "margin": null,
      "max_height": null,
      "max_width": null,
      "min_height": null,
      "min_width": null,
      "object_fit": null,
      "object_position": null,
      "order": null,
      "overflow": null,
      "overflow_x": null,
      "overflow_y": null,
      "padding": null,
      "right": null,
      "top": null,
      "visibility": null,
      "width": null
     }
    },
    "e110aab14fec437a9b2254ee3104222a": {
     "model_module": "@jupyter-widgets/controls",
     "model_module_version": "1.5.0",
     "model_name": "HTMLModel",
     "state": {
      "_dom_classes": [],
      "_model_module": "@jupyter-widgets/controls",
      "_model_module_version": "1.5.0",
      "_model_name": "HTMLModel",
      "_view_count": null,
      "_view_module": "@jupyter-widgets/controls",
      "_view_module_version": "1.5.0",
      "_view_name": "HTMLView",
      "description": "",
      "description_tooltip": null,
      "layout": "IPY_MODEL_ca19fb7d5d8c4707bfdcd1135f8e3621",
      "placeholder": "​",
      "style": "IPY_MODEL_c73f385fe55144cda406044664154d32",
      "value": " 1.36M/1.36M [00:00&lt;00:00, 2.94MB/s]"
     }
    },
    "e1c2ab8d41484839921bbad490c06673": {
     "model_module": "@jupyter-widgets/controls",
     "model_module_version": "1.5.0",
     "model_name": "DescriptionStyleModel",
     "state": {
      "_model_module": "@jupyter-widgets/controls",
      "_model_module_version": "1.5.0",
      "_model_name": "DescriptionStyleModel",
      "_view_count": null,
      "_view_module": "@jupyter-widgets/base",
      "_view_module_version": "1.2.0",
      "_view_name": "StyleView",
      "description_width": ""
     }
    },
    "e41c010d717243bd8d1078f37ee1d080": {
     "model_module": "@jupyter-widgets/controls",
     "model_module_version": "1.5.0",
     "model_name": "FloatProgressModel",
     "state": {
      "_dom_classes": [],
      "_model_module": "@jupyter-widgets/controls",
      "_model_module_version": "1.5.0",
      "_model_name": "FloatProgressModel",
      "_view_count": null,
      "_view_module": "@jupyter-widgets/controls",
      "_view_module_version": "1.5.0",
      "_view_name": "ProgressView",
      "bar_style": "success",
      "description": "",
      "description_tooltip": null,
      "layout": "IPY_MODEL_a22e79b802614fa2be5f23b7e385a2ba",
      "max": 1355863,
      "min": 0,
      "orientation": "horizontal",
      "style": "IPY_MODEL_966a8f8c61924391bee495ed01fd3db0",
      "value": 1355863
     }
    },
    "e4580323c77a4407985286feb0dff721": {
     "model_module": "@jupyter-widgets/base",
     "model_module_version": "1.2.0",
     "model_name": "LayoutModel",
     "state": {
      "_model_module": "@jupyter-widgets/base",
      "_model_module_version": "1.2.0",
      "_model_name": "LayoutModel",
      "_view_count": null,
      "_view_module": "@jupyter-widgets/base",
      "_view_module_version": "1.2.0",
      "_view_name": "LayoutView",
      "align_content": null,
      "align_items": null,
      "align_self": null,
      "border": null,
      "bottom": null,
      "display": null,
      "flex": null,
      "flex_flow": null,
      "grid_area": null,
      "grid_auto_columns": null,
      "grid_auto_flow": null,
      "grid_auto_rows": null,
      "grid_column": null,
      "grid_gap": null,
      "grid_row": null,
      "grid_template_areas": null,
      "grid_template_columns": null,
      "grid_template_rows": null,
      "height": null,
      "justify_content": null,
      "justify_items": null,
      "left": null,
      "margin": null,
      "max_height": null,
      "max_width": null,
      "min_height": null,
      "min_width": null,
      "object_fit": null,
      "object_position": null,
      "order": null,
      "overflow": null,
      "overflow_x": null,
      "overflow_y": null,
      "padding": null,
      "right": null,
      "top": null,
      "visibility": null,
      "width": null
     }
    },
    "e518864b3f4b4b679ec28281713a1311": {
     "model_module": "@jupyter-widgets/base",
     "model_module_version": "1.2.0",
     "model_name": "LayoutModel",
     "state": {
      "_model_module": "@jupyter-widgets/base",
      "_model_module_version": "1.2.0",
      "_model_name": "LayoutModel",
      "_view_count": null,
      "_view_module": "@jupyter-widgets/base",
      "_view_module_version": "1.2.0",
      "_view_name": "LayoutView",
      "align_content": null,
      "align_items": null,
      "align_self": null,
      "border": null,
      "bottom": null,
      "display": null,
      "flex": null,
      "flex_flow": null,
      "grid_area": null,
      "grid_auto_columns": null,
      "grid_auto_flow": null,
      "grid_auto_rows": null,
      "grid_column": null,
      "grid_gap": null,
      "grid_row": null,
      "grid_template_areas": null,
      "grid_template_columns": null,
      "grid_template_rows": null,
      "height": null,
      "justify_content": null,
      "justify_items": null,
      "left": null,
      "margin": null,
      "max_height": null,
      "max_width": null,
      "min_height": null,
      "min_width": null,
      "object_fit": null,
      "object_position": null,
      "order": null,
      "overflow": null,
      "overflow_x": null,
      "overflow_y": null,
      "padding": null,
      "right": null,
      "top": null,
      "visibility": null,
      "width": null
     }
    },
    "e6096397d58e4fd789727d01cb1195ad": {
     "model_module": "@jupyter-widgets/controls",
     "model_module_version": "1.5.0",
     "model_name": "HBoxModel",
     "state": {
      "_dom_classes": [],
      "_model_module": "@jupyter-widgets/controls",
      "_model_module_version": "1.5.0",
      "_model_name": "HBoxModel",
      "_view_count": null,
      "_view_module": "@jupyter-widgets/controls",
      "_view_module_version": "1.5.0",
      "_view_name": "HBoxView",
      "box_style": "",
      "children": [
       "IPY_MODEL_c3a4f925137c42478a2a68dad6ffcfaa",
       "IPY_MODEL_fdfeb1ec72f949cbbe0a6be5057f9a43",
       "IPY_MODEL_f6bac3362218477484bbd94210c5bdbd"
      ],
      "layout": "IPY_MODEL_8ee620465ea248d79adbc817c923b0e7"
     }
    },
    "e8d4eaf7f266472ab48be52082e4c687": {
     "model_module": "@jupyter-widgets/controls",
     "model_module_version": "1.5.0",
     "model_name": "DescriptionStyleModel",
     "state": {
      "_model_module": "@jupyter-widgets/controls",
      "_model_module_version": "1.5.0",
      "_model_name": "DescriptionStyleModel",
      "_view_count": null,
      "_view_module": "@jupyter-widgets/base",
      "_view_module_version": "1.2.0",
      "_view_name": "StyleView",
      "description_width": ""
     }
    },
    "e900742be1a840689690b0d7b26ce6e2": {
     "model_module": "@jupyter-widgets/base",
     "model_module_version": "1.2.0",
     "model_name": "LayoutModel",
     "state": {
      "_model_module": "@jupyter-widgets/base",
      "_model_module_version": "1.2.0",
      "_model_name": "LayoutModel",
      "_view_count": null,
      "_view_module": "@jupyter-widgets/base",
      "_view_module_version": "1.2.0",
      "_view_name": "LayoutView",
      "align_content": null,
      "align_items": null,
      "align_self": null,
      "border": null,
      "bottom": null,
      "display": null,
      "flex": null,
      "flex_flow": null,
      "grid_area": null,
      "grid_auto_columns": null,
      "grid_auto_flow": null,
      "grid_auto_rows": null,
      "grid_column": null,
      "grid_gap": null,
      "grid_row": null,
      "grid_template_areas": null,
      "grid_template_columns": null,
      "grid_template_rows": null,
      "height": null,
      "justify_content": null,
      "justify_items": null,
      "left": null,
      "margin": null,
      "max_height": null,
      "max_width": null,
      "min_height": null,
      "min_width": null,
      "object_fit": null,
      "object_position": null,
      "order": null,
      "overflow": null,
      "overflow_x": null,
      "overflow_y": null,
      "padding": null,
      "right": null,
      "top": null,
      "visibility": null,
      "width": null
     }
    },
    "e9b80ac1c1c846b484ded4905a0ce559": {
     "model_module": "@jupyter-widgets/controls",
     "model_module_version": "1.5.0",
     "model_name": "HTMLModel",
     "state": {
      "_dom_classes": [],
      "_model_module": "@jupyter-widgets/controls",
      "_model_module_version": "1.5.0",
      "_model_name": "HTMLModel",
      "_view_count": null,
      "_view_module": "@jupyter-widgets/controls",
      "_view_module_version": "1.5.0",
      "_view_name": "HTMLView",
      "description": "",
      "description_tooltip": null,
      "layout": "IPY_MODEL_d23723ac9c354857b838e86fd5a4effb",
      "placeholder": "​",
      "style": "IPY_MODEL_492f7945da974cf0a9606925004af369",
      "value": " 29.0/29.0 [00:00&lt;00:00, 631B/s]"
     }
    },
    "ea93d7fd0a6d482e988f4aef157a7243": {
     "model_module": "@jupyter-widgets/controls",
     "model_module_version": "1.5.0",
     "model_name": "DescriptionStyleModel",
     "state": {
      "_model_module": "@jupyter-widgets/controls",
      "_model_module_version": "1.5.0",
      "_model_name": "DescriptionStyleModel",
      "_view_count": null,
      "_view_module": "@jupyter-widgets/base",
      "_view_module_version": "1.2.0",
      "_view_name": "StyleView",
      "description_width": ""
     }
    },
    "eb747f0e48d84336b7b5aa16f76cd735": {
     "model_module": "@jupyter-widgets/base",
     "model_module_version": "1.2.0",
     "model_name": "LayoutModel",
     "state": {
      "_model_module": "@jupyter-widgets/base",
      "_model_module_version": "1.2.0",
      "_model_name": "LayoutModel",
      "_view_count": null,
      "_view_module": "@jupyter-widgets/base",
      "_view_module_version": "1.2.0",
      "_view_name": "LayoutView",
      "align_content": null,
      "align_items": null,
      "align_self": null,
      "border": null,
      "bottom": null,
      "display": null,
      "flex": null,
      "flex_flow": null,
      "grid_area": null,
      "grid_auto_columns": null,
      "grid_auto_flow": null,
      "grid_auto_rows": null,
      "grid_column": null,
      "grid_gap": null,
      "grid_row": null,
      "grid_template_areas": null,
      "grid_template_columns": null,
      "grid_template_rows": null,
      "height": null,
      "justify_content": null,
      "justify_items": null,
      "left": null,
      "margin": null,
      "max_height": null,
      "max_width": null,
      "min_height": null,
      "min_width": null,
      "object_fit": null,
      "object_position": null,
      "order": null,
      "overflow": null,
      "overflow_x": null,
      "overflow_y": null,
      "padding": null,
      "right": null,
      "top": null,
      "visibility": null,
      "width": null
     }
    },
    "ebdfabea591546e99ca228698183e538": {
     "model_module": "@jupyter-widgets/base",
     "model_module_version": "1.2.0",
     "model_name": "LayoutModel",
     "state": {
      "_model_module": "@jupyter-widgets/base",
      "_model_module_version": "1.2.0",
      "_model_name": "LayoutModel",
      "_view_count": null,
      "_view_module": "@jupyter-widgets/base",
      "_view_module_version": "1.2.0",
      "_view_name": "LayoutView",
      "align_content": null,
      "align_items": null,
      "align_self": null,
      "border": null,
      "bottom": null,
      "display": null,
      "flex": null,
      "flex_flow": null,
      "grid_area": null,
      "grid_auto_columns": null,
      "grid_auto_flow": null,
      "grid_auto_rows": null,
      "grid_column": null,
      "grid_gap": null,
      "grid_row": null,
      "grid_template_areas": null,
      "grid_template_columns": null,
      "grid_template_rows": null,
      "height": null,
      "justify_content": null,
      "justify_items": null,
      "left": null,
      "margin": null,
      "max_height": null,
      "max_width": null,
      "min_height": null,
      "min_width": null,
      "object_fit": null,
      "object_position": null,
      "order": null,
      "overflow": null,
      "overflow_x": null,
      "overflow_y": null,
      "padding": null,
      "right": null,
      "top": null,
      "visibility": null,
      "width": null
     }
    },
    "ec0c54deef63444d98ffe42290717c41": {
     "model_module": "@jupyter-widgets/base",
     "model_module_version": "1.2.0",
     "model_name": "LayoutModel",
     "state": {
      "_model_module": "@jupyter-widgets/base",
      "_model_module_version": "1.2.0",
      "_model_name": "LayoutModel",
      "_view_count": null,
      "_view_module": "@jupyter-widgets/base",
      "_view_module_version": "1.2.0",
      "_view_name": "LayoutView",
      "align_content": null,
      "align_items": null,
      "align_self": null,
      "border": null,
      "bottom": null,
      "display": null,
      "flex": null,
      "flex_flow": null,
      "grid_area": null,
      "grid_auto_columns": null,
      "grid_auto_flow": null,
      "grid_auto_rows": null,
      "grid_column": null,
      "grid_gap": null,
      "grid_row": null,
      "grid_template_areas": null,
      "grid_template_columns": null,
      "grid_template_rows": null,
      "height": null,
      "justify_content": null,
      "justify_items": null,
      "left": null,
      "margin": null,
      "max_height": null,
      "max_width": null,
      "min_height": null,
      "min_width": null,
      "object_fit": null,
      "object_position": null,
      "order": null,
      "overflow": null,
      "overflow_x": null,
      "overflow_y": null,
      "padding": null,
      "right": null,
      "top": null,
      "visibility": null,
      "width": null
     }
    },
    "ee293a67a6f84f59b228fddb8c33d870": {
     "model_module": "@jupyter-widgets/controls",
     "model_module_version": "1.5.0",
     "model_name": "DescriptionStyleModel",
     "state": {
      "_model_module": "@jupyter-widgets/controls",
      "_model_module_version": "1.5.0",
      "_model_name": "DescriptionStyleModel",
      "_view_count": null,
      "_view_module": "@jupyter-widgets/base",
      "_view_module_version": "1.2.0",
      "_view_name": "StyleView",
      "description_width": ""
     }
    },
    "ee54d25c991440a69b3408f7e9341186": {
     "model_module": "@jupyter-widgets/base",
     "model_module_version": "1.2.0",
     "model_name": "LayoutModel",
     "state": {
      "_model_module": "@jupyter-widgets/base",
      "_model_module_version": "1.2.0",
      "_model_name": "LayoutModel",
      "_view_count": null,
      "_view_module": "@jupyter-widgets/base",
      "_view_module_version": "1.2.0",
      "_view_name": "LayoutView",
      "align_content": null,
      "align_items": null,
      "align_self": null,
      "border": null,
      "bottom": null,
      "display": null,
      "flex": null,
      "flex_flow": null,
      "grid_area": null,
      "grid_auto_columns": null,
      "grid_auto_flow": null,
      "grid_auto_rows": null,
      "grid_column": null,
      "grid_gap": null,
      "grid_row": null,
      "grid_template_areas": null,
      "grid_template_columns": null,
      "grid_template_rows": null,
      "height": null,
      "justify_content": null,
      "justify_items": null,
      "left": null,
      "margin": null,
      "max_height": null,
      "max_width": null,
      "min_height": null,
      "min_width": null,
      "object_fit": null,
      "object_position": null,
      "order": null,
      "overflow": null,
      "overflow_x": null,
      "overflow_y": null,
      "padding": null,
      "right": null,
      "top": null,
      "visibility": null,
      "width": null
     }
    },
    "eea58682a9064d48a3b25f1fb8177c9e": {
     "model_module": "@jupyter-widgets/controls",
     "model_module_version": "1.5.0",
     "model_name": "ProgressStyleModel",
     "state": {
      "_model_module": "@jupyter-widgets/controls",
      "_model_module_version": "1.5.0",
      "_model_name": "ProgressStyleModel",
      "_view_count": null,
      "_view_module": "@jupyter-widgets/base",
      "_view_module_version": "1.2.0",
      "_view_name": "StyleView",
      "bar_color": null,
      "description_width": ""
     }
    },
    "f2c26f72cc9d4fe48ac880db321b0fea": {
     "model_module": "@jupyter-widgets/controls",
     "model_module_version": "1.5.0",
     "model_name": "DescriptionStyleModel",
     "state": {
      "_model_module": "@jupyter-widgets/controls",
      "_model_module_version": "1.5.0",
      "_model_name": "DescriptionStyleModel",
      "_view_count": null,
      "_view_module": "@jupyter-widgets/base",
      "_view_module_version": "1.2.0",
      "_view_name": "StyleView",
      "description_width": ""
     }
    },
    "f31ad66973004efa932c6179df955678": {
     "model_module": "@jupyter-widgets/base",
     "model_module_version": "1.2.0",
     "model_name": "LayoutModel",
     "state": {
      "_model_module": "@jupyter-widgets/base",
      "_model_module_version": "1.2.0",
      "_model_name": "LayoutModel",
      "_view_count": null,
      "_view_module": "@jupyter-widgets/base",
      "_view_module_version": "1.2.0",
      "_view_name": "LayoutView",
      "align_content": null,
      "align_items": null,
      "align_self": null,
      "border": null,
      "bottom": null,
      "display": null,
      "flex": null,
      "flex_flow": null,
      "grid_area": null,
      "grid_auto_columns": null,
      "grid_auto_flow": null,
      "grid_auto_rows": null,
      "grid_column": null,
      "grid_gap": null,
      "grid_row": null,
      "grid_template_areas": null,
      "grid_template_columns": null,
      "grid_template_rows": null,
      "height": null,
      "justify_content": null,
      "justify_items": null,
      "left": null,
      "margin": null,
      "max_height": null,
      "max_width": null,
      "min_height": null,
      "min_width": null,
      "object_fit": null,
      "object_position": null,
      "order": null,
      "overflow": null,
      "overflow_x": null,
      "overflow_y": null,
      "padding": null,
      "right": null,
      "top": null,
      "visibility": null,
      "width": null
     }
    },
    "f35bb323d2c64d279cb14f9beac892d6": {
     "model_module": "@jupyter-widgets/base",
     "model_module_version": "1.2.0",
     "model_name": "LayoutModel",
     "state": {
      "_model_module": "@jupyter-widgets/base",
      "_model_module_version": "1.2.0",
      "_model_name": "LayoutModel",
      "_view_count": null,
      "_view_module": "@jupyter-widgets/base",
      "_view_module_version": "1.2.0",
      "_view_name": "LayoutView",
      "align_content": null,
      "align_items": null,
      "align_self": null,
      "border": null,
      "bottom": null,
      "display": null,
      "flex": null,
      "flex_flow": null,
      "grid_area": null,
      "grid_auto_columns": null,
      "grid_auto_flow": null,
      "grid_auto_rows": null,
      "grid_column": null,
      "grid_gap": null,
      "grid_row": null,
      "grid_template_areas": null,
      "grid_template_columns": null,
      "grid_template_rows": null,
      "height": null,
      "justify_content": null,
      "justify_items": null,
      "left": null,
      "margin": null,
      "max_height": null,
      "max_width": null,
      "min_height": null,
      "min_width": null,
      "object_fit": null,
      "object_position": null,
      "order": null,
      "overflow": null,
      "overflow_x": null,
      "overflow_y": null,
      "padding": null,
      "right": null,
      "top": null,
      "visibility": null,
      "width": null
     }
    },
    "f365d24d3b274318bba22aea9e2868b3": {
     "model_module": "@jupyter-widgets/controls",
     "model_module_version": "1.5.0",
     "model_name": "ProgressStyleModel",
     "state": {
      "_model_module": "@jupyter-widgets/controls",
      "_model_module_version": "1.5.0",
      "_model_name": "ProgressStyleModel",
      "_view_count": null,
      "_view_module": "@jupyter-widgets/base",
      "_view_module_version": "1.2.0",
      "_view_name": "StyleView",
      "bar_color": null,
      "description_width": ""
     }
    },
    "f5e010e8b419439d963fb76ce5f3f326": {
     "model_module": "@jupyter-widgets/controls",
     "model_module_version": "1.5.0",
     "model_name": "FloatProgressModel",
     "state": {
      "_dom_classes": [],
      "_model_module": "@jupyter-widgets/controls",
      "_model_module_version": "1.5.0",
      "_model_name": "FloatProgressModel",
      "_view_count": null,
      "_view_module": "@jupyter-widgets/controls",
      "_view_module_version": "1.5.0",
      "_view_name": "ProgressView",
      "bar_style": "success",
      "description": "",
      "description_tooltip": null,
      "layout": "IPY_MODEL_a0421322b42d4ca580977d72bce50d4a",
      "max": 526681800,
      "min": 0,
      "orientation": "horizontal",
      "style": "IPY_MODEL_77c824a6926e4af587a71595e85aa798",
      "value": 526681800
     }
    },
    "f6bac3362218477484bbd94210c5bdbd": {
     "model_module": "@jupyter-widgets/controls",
     "model_module_version": "1.5.0",
     "model_name": "HTMLModel",
     "state": {
      "_dom_classes": [],
      "_model_module": "@jupyter-widgets/controls",
      "_model_module_version": "1.5.0",
      "_model_name": "HTMLModel",
      "_view_count": null,
      "_view_module": "@jupyter-widgets/controls",
      "_view_module_version": "1.5.0",
      "_view_name": "HTMLView",
      "description": "",
      "description_tooltip": null,
      "layout": "IPY_MODEL_a13ede328b904c85bc19985a4f844cdc",
      "placeholder": "​",
      "style": "IPY_MODEL_cd2e28fee4f343d08dbefeb6be42c8b0",
      "value": " 657M/657M [00:18&lt;00:00, 33.5MB/s]"
     }
    },
    "f6eda69bb28349bdb7046efd75eaecb3": {
     "model_module": "@jupyter-widgets/controls",
     "model_module_version": "1.5.0",
     "model_name": "DescriptionStyleModel",
     "state": {
      "_model_module": "@jupyter-widgets/controls",
      "_model_module_version": "1.5.0",
      "_model_name": "DescriptionStyleModel",
      "_view_count": null,
      "_view_module": "@jupyter-widgets/base",
      "_view_module_version": "1.2.0",
      "_view_name": "StyleView",
      "description_width": ""
     }
    },
    "f7581b322d3f47a9bf79c13172ed0925": {
     "model_module": "@jupyter-widgets/controls",
     "model_module_version": "1.5.0",
     "model_name": "ProgressStyleModel",
     "state": {
      "_model_module": "@jupyter-widgets/controls",
      "_model_module_version": "1.5.0",
      "_model_name": "ProgressStyleModel",
      "_view_count": null,
      "_view_module": "@jupyter-widgets/base",
      "_view_module_version": "1.2.0",
      "_view_name": "StyleView",
      "bar_color": null,
      "description_width": ""
     }
    },
    "f9acf05dcacc4e8087332621ee6a0c6f": {
     "model_module": "@jupyter-widgets/controls",
     "model_module_version": "1.5.0",
     "model_name": "DescriptionStyleModel",
     "state": {
      "_model_module": "@jupyter-widgets/controls",
      "_model_module_version": "1.5.0",
      "_model_name": "DescriptionStyleModel",
      "_view_count": null,
      "_view_module": "@jupyter-widgets/base",
      "_view_module_version": "1.2.0",
      "_view_name": "StyleView",
      "description_width": ""
     }
    },
    "faf0e3022e7e40c2b0cc77b58d30fa6f": {
     "model_module": "@jupyter-widgets/controls",
     "model_module_version": "1.5.0",
     "model_name": "HBoxModel",
     "state": {
      "_dom_classes": [],
      "_model_module": "@jupyter-widgets/controls",
      "_model_module_version": "1.5.0",
      "_model_name": "HBoxModel",
      "_view_count": null,
      "_view_module": "@jupyter-widgets/controls",
      "_view_module_version": "1.5.0",
      "_view_name": "HBoxView",
      "box_style": "",
      "children": [
       "IPY_MODEL_9bba8d6e420c471fa213dbfc9e0efa31",
       "IPY_MODEL_63a72a34d55d4e68ba84f34de7747d67",
       "IPY_MODEL_19d58ba36487454bae2feca5d040ee15"
      ],
      "layout": "IPY_MODEL_213980a23f6045bf9920d2dd7f63732c"
     }
    },
    "fd2b879139364195be86b7451f9862fd": {
     "model_module": "@jupyter-widgets/controls",
     "model_module_version": "1.5.0",
     "model_name": "DescriptionStyleModel",
     "state": {
      "_model_module": "@jupyter-widgets/controls",
      "_model_module_version": "1.5.0",
      "_model_name": "DescriptionStyleModel",
      "_view_count": null,
      "_view_module": "@jupyter-widgets/base",
      "_view_module_version": "1.2.0",
      "_view_name": "StyleView",
      "description_width": ""
     }
    },
    "fd575606edec48ebbd8f50af04e23c79": {
     "model_module": "@jupyter-widgets/controls",
     "model_module_version": "1.5.0",
     "model_name": "FloatProgressModel",
     "state": {
      "_dom_classes": [],
      "_model_module": "@jupyter-widgets/controls",
      "_model_module_version": "1.5.0",
      "_model_name": "FloatProgressModel",
      "_view_count": null,
      "_view_module": "@jupyter-widgets/controls",
      "_view_module_version": "1.5.0",
      "_view_name": "ProgressView",
      "bar_style": "success",
      "description": "",
      "description_tooltip": null,
      "layout": "IPY_MODEL_bfeab23a522a405fb0f5a3bb575bef84",
      "max": 665,
      "min": 0,
      "orientation": "horizontal",
      "style": "IPY_MODEL_2976e76c98db4ca3ad25d7de60c32178",
      "value": 665
     }
    },
    "fde642c3002845d5a29062c3865f4206": {
     "model_module": "@jupyter-widgets/controls",
     "model_module_version": "1.5.0",
     "model_name": "ProgressStyleModel",
     "state": {
      "_model_module": "@jupyter-widgets/controls",
      "_model_module_version": "1.5.0",
      "_model_name": "ProgressStyleModel",
      "_view_count": null,
      "_view_module": "@jupyter-widgets/base",
      "_view_module_version": "1.2.0",
      "_view_name": "StyleView",
      "bar_color": null,
      "description_width": ""
     }
    },
    "fdfeb1ec72f949cbbe0a6be5057f9a43": {
     "model_module": "@jupyter-widgets/controls",
     "model_module_version": "1.5.0",
     "model_name": "FloatProgressModel",
     "state": {
      "_dom_classes": [],
      "_model_module": "@jupyter-widgets/controls",
      "_model_module_version": "1.5.0",
      "_model_name": "FloatProgressModel",
      "_view_count": null,
      "_view_module": "@jupyter-widgets/controls",
      "_view_module_version": "1.5.0",
      "_view_name": "ProgressView",
      "bar_style": "success",
      "description": "",
      "description_tooltip": null,
      "layout": "IPY_MODEL_8e7b72a451c84966b99be0a1275ccf4f",
      "max": 657434796,
      "min": 0,
      "orientation": "horizontal",
      "style": "IPY_MODEL_71fc5cf77add46d9981ffe63d3d993c2",
      "value": 657434796
     }
    }
   }
  }
 },
 "nbformat": 4,
 "nbformat_minor": 5
}
